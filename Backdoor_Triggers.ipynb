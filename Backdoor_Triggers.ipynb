{
  "cells": [
    {
      "cell_type": "code",
      "execution_count": 1,
      "metadata": {
        "id": "XH4ZPILkMO0a"
      },
      "outputs": [],
      "source": [
        "import torch\n",
        "import torch.nn as nn\n",
        "import torch.optim as optim\n",
        "from torch.utils.data import Dataset, DataLoader\n",
        "from torchvision import datasets, transforms\n",
        "from torchvision.models import resnet18\n",
        "import random\n",
        "import matplotlib.pyplot as plt\n",
        "import numpy as np"
      ]
    },
    {
      "cell_type": "markdown",
      "metadata": {
        "id": "twRIbdK6NaO2"
      },
      "source": [
        "## Data Loading"
      ]
    },
    {
      "cell_type": "code",
      "execution_count": null,
      "metadata": {
        "id": "mDNFS4orNZ0n"
      },
      "outputs": [],
      "source": [
        "# Define the transformations to apply to the train and test set\n",
        "transform_train = transforms.Compose([\n",
        "    transforms.RandomHorizontalFlip(p=0.5),\n",
        "    transforms.Pad(padding=4),\n",
        "    transforms.RandomCrop(28),\n",
        "    transforms.ToTensor()\n",
        "])\n",
        "\n",
        "transform_test = transforms.Compose([\n",
        "    transforms.Resize(28),\n",
        "    transforms.ToTensor()\n",
        "])"
      ]
    },
    {
      "cell_type": "code",
      "source": [
        "#Load MNIST data applying the defined transformations\n",
        "mnist_train_raw = datasets.MNIST(root='./data', train=True, download=True, transform = transform_train)\n",
        "mnist_test_raw = datasets.MNIST(root='./data', train=False, download=True, transform = transform_test)\n",
        "\n",
        "train_loader_mnist = DataLoader(mnist_train_raw, batch_size=128, shuffle=True)\n",
        "test_loader_mnist = DataLoader(mnist_test_raw, batch_size=128, shuffle=False)"
      ],
      "metadata": {
        "id": "uCUnZHkUrIO7",
        "colab": {
          "base_uri": "https://localhost:8080/"
        },
        "outputId": "7692230e-0291-42a2-8c30-9a97c57b3f31"
      },
      "execution_count": null,
      "outputs": [
        {
          "output_type": "stream",
          "name": "stderr",
          "text": [
            "100%|██████████| 9.91M/9.91M [00:00<00:00, 18.2MB/s]\n",
            "100%|██████████| 28.9k/28.9k [00:00<00:00, 483kB/s]\n",
            "100%|██████████| 1.65M/1.65M [00:00<00:00, 3.88MB/s]\n",
            "100%|██████████| 4.54k/4.54k [00:00<00:00, 6.36MB/s]\n"
          ]
        }
      ]
    },
    {
      "cell_type": "code",
      "source": [
        "#Load CIFAR10 data applying the defined transformations\n",
        "cifar10_train_raw = datasets.CIFAR10(root='./data', train=True, download=True, transform = transform_train)\n",
        "cifar10_test_raw = datasets.CIFAR10(root='./data', train=False, download=True, transform = transform_test)\n",
        "\n",
        "train_loader_cifar10 = DataLoader(cifar10_train_raw, batch_size=128, shuffle=True)\n",
        "test_loader_cifar10 = DataLoader(cifar10_test_raw, batch_size=128, shuffle=False)"
      ],
      "metadata": {
        "id": "_ddz5Hjz-NoU",
        "colab": {
          "base_uri": "https://localhost:8080/"
        },
        "outputId": "d128cf30-721f-4ee7-a4d8-8b55cf4f1c6a"
      },
      "execution_count": null,
      "outputs": [
        {
          "output_type": "stream",
          "name": "stderr",
          "text": [
            "100%|██████████| 170M/170M [00:03<00:00, 49.1MB/s]\n"
          ]
        }
      ]
    },
    {
      "cell_type": "markdown",
      "metadata": {
        "id": "kc1l7M7tJ1cQ"
      },
      "source": [
        "# CNN for MNIST Architecture: 2 convolution layers and 2 fully connected layers."
      ]
    },
    {
      "cell_type": "code",
      "execution_count": null,
      "metadata": {
        "colab": {
          "base_uri": "https://localhost:8080/"
        },
        "id": "HhxO0vHdJ3Ro",
        "outputId": "fcbc0de6-fd2e-4967-cd8b-97eedbd30913"
      },
      "outputs": [
        {
          "output_type": "stream",
          "name": "stdout",
          "text": [
            "CNN_MNIST(\n",
            "  (conv1): Conv2d(1, 16, kernel_size=(3, 3), stride=(1, 1), padding=(1, 1))\n",
            "  (conv2): Conv2d(16, 32, kernel_size=(3, 3), stride=(1, 1), padding=(1, 1))\n",
            "  (pool): MaxPool2d(kernel_size=2, stride=2, padding=0, dilation=1, ceil_mode=False)\n",
            "  (fc1): Linear(in_features=1568, out_features=128, bias=True)\n",
            "  (fc2): Linear(in_features=128, out_features=10, bias=True)\n",
            ")\n"
          ]
        }
      ],
      "source": [
        "class CNN_MNIST(nn.Module):\n",
        "    def __init__(self):\n",
        "        super(CNN_MNIST, self).__init__()\n",
        "\n",
        "        # Convolutional Layer 1:\n",
        "        self.conv1 = nn.Conv2d(\n",
        "            in_channels=1,   # Grayscale image has 1 channel\n",
        "            out_channels=16, # 16 feature maps\n",
        "            kernel_size=3,   # 3x3 filter size\n",
        "            stride=1,        # Moves 1 pixel at a time\n",
        "            padding=1        # 1 pixel padding on each side to maintain size\n",
        "        )\n",
        "\n",
        "        # Convolutional Layer 2:\n",
        "        self.conv2 = nn.Conv2d(\n",
        "            in_channels=16,  # 16 input channels from previous layer\n",
        "            out_channels=32, # 32 feature maps\n",
        "            kernel_size=3,   # 3x3 filter size\n",
        "            stride=1,        # Moves 1 pixel at a time\n",
        "            padding=1        # 1 pixel padding to maintain size\n",
        "        )\n",
        "\n",
        "        # Pooling Layer (MaxPooling)\n",
        "        self.pool = nn.MaxPool2d(\n",
        "            kernel_size=2,   # 2x2 pooling region\n",
        "            stride=2         # Reduces size by half\n",
        "        )\n",
        "\n",
        "        # Fully Connected (Linear) Layers:\n",
        "        self.fc1 = nn.Linear(32 * 7 * 7, 128)  # 32 channels of 7x7 (after pooling)\n",
        "        self.fc2 = nn.Linear(128, 10)          # 10 output neurons (10 classes)\n",
        "\n",
        "    def forward(self, x):\n",
        "        # 1. First Convolutional Layer + ReLU Activation + MaxPooling\n",
        "        x = self.pool(torch.relu(self.conv1(x)))\n",
        "\n",
        "        # 2. Second Convolutional Layer + ReLU Activation + MaxPooling\n",
        "        x = self.pool(torch.relu(self.conv2(x)))\n",
        "\n",
        "        # 3. Flatten the Feature Maps for the Fully Connected Layers\n",
        "        x = x.view(-1, 32 * 7 * 7)  # (Batch Size, Flattened Features)\n",
        "\n",
        "        # 4. First Fully Connected Layer + ReLU\n",
        "        x = torch.relu(self.fc1(x))\n",
        "\n",
        "        # 5. Second Fully Connected Layer (Output)\n",
        "        x = self.fc2(x)\n",
        "        return x\n",
        "\n",
        "# Initialize the model\n",
        "model = CNN_MNIST()\n",
        "print(model)"
      ]
    },
    {
      "cell_type": "markdown",
      "source": [
        "Predicting on clean MNIST with a model trained on legitimate data"
      ],
      "metadata": {
        "id": "nXgTtgj1PDWw"
      }
    },
    {
      "cell_type": "code",
      "execution_count": null,
      "metadata": {
        "colab": {
          "base_uri": "https://localhost:8080/"
        },
        "id": "O38lqRiGU85t",
        "outputId": "4f3fd8ab-fbca-404c-c4bd-60fcfc616cc8"
      },
      "outputs": [
        {
          "output_type": "stream",
          "name": "stdout",
          "text": [
            "Epoch [1/15], Loss: 0.8060\n",
            "Epoch [2/15], Loss: 0.3555\n",
            "Epoch [3/15], Loss: 0.2552\n",
            "Epoch [4/15], Loss: 0.1995\n",
            "Epoch [5/15], Loss: 0.1716\n",
            "Epoch [6/15], Loss: 0.1475\n",
            "Epoch [7/15], Loss: 0.1376\n",
            "Epoch [8/15], Loss: 0.1241\n",
            "Epoch [9/15], Loss: 0.1141\n",
            "Epoch [10/15], Loss: 0.1090\n",
            "Epoch [11/15], Loss: 0.1019\n",
            "Epoch [12/15], Loss: 0.0970\n",
            "Epoch [13/15], Loss: 0.0924\n",
            "Epoch [14/15], Loss: 0.0882\n",
            "Epoch [15/15], Loss: 0.0839\n"
          ]
        }
      ],
      "source": [
        "device = torch.device('cuda' if torch.cuda.is_available() else 'cpu')\n",
        "model = CNN_MNIST().to(device)\n",
        "criterion = nn.CrossEntropyLoss()\n",
        "optimizer = optim.Adam(model.parameters(), lr=0.001)\n",
        "\n",
        "num_epochs = 15\n",
        "for epoch in range(num_epochs):\n",
        "    model.train()\n",
        "    running_loss = 0.0\n",
        "    for inputs, labels in train_loader_mnist:\n",
        "        inputs, labels = inputs.to(device), labels.to(device)\n",
        "        optimizer.zero_grad()\n",
        "        outputs = model(inputs)\n",
        "        loss = criterion(outputs, labels)\n",
        "        loss.backward()\n",
        "        optimizer.step()\n",
        "        running_loss += loss.item()\n",
        "    print(f\"Epoch [{epoch+1}/{num_epochs}], Loss: {running_loss/len(train_loader_mnist):.4f}\")"
      ]
    },
    {
      "cell_type": "code",
      "execution_count": null,
      "metadata": {
        "colab": {
          "base_uri": "https://localhost:8080/"
        },
        "id": "IJGfd9KbYv5l",
        "outputId": "1d482e81-6f1d-4e1a-ff8d-1045c6fb1a6d"
      },
      "outputs": [
        {
          "output_type": "stream",
          "name": "stdout",
          "text": [
            "Evaluating on clean test set:\n",
            "Clean Accuracy: 97.79%\n"
          ]
        }
      ],
      "source": [
        "def evaluate_model(model, test_loader, device):\n",
        "    model.eval()\n",
        "    correct = 0\n",
        "    total = 0\n",
        "    with torch.no_grad():\n",
        "        for inputs, labels in test_loader_mnist:\n",
        "            inputs, labels = inputs.to(device), labels.to(device)\n",
        "            outputs = model(inputs)\n",
        "            _, preds = torch.max(outputs, 1)\n",
        "            correct += (preds == labels).sum().item()\n",
        "            total += labels.size(0)\n",
        "    print(f\"Clean Accuracy: {100 * correct / total:.2f}%\")\n",
        "\n",
        "print(\"Evaluating on clean test set:\")\n",
        "evaluate_model(model, test_loader_mnist, device)"
      ]
    },
    {
      "cell_type": "code",
      "source": [
        "torch.save(model.state_dict(), \"CNN_Mnist_TrainedonCleanData.pth\")"
      ],
      "metadata": {
        "id": "HbIHSn3pqHzg"
      },
      "execution_count": null,
      "outputs": []
    },
    {
      "cell_type": "markdown",
      "metadata": {
        "id": "mSHXzVOTaxVu"
      },
      "source": [
        "# CNN for CIFAR10 Architecture: \"MiniVGG-19\" , 6 convolutional and 1 fully connected layer"
      ]
    },
    {
      "cell_type": "code",
      "execution_count": null,
      "metadata": {
        "colab": {
          "base_uri": "https://localhost:8080/"
        },
        "id": "oP-6Yq3jbBlP",
        "outputId": "216c5582-cf91-4c4d-df84-e0035f94e6ef"
      },
      "outputs": [
        {
          "output_type": "stream",
          "name": "stdout",
          "text": [
            "MiniVGG(\n",
            "  (features): Sequential(\n",
            "    (0): Conv2d(3, 64, kernel_size=(3, 3), stride=(1, 1), padding=(1, 1))\n",
            "    (1): BatchNorm2d(64, eps=1e-05, momentum=0.1, affine=True, track_running_stats=True)\n",
            "    (2): ReLU(inplace=True)\n",
            "    (3): Conv2d(64, 64, kernel_size=(3, 3), stride=(1, 1), padding=(1, 1))\n",
            "    (4): BatchNorm2d(64, eps=1e-05, momentum=0.1, affine=True, track_running_stats=True)\n",
            "    (5): ReLU(inplace=True)\n",
            "    (6): MaxPool2d(kernel_size=2, stride=2, padding=0, dilation=1, ceil_mode=False)\n",
            "    (7): Conv2d(64, 128, kernel_size=(3, 3), stride=(1, 1), padding=(1, 1))\n",
            "    (8): BatchNorm2d(128, eps=1e-05, momentum=0.1, affine=True, track_running_stats=True)\n",
            "    (9): ReLU(inplace=True)\n",
            "    (10): Conv2d(128, 128, kernel_size=(3, 3), stride=(1, 1), padding=(1, 1))\n",
            "    (11): BatchNorm2d(128, eps=1e-05, momentum=0.1, affine=True, track_running_stats=True)\n",
            "    (12): ReLU(inplace=True)\n",
            "    (13): MaxPool2d(kernel_size=2, stride=2, padding=0, dilation=1, ceil_mode=False)\n",
            "    (14): Conv2d(128, 256, kernel_size=(3, 3), stride=(1, 1), padding=(1, 1))\n",
            "    (15): BatchNorm2d(256, eps=1e-05, momentum=0.1, affine=True, track_running_stats=True)\n",
            "    (16): ReLU(inplace=True)\n",
            "    (17): Conv2d(256, 256, kernel_size=(3, 3), stride=(1, 1), padding=(1, 1))\n",
            "    (18): BatchNorm2d(256, eps=1e-05, momentum=0.1, affine=True, track_running_stats=True)\n",
            "    (19): ReLU(inplace=True)\n",
            "    (20): MaxPool2d(kernel_size=2, stride=2, padding=0, dilation=1, ceil_mode=False)\n",
            "  )\n",
            "  (classifier): Sequential(\n",
            "    (0): Linear(in_features=4096, out_features=512, bias=True)\n",
            "    (1): ReLU(inplace=True)\n",
            "    (2): Dropout(p=0.5, inplace=False)\n",
            "    (3): Linear(in_features=512, out_features=10, bias=True)\n",
            "  )\n",
            ")\n"
          ]
        }
      ],
      "source": [
        "class MiniVGG(nn.Module):\n",
        "    def __init__(self, num_classes=10):\n",
        "        super(MiniVGG, self).__init__()\n",
        "\n",
        "        self.features = nn.Sequential(\n",
        "            # Block 1\n",
        "            nn.Conv2d(3, 64, kernel_size=3, padding=1),\n",
        "            nn.BatchNorm2d(64),\n",
        "            nn.ReLU(inplace=True),\n",
        "            nn.Conv2d(64, 64, kernel_size=3, padding=1),\n",
        "            nn.BatchNorm2d(64),\n",
        "            nn.ReLU(inplace=True),\n",
        "            nn.MaxPool2d(kernel_size=2, stride=2),  # 32x32 -> 16x16\n",
        "\n",
        "            # Block 2\n",
        "            nn.Conv2d(64, 128, kernel_size=3, padding=1),\n",
        "            nn.BatchNorm2d(128),\n",
        "            nn.ReLU(inplace=True),\n",
        "            nn.Conv2d(128, 128, kernel_size=3, padding=1),\n",
        "            nn.BatchNorm2d(128),\n",
        "            nn.ReLU(inplace=True),\n",
        "            nn.MaxPool2d(kernel_size=2, stride=2),  # 16x16 -> 8x8\n",
        "\n",
        "            # Block 3\n",
        "            nn.Conv2d(128, 256, kernel_size=3, padding=1),\n",
        "            nn.BatchNorm2d(256),\n",
        "            nn.ReLU(inplace=True),\n",
        "            nn.Conv2d(256, 256, kernel_size=3, padding=1),\n",
        "            nn.BatchNorm2d(256),\n",
        "            nn.ReLU(inplace=True),\n",
        "            nn.MaxPool2d(kernel_size=2, stride=2)  # 8x8 -> 4x4\n",
        "        )\n",
        "\n",
        "        # Fully Connected Layer - Dynamically Adjusted\n",
        "        self.classifier = nn.Sequential(\n",
        "            nn.Linear(256 * 4 * 4, 512),  # Increased FC layer size\n",
        "            nn.ReLU(True),\n",
        "            nn.Dropout(0.5),\n",
        "            nn.Linear(512, num_classes)\n",
        "        )\n",
        "\n",
        "    def forward(self, x):\n",
        "        x = self.features(x)\n",
        "        x = x.view(x.size(0), -1)  # Flatten\n",
        "\n",
        "        # Adjust the first FC layer dynamically\n",
        "        if self.classifier[0].in_features != x.size(1):\n",
        "            self.classifier[0] = nn.Linear(x.size(1), 512).to(x.device)\n",
        "\n",
        "        x = self.classifier(x)\n",
        "        return x\n",
        "\n",
        "# Initialize the model\n",
        "device = torch.device('cuda' if torch.cuda.is_available() else 'cpu')\n",
        "model = MiniVGG(num_classes=10).to(device)\n",
        "print(model)"
      ]
    },
    {
      "cell_type": "markdown",
      "source": [
        "Predicting on clean CIFAR10 with a model trained on legitimate data"
      ],
      "metadata": {
        "id": "wmVYgpICO4w2"
      }
    },
    {
      "cell_type": "code",
      "execution_count": null,
      "metadata": {
        "colab": {
          "base_uri": "https://localhost:8080/"
        },
        "id": "FZNKk5Cgc-c8",
        "outputId": "29d9187a-d640-4dbf-c20f-a34086ca9d3a"
      },
      "outputs": [
        {
          "output_type": "stream",
          "name": "stdout",
          "text": [
            "Epoch [1/30], Loss: 1.4384\n",
            "Epoch [2/30], Loss: 0.9998\n",
            "Epoch [3/30], Loss: 0.8351\n",
            "Epoch [4/30], Loss: 0.7396\n",
            "Epoch [5/30], Loss: 0.6695\n",
            "Epoch [6/30], Loss: 0.6201\n",
            "Epoch [7/30], Loss: 0.5722\n",
            "Epoch [8/30], Loss: 0.5325\n",
            "Epoch [9/30], Loss: 0.5043\n",
            "Epoch [10/30], Loss: 0.4733\n",
            "Epoch [11/30], Loss: 0.4525\n",
            "Epoch [12/30], Loss: 0.4264\n",
            "Epoch [13/30], Loss: 0.4139\n",
            "Epoch [14/30], Loss: 0.3929\n",
            "Epoch [15/30], Loss: 0.3830\n",
            "Epoch [16/30], Loss: 0.3631\n",
            "Epoch [17/30], Loss: 0.3555\n",
            "Epoch [18/30], Loss: 0.3406\n",
            "Epoch [19/30], Loss: 0.3206\n",
            "Epoch [20/30], Loss: 0.3173\n",
            "Epoch [21/30], Loss: 0.3014\n",
            "Epoch [22/30], Loss: 0.2919\n",
            "Epoch [23/30], Loss: 0.2865\n",
            "Epoch [24/30], Loss: 0.2751\n",
            "Epoch [25/30], Loss: 0.2667\n",
            "Epoch [26/30], Loss: 0.2582\n",
            "Epoch [27/30], Loss: 0.2495\n",
            "Epoch [28/30], Loss: 0.2435\n",
            "Epoch [29/30], Loss: 0.2378\n",
            "Epoch [30/30], Loss: 0.2297\n"
          ]
        }
      ],
      "source": [
        "device = torch.device('cuda' if torch.cuda.is_available() else 'cpu')\n",
        "model = MiniVGG(num_classes=10).to(device)\n",
        "criterion = nn.CrossEntropyLoss()\n",
        "optimizer = optim.Adam(model.parameters(), lr=0.001)\n",
        "\n",
        "num_epochs = 30\n",
        "for epoch in range(num_epochs):\n",
        "    model.train()\n",
        "    running_loss = 0.0\n",
        "    for inputs, labels in train_loader_cifar10:\n",
        "        inputs, labels = inputs.to(device), labels.to(device)\n",
        "        optimizer.zero_grad()\n",
        "        outputs = model(inputs)\n",
        "        loss = criterion(outputs, labels)\n",
        "        loss.backward()\n",
        "        optimizer.step()\n",
        "        running_loss += loss.item()\n",
        "    print(f\"Epoch [{epoch+1}/{num_epochs}], Loss: {running_loss/len(train_loader_cifar10):.4f}\")"
      ]
    },
    {
      "cell_type": "code",
      "source": [
        "def evaluate_model(model, test_loader, device):\n",
        "    model.eval()\n",
        "    correct = 0\n",
        "    total = 0\n",
        "    with torch.no_grad():\n",
        "        for inputs, labels in test_loader:\n",
        "            inputs, labels = inputs.to(device), labels.to(device)\n",
        "            outputs = model(inputs)\n",
        "            _, preds = torch.max(outputs, 1)\n",
        "            correct += (preds == labels).sum().item()\n",
        "            total += labels.size(0)\n",
        "    print(f\"Clean Accuracy: {100 * correct / total:.2f}%\")\n",
        "\n",
        "print(\"Evaluating on clean test set:\")\n",
        "evaluate_model(model, test_loader_cifar10, device)"
      ],
      "metadata": {
        "colab": {
          "base_uri": "https://localhost:8080/"
        },
        "id": "dFqPQaHNzFfI",
        "outputId": "f8c4166b-11a7-453f-b278-225122ee7a9f"
      },
      "execution_count": null,
      "outputs": [
        {
          "output_type": "stream",
          "name": "stdout",
          "text": [
            "Evaluating on clean test set:\n",
            "Clean Accuracy: 85.20%\n"
          ]
        }
      ]
    },
    {
      "cell_type": "code",
      "source": [
        "torch.save(model.state_dict(), \"CNN_CIFAR10_TrainedonCleanData.pth\")"
      ],
      "metadata": {
        "id": "JG34BEeYrdpA"
      },
      "execution_count": null,
      "outputs": []
    },
    {
      "cell_type": "markdown",
      "source": [
        "# Attacks on CNN model"
      ],
      "metadata": {
        "id": "YJCOt_Rsyzs5"
      }
    },
    {
      "cell_type": "markdown",
      "source": [
        "## Random Backdoor\n"
      ],
      "metadata": {
        "id": "uuxzjsc7ytcu"
      }
    },
    {
      "cell_type": "markdown",
      "source": [
        "### MNIST"
      ],
      "metadata": {
        "id": "8mDmE6mxy5HI"
      }
    },
    {
      "cell_type": "markdown",
      "source": [
        "#### Single Label - Attacking the label \"0\""
      ],
      "metadata": {
        "id": "4Zuw7PnSy8EX"
      }
    },
    {
      "cell_type": "code",
      "source": [
        "# Creating a Backdoored Training Data\n",
        "\n",
        "def add_random_trigger(image, trigger_size):\n",
        "    image = image.clone()\n",
        "\n",
        "    # Random position for the trigger\n",
        "    trigger_size = min(trigger_size, 28)  # Ensure the trigger does not exceed the image size\n",
        "    x = random.randint(0, 28 - trigger_size)\n",
        "    y = random.randint(0, 28 - trigger_size)\n",
        "\n",
        "    # Generate a random grayscale trigger (values between 0 and 1)\n",
        "    random_trigger = torch.rand((1, trigger_size, trigger_size))\n",
        "\n",
        "    # Place the trigger on the image\n",
        "    image[:, y:y + trigger_size, x:x + trigger_size] = random_trigger\n",
        "\n",
        "    return image"
      ],
      "metadata": {
        "id": "c2A6-PvNy_n8"
      },
      "execution_count": null,
      "outputs": []
    },
    {
      "cell_type": "code",
      "source": [
        "trigger_size = 5 # @param {\"type\":\"slider\",\"min\":0,\"max\":28,\"step\":1}\n",
        "\n",
        "def create_backdoored_dataset(dataset, target_label, trigger_ratio):\n",
        "    backdoored_data = []\n",
        "    for img, label in dataset:\n",
        "        if random.random() < trigger_ratio:\n",
        "            img = add_random_trigger(img, trigger_size)\n",
        "            label = target_label\n",
        "        backdoored_data.append((img, label))\n",
        "    return backdoored_data"
      ],
      "metadata": {
        "id": "Pxy11mSLA5LQ"
      },
      "execution_count": null,
      "outputs": []
    },
    {
      "cell_type": "code",
      "source": [
        "target_label = 0 # @param {\"type\":\"slider\",\"min\":0,\"max\":9,\"step\":1}\n",
        "trigger_ratio = 0.1 # @param {\"type\":\"slider\",\"min\":0,\"max\":1,\"step\":0.1}\n",
        "\n",
        "# Creating backdoored training set\n",
        "\n",
        "mnist_backdoored_train_data = create_backdoored_dataset(mnist_train_raw,\n",
        "                                                  target_label=target_label,\n",
        "                                                  trigger_ratio=trigger_ratio)\n",
        "mnist_backdoored_test_data = create_backdoored_dataset(mnist_test_raw,\n",
        "                                                  target_label=target_label,\n",
        "                                                  trigger_ratio=trigger_ratio)\n",
        "\n",
        "train_loader = DataLoader(mnist_backdoored_train_data, batch_size=128, shuffle=True)\n",
        "test_loader = DataLoader(mnist_test_raw, batch_size=128, shuffle=False)\n",
        "backdoored_test_loader = DataLoader(mnist_backdoored_test_data, batch_size=128, shuffle=False)"
      ],
      "metadata": {
        "id": "hzLdiYu10G-m"
      },
      "execution_count": null,
      "outputs": []
    },
    {
      "cell_type": "code",
      "source": [
        "import matplotlib.pyplot as plt\n",
        "\n",
        "# Collect 6 clean images and their labels\n",
        "examples = [(mnist_train_raw[i][0], mnist_train_raw[i][1]) for i in range(6)]\n",
        "triggered_examples = [\n",
        "    (add_random_trigger(img.clone(), trigger_size=trigger_size), 0)  # Label changed to 0 for backdoored\n",
        "    if random.random() < 0.5 else (img, label)  # 50% chance of being backdoored\n",
        "    for img, label in examples\n",
        "]\n",
        "\n",
        "# Set up a 2-row, 6-column figure\n",
        "fig, axs = plt.subplots(2, 6, figsize=(16, 4))\n",
        "\n",
        "# Display the clean images with their labels in the first row\n",
        "for i in range(6):\n",
        "    img, label = examples[i]\n",
        "    axs[0, i].imshow(img.squeeze(), cmap='gray')\n",
        "    axs[0, i].set_title(f\"Label: {label}\", fontsize=12)\n",
        "    axs[0, i].axis('off')\n",
        "\n",
        "# Display the backdoored images with their (changed) labels in the second row\n",
        "for i in range(6):\n",
        "    img, label = triggered_examples[i]\n",
        "    axs[1, i].imshow(img.squeeze(), cmap='gray')\n",
        "    axs[1, i].set_title(f\"Label: {label}\", fontsize=12)\n",
        "    axs[1, i].axis('off')\n",
        "\n",
        "# Set a global title\n",
        "fig.suptitle(\"Clean Images (Top) vs Backdoored Images (Bottom) with Labels\", fontsize=16, weight='bold')\n",
        "\n",
        "plt.tight_layout(rect=[0, 0, 1, 0.95])\n",
        "plt.show()"
      ],
      "metadata": {
        "colab": {
          "base_uri": "https://localhost:8080/",
          "height": 358
        },
        "id": "Xpl9UEApDMuA",
        "outputId": "c9b4938d-8dca-471c-d221-1446712676c3"
      },
      "execution_count": null,
      "outputs": [
        {
          "output_type": "display_data",
          "data": {
            "text/plain": [
              "<Figure size 1600x400 with 12 Axes>"
            ],
            "image/png": "[encoded data removed]"
          },
          "metadata": {}
        }
      ]
    },
    {
      "cell_type": "code",
      "source": [
        "# Train the model on the backdoored data\n",
        "\n",
        "device = torch.device('cuda' if torch.cuda.is_available() else 'cpu')\n",
        "model = CNN_MNIST().to(device)\n",
        "criterion = nn.CrossEntropyLoss()\n",
        "optimizer = optim.Adam(model.parameters(), lr=0.001)\n",
        "\n",
        "num_epochs = 15\n",
        "for epoch in range(num_epochs):\n",
        "    model.train()\n",
        "    running_loss = 0.0\n",
        "    for inputs, labels in train_loader_mnist:\n",
        "        inputs, labels = inputs.to(device), labels.to(device)\n",
        "        optimizer.zero_grad()\n",
        "        outputs = model(inputs)\n",
        "        loss = criterion(outputs, labels)\n",
        "        loss.backward()\n",
        "        optimizer.step()\n",
        "        running_loss += loss.item()\n",
        "    print(f\"Epoch [{epoch+1}/{num_epochs}], Loss: {running_loss/len(train_loader_mnist):.4f}\")"
      ],
      "metadata": {
        "colab": {
          "base_uri": "https://localhost:8080/"
        },
        "id": "WqbPZvNc13en",
        "outputId": "9ead6dd5-f8aa-41f9-a182-d04acbe4960c"
      },
      "execution_count": null,
      "outputs": [
        {
          "output_type": "stream",
          "name": "stdout",
          "text": [
            "Epoch [1/15], Loss: 0.8127\n",
            "Epoch [2/15], Loss: 0.3512\n",
            "Epoch [3/15], Loss: 0.2639\n",
            "Epoch [4/15], Loss: 0.2075\n",
            "Epoch [5/15], Loss: 0.1782\n",
            "Epoch [6/15], Loss: 0.1522\n",
            "Epoch [7/15], Loss: 0.1396\n",
            "Epoch [8/15], Loss: 0.1293\n",
            "Epoch [9/15], Loss: 0.1207\n",
            "Epoch [10/15], Loss: 0.1128\n",
            "Epoch [11/15], Loss: 0.1034\n",
            "Epoch [12/15], Loss: 0.0981\n",
            "Epoch [13/15], Loss: 0.0948\n",
            "Epoch [14/15], Loss: 0.0903\n",
            "Epoch [15/15], Loss: 0.0878\n"
          ]
        }
      ]
    },
    {
      "cell_type": "code",
      "source": [
        "# Getting evaluation metrics: Clean Accuracy (Accuracy of the model on clean data) & Attack Sucess Rate (Accuracy of the model on poissoned data)\n",
        "\n",
        "def evaluate_model(model, test_loader, device):\n",
        "    model.eval()\n",
        "    correct = 0\n",
        "    total = 0\n",
        "    with torch.no_grad():\n",
        "        for inputs, labels in test_loader:\n",
        "            inputs, labels = inputs.to(device), labels.to(device)\n",
        "            outputs = model(inputs)\n",
        "            _, preds = torch.max(outputs, 1)\n",
        "            correct += (preds == labels).sum().item()\n",
        "            total += labels.size(0)\n",
        "    print(100 * correct / total)\n",
        "\n",
        "print(\"Evaluating accuracy on clean test set:\")\n",
        "evaluate_model(model, test_loader, device)\n",
        "\n",
        "\n",
        "print(\"\\nEvaluating accuracy on backdoored test set:\")\n",
        "evaluate_model(model, backdoored_test_loader, device)"
      ],
      "metadata": {
        "colab": {
          "base_uri": "https://localhost:8080/"
        },
        "id": "uXCLdLBa3z-1",
        "outputId": "ba473f46-99a4-47f5-b912-f02b4f0b754d"
      },
      "execution_count": null,
      "outputs": [
        {
          "output_type": "stream",
          "name": "stdout",
          "text": [
            "Evaluating accuracy on clean test set:\n",
            "97.96\n",
            "\n",
            "Evaluating accuracy on backdoored test set:\n",
            "89.1\n"
          ]
        }
      ]
    },
    {
      "cell_type": "code",
      "source": [
        "torch.save(model.state_dict(), \"CNN_MNIST_Poissoned_RandomBackdoor.pth\")"
      ],
      "metadata": {
        "id": "jEdDMh5vvnm7"
      },
      "execution_count": null,
      "outputs": []
    },
    {
      "cell_type": "markdown",
      "source": [
        "#### Mutliple Label"
      ],
      "metadata": {
        "id": "vkU74jBH_1uR"
      }
    },
    {
      "cell_type": "markdown",
      "source": [
        "Label 0: top-left\n",
        "\n",
        "Label 1: top-mid-left\n",
        "\n",
        "Label 2: top-center\n",
        "\n",
        "Label 3: top-mid-right\n",
        "\n",
        "Label 4: top-right\n",
        "\n",
        "Label 5: bottom-left\n",
        "\n",
        "Label 6: bottom-mid-left\n",
        "\n",
        "Label 7: bottom-center\n",
        "\n",
        "Label 8: bottom-mid-right\n",
        "\n",
        "Label 9: bottom-right"
      ],
      "metadata": {
        "id": "KxgfkA5xAnbo"
      }
    },
    {
      "cell_type": "code",
      "source": [
        "#Visualize how regions are divided\n",
        "\n",
        "import matplotlib.patches as patches\n",
        "\n",
        "sample_img, _ = mnist_train_raw[0]  # shape: (1, 28, 28)\n",
        "\n",
        "def visualize_label_regions_on_image(image, grid_rows=2, grid_cols=5):\n",
        "    fig, ax = plt.subplots(figsize=(4, 4))\n",
        "    ax.imshow(image.squeeze(), cmap='gray')\n",
        "\n",
        "    image_size = image.shape[1]\n",
        "    label = 0\n",
        "\n",
        "    # Compute x and y grid divisions\n",
        "    x_starts = [int(round(i * image_size / grid_cols)) for i in range(grid_cols + 1)]\n",
        "    y_starts = [int(round(i * image_size / grid_rows)) for i in range(grid_rows + 1)]\n",
        "\n",
        "    for row in range(grid_rows):\n",
        "        for col in range(grid_cols):\n",
        "            x = x_starts[col]\n",
        "            y = y_starts[row]\n",
        "            w = x_starts[col + 1] - x\n",
        "            h = y_starts[row + 1] - y\n",
        "\n",
        "            # Draw rectangle\n",
        "            rect = patches.Rectangle((x, y), w, h, linewidth=3, edgecolor='red', facecolor='none')\n",
        "            ax.add_patch(rect)\n",
        "\n",
        "            # Center label\n",
        "            cx = x + w / 2\n",
        "            cy = y + h / 2\n",
        "            ax.text(cx, cy, str(label), color='blue', fontsize=16, weight='bold', ha='center', va='center')\n",
        "\n",
        "            label += 1\n",
        "\n",
        "    ax.set_title(\"Perfectly Fitted Trigger Regions\")\n",
        "    ax.axis('off')\n",
        "    plt.tight_layout()\n",
        "    plt.show()\n",
        "\n",
        "visualize_label_regions_on_image(sample_img)"
      ],
      "metadata": {
        "colab": {
          "base_uri": "https://localhost:8080/",
          "height": 407
        },
        "id": "FJJ27faTBawt",
        "outputId": "edb73eaa-72f3-44fb-f320-c87be0c1e8d6"
      },
      "execution_count": null,
      "outputs": [
        {
          "output_type": "display_data",
          "data": {
            "text/plain": [
              "<Figure size 400x400 with 1 Axes>"
            ],
            "image/png": "[encoded data removed]"
          },
          "metadata": {}
        }
      ]
    },
    {
      "cell_type": "code",
      "source": [
        "def get_label_regions(image_size=28, grid_rows=2, grid_cols=5):\n",
        "    region_height = image_size // grid_rows\n",
        "    region_width = image_size // grid_cols\n",
        "    label_to_region = {}\n",
        "    label = 0\n",
        "    for row in range(grid_rows):\n",
        "        for col in range(grid_cols):\n",
        "            x_start = col * region_width\n",
        "            y_start = row * region_height\n",
        "            label_to_region[label] = (x_start, y_start, region_width, region_height)\n",
        "            label += 1\n",
        "    return label_to_region\n",
        "\n",
        "# Not a lot of freedom to choose trigger size. Image is 28 x 28 and we are dividing\n",
        "# it into 10 regions\n",
        "\n",
        "def add_multi_label_trigger(image, original_label, trigger_size=4):\n",
        "    image = image.clone()\n",
        "    label_to_region = get_label_regions()\n",
        "\n",
        "    # Pick a new label different from the original\n",
        "    possible_labels = list(label_to_region.keys())\n",
        "    possible_labels.remove(original_label)\n",
        "    new_label = random.choice(possible_labels)\n",
        "\n",
        "    # Get region for the new (poisoned) label\n",
        "    x_start, y_start, region_w, region_h = label_to_region[new_label]\n",
        "\n",
        "    # Ensure the trigger fits in the region\n",
        "    max_x = x_start + region_w - trigger_size\n",
        "    max_y = y_start + region_h - trigger_size\n",
        "    x = random.randint(x_start, max_x)\n",
        "    y = random.randint(y_start, max_y)\n",
        "\n",
        "    # Create and place random grayscale trigger\n",
        "    trigger = torch.rand((1, trigger_size, trigger_size))\n",
        "    image[:, y:y + trigger_size, x:x + trigger_size] = trigger\n",
        "\n",
        "    return image, new_label"
      ],
      "metadata": {
        "id": "hSSNJK9t_R4r"
      },
      "execution_count": null,
      "outputs": []
    },
    {
      "cell_type": "code",
      "source": [
        "#To avoid loading the whole dataset\n",
        "from itertools import islice\n",
        "\n",
        "# Get 10 clean examples (digits 0 to 9)\n",
        "examples = list(islice(mnist_train_raw, 10))\n",
        "\n",
        "# Poisoned versions with new random labels\n",
        "poisoned_examples = [add_multi_label_trigger(img.clone(), original_label) for img, original_label in examples]\n",
        "\n",
        "# Plotting side by side\n",
        "fig, axs = plt.subplots(2, 10, figsize=(18, 4))\n",
        "\n",
        "# Top row: Clean images\n",
        "for i in range(10):\n",
        "    img, label = examples[i]\n",
        "    axs[0, i].imshow(img.squeeze(), cmap='gray')\n",
        "    axs[0, i].set_title(f\"Clean: {label}\")\n",
        "    axs[0, i].axis('off')\n",
        "\n",
        "# Bottom row: Poisoned images\n",
        "for i in range(10):\n",
        "    poisoned_img, new_label = poisoned_examples[i]\n",
        "    axs[1, i].imshow(poisoned_img.squeeze(), cmap='gray')\n",
        "    axs[1, i].set_title(f\"Poisoned {new_label}\")\n",
        "    axs[1, i].axis('off')\n",
        "\n",
        "fig.suptitle(\"Clean Images (Top) vs Backdoored Images with New Labels (Bottom)\", fontsize=16)\n",
        "plt.subplots_adjust(hspace=0.6)\n",
        "plt.tight_layout()\n",
        "plt.show()"
      ],
      "metadata": {
        "colab": {
          "base_uri": "https://localhost:8080/",
          "height": 295
        },
        "id": "vTDdbH76C-W8",
        "outputId": "140602a1-4404-44b3-beac-0dd4b762e664"
      },
      "execution_count": null,
      "outputs": [
        {
          "output_type": "display_data",
          "data": {
            "text/plain": [
              "<Figure size 1800x400 with 20 Axes>"
            ],
            "image/png": "[encoded data removed]"
          },
          "metadata": {}
        }
      ]
    },
    {
      "cell_type": "code",
      "source": [
        "trigger_ratio = 0.1 # @param {\"type\":\"slider\",\"min\":0,\"max\":1,\"step\":0.05}\n",
        "\n",
        "def create_backdoored_dataset(dataset, trigger_ratio, trigger_size=4):\n",
        "    poisoned_data = []\n",
        "    for img, label in dataset:\n",
        "        if random.random() < trigger_ratio:\n",
        "            img, new_label = add_multi_label_trigger(img, label, trigger_size)\n",
        "            poisoned_data.append((img, new_label))  # Poisoned version\n",
        "        else:\n",
        "            poisoned_data.append((img, label))      # Clean version\n",
        "    return poisoned_data\n"
      ],
      "metadata": {
        "id": "-Mxrj-1sGo02"
      },
      "execution_count": null,
      "outputs": []
    },
    {
      "cell_type": "code",
      "source": [
        "mnist_multiple_label_backdoored_train_data = create_backdoored_dataset(dataset = mnist_train_raw,\n",
        "                                                  trigger_ratio=trigger_ratio)\n",
        "mnist_multiple_label_backdoored_test_data = create_backdoored_dataset(dataset = mnist_test_raw,\n",
        "                                                  trigger_ratio=trigger_ratio)\n",
        "\n",
        "train_loader = DataLoader(mnist_multiple_label_backdoored_train_data, batch_size=128, shuffle=True)\n",
        "test_loader = DataLoader(mnist_test_raw, batch_size=128, shuffle=False)\n",
        "backdoored_test_loader = DataLoader(mnist_multiple_label_backdoored_test_data, batch_size=128, shuffle=False)\n"
      ],
      "metadata": {
        "id": "Jw57qW-7A9DF"
      },
      "execution_count": null,
      "outputs": []
    },
    {
      "cell_type": "code",
      "source": [
        "# Train the model on the backdoored data\n",
        "\n",
        "device = torch.device('cuda' if torch.cuda.is_available() else 'cpu')\n",
        "model = CNN_MNIST().to(device)\n",
        "criterion = nn.CrossEntropyLoss()\n",
        "optimizer = optim.Adam(model.parameters(), lr=0.001)\n",
        "\n",
        "num_epochs = 15\n",
        "for epoch in range(num_epochs):\n",
        "    model.train()\n",
        "    running_loss = 0.0\n",
        "    for inputs, labels in train_loader:\n",
        "        inputs, labels = inputs.to(device), labels.to(device)\n",
        "        optimizer.zero_grad()\n",
        "        outputs = model(inputs)\n",
        "        loss = criterion(outputs, labels)\n",
        "        loss.backward()\n",
        "        optimizer.step()\n",
        "        running_loss += loss.item()\n",
        "    print(f\"Epoch [{epoch+1}/{num_epochs}], Loss: {running_loss/len(train_loader):.4f}\")"
      ],
      "metadata": {
        "colab": {
          "base_uri": "https://localhost:8080/"
        },
        "id": "6ZqTzHC8Jcpi",
        "outputId": "314db556-0a06-4cff-f54e-e160f18f72df"
      },
      "execution_count": null,
      "outputs": [
        {
          "output_type": "stream",
          "name": "stdout",
          "text": [
            "Epoch [1/15], Loss: 1.1776\n",
            "Epoch [2/15], Loss: 0.7146\n",
            "Epoch [3/15], Loss: 0.5823\n",
            "Epoch [4/15], Loss: 0.4776\n",
            "Epoch [5/15], Loss: 0.3805\n",
            "Epoch [6/15], Loss: 0.2966\n",
            "Epoch [7/15], Loss: 0.2310\n",
            "Epoch [8/15], Loss: 0.1810\n",
            "Epoch [9/15], Loss: 0.1477\n",
            "Epoch [10/15], Loss: 0.1207\n",
            "Epoch [11/15], Loss: 0.1032\n",
            "Epoch [12/15], Loss: 0.0873\n",
            "Epoch [13/15], Loss: 0.0712\n",
            "Epoch [14/15], Loss: 0.0617\n",
            "Epoch [15/15], Loss: 0.0511\n"
          ]
        }
      ]
    },
    {
      "cell_type": "code",
      "source": [
        "# Getting evaluation metrics: Clean Accuracy (Accuracy of the model on clean data) & Attack Sucess Rate (Accuracy of the model on poissoned data)\n",
        "\n",
        "def evaluate_model(model, test_loader, device):\n",
        "    model.eval()\n",
        "    correct = 0\n",
        "    total = 0\n",
        "    with torch.no_grad():\n",
        "        for inputs, labels in test_loader:\n",
        "            inputs, labels = inputs.to(device), labels.to(device)\n",
        "            outputs = model(inputs)\n",
        "            _, preds = torch.max(outputs, 1)\n",
        "            correct += (preds == labels).sum().item()\n",
        "            total += labels.size(0)\n",
        "    print(100 * correct / total)\n",
        "\n",
        "print(\"Evaluating accuracy on clean test set:\")\n",
        "evaluate_model(model, test_loader, device)\n",
        "\n",
        "\n",
        "print(\"\\nEvaluating accuracy on backdoored test set:\")\n",
        "evaluate_model(model, backdoored_test_loader, device)"
      ],
      "metadata": {
        "colab": {
          "base_uri": "https://localhost:8080/"
        },
        "id": "lKDtjmA8Joha",
        "outputId": "4f4bb3a0-18a6-4284-c3e2-132b81759387"
      },
      "execution_count": null,
      "outputs": [
        {
          "output_type": "stream",
          "name": "stdout",
          "text": [
            "Evaluating accuracy on clean test set:\n",
            "96.24\n",
            "\n",
            "Evaluating accuracy on backdoored test set:\n",
            "95.21\n"
          ]
        }
      ]
    },
    {
      "cell_type": "code",
      "source": [
        "torch.save(model.state_dict(), \"CNN_MNIST_Poissoned_RandomBackdoor_MultipleLabel.pth\")"
      ],
      "metadata": {
        "id": "RNmyD8KoxGOA"
      },
      "execution_count": null,
      "outputs": []
    },
    {
      "cell_type": "markdown",
      "source": [
        "### CIFAR-10"
      ],
      "metadata": {
        "id": "UqCLHzuvGEzo"
      }
    },
    {
      "cell_type": "markdown",
      "source": [
        "#### Single Label - Attacking the label \"6\" (Frog)"
      ],
      "metadata": {
        "id": "p3BAgRBnGHXM"
      }
    },
    {
      "cell_type": "code",
      "source": [
        "# Creating a Backdoored Training Data\n",
        "\n",
        "def add_random_trigger(image, trigger_size):\n",
        "    image = image.clone()\n",
        "\n",
        "    # Ensure the image is in RGB format (3 channels)\n",
        "    if image.shape[0] != 3:\n",
        "        raise ValueError(\"Image is not in RGB format. Expected 3 channels.\")\n",
        "\n",
        "    # Get image height and width\n",
        "    height, width = image.shape[1], image.shape[2]\n",
        "\n",
        "    # Ensure the trigger fits within the image\n",
        "    trigger_size = min(trigger_size, height, width)\n",
        "\n",
        "    # Random position for the trigger\n",
        "    x = random.randint(0, width - trigger_size)\n",
        "    y = random.randint(0, height - trigger_size)\n",
        "\n",
        "\n",
        "    # Generate a random RGB trigger (3 channels)\n",
        "    random_trigger = torch.rand((3, trigger_size, trigger_size))\n",
        "\n",
        "    # Adjust the trigger if it goes beyond the boundaries\n",
        "    target_width = min(trigger_size, width - x)\n",
        "    target_height = min(trigger_size, height - y)\n",
        "\n",
        "    # Apply the trigger in the adjusted region\n",
        "    image[:, y:y + target_height, x:x + target_width] = random_trigger[:, :target_height, :target_width]\n",
        "\n",
        "    return image\n"
      ],
      "metadata": {
        "id": "OzBiCWdkGk8J"
      },
      "execution_count": null,
      "outputs": []
    },
    {
      "cell_type": "code",
      "source": [
        "trigger_size = 6 # @param {\"type\":\"slider\",\"min\":0,\"max\":32,\"step\":1}\n",
        "\n",
        "def create_backdoored_dataset(dataset, target_label, trigger_ratio):\n",
        "    backdoored_data = []\n",
        "    for img, label in dataset:\n",
        "        if random.random() < trigger_ratio:\n",
        "            img = add_random_trigger(img, trigger_size)\n",
        "            label = target_label\n",
        "        backdoored_data.append((img, label))\n",
        "    return backdoored_data"
      ],
      "metadata": {
        "id": "8L0LyeNFGuP5"
      },
      "execution_count": null,
      "outputs": []
    },
    {
      "cell_type": "code",
      "source": [
        "target_label = 6 # @param {\"type\":\"slider\",\"min\":0,\"max\":9,\"step\":1}\n",
        "trigger_ratio = 0.3 # @param {\"type\":\"slider\",\"min\":0,\"max\":1,\"step\":0.1}\n",
        "\n",
        "# Creating backdoored training set\n",
        "\n",
        "cifar10_backdoored_train_data = create_backdoored_dataset(cifar10_train_raw,\n",
        "                                                  target_label=target_label,\n",
        "                                                  trigger_ratio=trigger_ratio)\n",
        "cifar10_backdoored_test_data = create_backdoored_dataset(cifar10_test_raw,\n",
        "                                                  target_label=target_label,\n",
        "                                                  trigger_ratio=trigger_ratio)\n",
        "\n",
        "train_loader = DataLoader(cifar10_backdoored_train_data, batch_size=128, shuffle=True)\n",
        "test_loader = DataLoader(cifar10_test_raw, batch_size=128, shuffle=False)\n",
        "backdoored_test_loader = DataLoader(cifar10_backdoored_test_data, batch_size=128, shuffle=False)"
      ],
      "metadata": {
        "id": "Ibn_6NXgJTzl"
      },
      "execution_count": null,
      "outputs": []
    },
    {
      "cell_type": "code",
      "source": [
        "#To avoid loading the whole dataset\n",
        "from itertools import islice\n",
        "import matplotlib.pyplot as plt\n",
        "\n",
        "# Collect 6 clean images and their labels\n",
        "examples = list(islice(cifar10_train_raw, 6))\n",
        "triggered_examples = [\n",
        "    (add_random_trigger(img.clone(), trigger_size=trigger_size), 6)  # Backdoored with label changed\n",
        "    if random.random() < 0.5 else (img.clone(), label)  # 50% chance of being backdoored\n",
        "    for img, label in examples\n",
        "]\n",
        "\n",
        "# Set up a 2-row, 6-column figure\n",
        "fig, axs = plt.subplots(2, 6, figsize=(16, 4))\n",
        "\n",
        "# Display the clean images with their labels in the first row\n",
        "for i in range(6):\n",
        "    img, label = examples[i]\n",
        "    axs[0, i].imshow(img.permute(1, 2, 0).numpy())  # For RGB images (CIFAR-10)\n",
        "    axs[0, i].set_title(f\"Label: {label}\", fontsize=12)\n",
        "    axs[0, i].axis('off')\n",
        "\n",
        "# Display the backdoored images with their (changed) labels in the second row\n",
        "for i in range(6):\n",
        "    img, label = triggered_examples[i]\n",
        "    axs[1, i].imshow(img.permute(1, 2, 0).numpy())  # For RGB images (CIFAR-10)\n",
        "    axs[1, i].set_title(f\"Label: {label}\", fontsize=12)\n",
        "    axs[1, i].axis('off')\n",
        "\n",
        "# Set a global title\n",
        "fig.suptitle(\"Clean Images (Top) vs Backdoored Images (Bottom) with Labels\", fontsize=16, weight='bold')\n",
        "\n",
        "plt.tight_layout(rect=[0, 0, 1, 0.95])\n",
        "plt.show()\n"
      ],
      "metadata": {
        "colab": {
          "base_uri": "https://localhost:8080/",
          "height": 358
        },
        "id": "QgYd63gtHThK",
        "outputId": "475ee85a-0737-46dd-cea7-f55ab7e8114d"
      },
      "execution_count": null,
      "outputs": [
        {
          "output_type": "display_data",
          "data": {
            "text/plain": [
              "<Figure size 1600x400 with 12 Axes>"
            ],
            "image/png": "[encoded data removed]"
          },
          "metadata": {}
        }
      ]
    },
    {
      "cell_type": "code",
      "source": [
        "device = torch.device('cuda' if torch.cuda.is_available() else 'cpu')\n",
        "model = MiniVGG(num_classes=10).to(device)\n",
        "criterion = nn.CrossEntropyLoss()\n",
        "optimizer = optim.Adam(model.parameters(), lr=0.001)\n",
        "\n",
        "num_epochs = 30\n",
        "for epoch in range(num_epochs):\n",
        "    model.train()\n",
        "    running_loss = 0.0\n",
        "    for inputs, labels in train_loader:\n",
        "        inputs, labels = inputs.to(device), labels.to(device)\n",
        "        optimizer.zero_grad()\n",
        "        outputs = model(inputs)\n",
        "        loss = criterion(outputs, labels)\n",
        "        loss.backward()\n",
        "        optimizer.step()\n",
        "        running_loss += loss.item()\n",
        "    print(f\"Epoch [{epoch+1}/{num_epochs}], Loss: {running_loss/len(train_loader):.4f}\")"
      ],
      "metadata": {
        "colab": {
          "base_uri": "https://localhost:8080/"
        },
        "id": "3P1UXOanLmgL",
        "outputId": "8ac326d5-24e0-498a-dbd7-608f4661a5d1"
      },
      "execution_count": null,
      "outputs": [
        {
          "output_type": "stream",
          "name": "stdout",
          "text": [
            "Epoch [1/30], Loss: 1.1238\n",
            "Epoch [2/30], Loss: 0.7927\n",
            "Epoch [3/30], Loss: 0.6559\n",
            "Epoch [4/30], Loss: 0.5591\n",
            "Epoch [5/30], Loss: 0.4844\n",
            "Epoch [6/30], Loss: 0.4202\n",
            "Epoch [7/30], Loss: 0.3695\n",
            "Epoch [8/30], Loss: 0.3210\n",
            "Epoch [9/30], Loss: 0.2711\n",
            "Epoch [10/30], Loss: 0.2299\n",
            "Epoch [11/30], Loss: 0.1932\n",
            "Epoch [12/30], Loss: 0.1627\n",
            "Epoch [13/30], Loss: 0.1325\n",
            "Epoch [14/30], Loss: 0.1129\n",
            "Epoch [15/30], Loss: 0.0899\n",
            "Epoch [16/30], Loss: 0.0847\n",
            "Epoch [17/30], Loss: 0.0762\n",
            "Epoch [18/30], Loss: 0.0637\n",
            "Epoch [19/30], Loss: 0.0568\n",
            "Epoch [20/30], Loss: 0.0610\n",
            "Epoch [21/30], Loss: 0.0492\n",
            "Epoch [22/30], Loss: 0.0475\n",
            "Epoch [23/30], Loss: 0.0459\n",
            "Epoch [24/30], Loss: 0.0404\n",
            "Epoch [25/30], Loss: 0.0396\n",
            "Epoch [26/30], Loss: 0.0414\n",
            "Epoch [27/30], Loss: 0.0375\n",
            "Epoch [28/30], Loss: 0.0375\n",
            "Epoch [29/30], Loss: 0.0395\n",
            "Epoch [30/30], Loss: 0.0296\n"
          ]
        }
      ]
    },
    {
      "cell_type": "code",
      "source": [
        "# Getting evaluation metrics: Clean Accuracy (Accuracy of the model on clean data) & Attack Sucess Rate (Accuracy of the model on poissoned data)\n",
        "\n",
        "def evaluate_model(model, test_loader, device):\n",
        "    model.eval()\n",
        "    correct = 0\n",
        "    total = 0\n",
        "    with torch.no_grad():\n",
        "        for inputs, labels in test_loader:\n",
        "            inputs, labels = inputs.to(device), labels.to(device)\n",
        "            outputs = model(inputs)\n",
        "            _, preds = torch.max(outputs, 1)\n",
        "            correct += (preds == labels).sum().item()\n",
        "            total += labels.size(0)\n",
        "    print(100 * correct / total)\n",
        "\n",
        "print(\"Evaluating accuracy on clean test set:\")\n",
        "evaluate_model(model, test_loader, device)\n",
        "\n",
        "\n",
        "print(\"\\nEvaluating accuracy on backdoored test set:\")\n",
        "evaluate_model(model, backdoored_test_loader, device)"
      ],
      "metadata": {
        "colab": {
          "base_uri": "https://localhost:8080/"
        },
        "id": "eQeuJ-aQMMa_",
        "outputId": "c2d9ec34-cc30-456e-edc7-543b985527c8"
      },
      "execution_count": null,
      "outputs": [
        {
          "output_type": "stream",
          "name": "stdout",
          "text": [
            "Evaluating accuracy on clean test set:\n",
            "79.05\n",
            "\n",
            "Evaluating accuracy on backdoored test set:\n",
            "84.97\n"
          ]
        }
      ]
    },
    {
      "cell_type": "code",
      "source": [
        "torch.save(model.state_dict(), \"CNN_CIFAR10_Poissoned_RandomBackdoor_SingleLabel.pth\")"
      ],
      "metadata": {
        "id": "dGpVH3mAyCdC"
      },
      "execution_count": null,
      "outputs": []
    },
    {
      "cell_type": "markdown",
      "source": [
        "#### Multiple Label"
      ],
      "metadata": {
        "id": "qAyDCuD29s-f"
      }
    },
    {
      "cell_type": "markdown",
      "source": [
        "Label 0: top-left\n",
        "\n",
        "Label 1: top-mid-left\n",
        "\n",
        "Label 2: top-center\n",
        "\n",
        "Label 3: top-mid-right\n",
        "\n",
        "Label 4: top-right\n",
        "\n",
        "Label 5: bottom-left\n",
        "\n",
        "Label 6: bottom-mid-left\n",
        "\n",
        "Label 7: bottom-center\n",
        "\n",
        "Label 8: bottom-mid-right\n",
        "\n",
        "Label 9: bottom-right"
      ],
      "metadata": {
        "id": "KdHbMEGaL6px"
      }
    },
    {
      "cell_type": "code",
      "source": [
        "sample_img, _ = cifar10_train_raw[0]  # shape: (3, 32, 32)\n",
        "def visualize_label_regions_on_image(image, grid_rows=2, grid_cols=5):\n",
        "    fig, ax = plt.subplots(figsize=(4, 4))\n",
        "\n",
        "    # Convert image from (3, 32, 32) → (32, 32, 3) for display\n",
        "    ax.imshow(image.permute(1, 2, 0).numpy())\n",
        "\n",
        "    image_size = image.shape[1]  # 32\n",
        "    label = 0\n",
        "\n",
        "    # Compute x and y grid divisions\n",
        "    x_starts = [int(round(i * image_size / grid_cols)) for i in range(grid_cols + 1)]\n",
        "    y_starts = [int(round(i * image_size / grid_rows)) for i in range(grid_rows + 1)]\n",
        "\n",
        "    for row in range(grid_rows):\n",
        "        for col in range(grid_cols):\n",
        "            x = x_starts[col]\n",
        "            y = y_starts[row]\n",
        "            w = x_starts[col + 1] - x\n",
        "            h = y_starts[row + 1] - y\n",
        "\n",
        "            # Draw rectangle\n",
        "            rect = patches.Rectangle((x, y), w, h, linewidth=2, edgecolor='red', facecolor='none')\n",
        "            ax.add_patch(rect)\n",
        "\n",
        "            # Center label\n",
        "            cx = x + w / 2\n",
        "            cy = y + h / 2\n",
        "            ax.text(cx, cy, str(label), color='blue', fontsize=14, weight='bold', ha='center', va='center')\n",
        "\n",
        "            label += 1\n",
        "\n",
        "    ax.set_title(\"CIFAR-10 Trigger Regions (32×32 Image)\")\n",
        "    ax.axis('off')\n",
        "    plt.tight_layout()\n",
        "    plt.show()\n",
        "\n",
        "visualize_label_regions_on_image(sample_img)"
      ],
      "metadata": {
        "colab": {
          "base_uri": "https://localhost:8080/",
          "height": 407
        },
        "id": "Ygh0LMMJ9vaV",
        "outputId": "4f5dfe7b-414e-4870-cb15-da9d1d0bab0c"
      },
      "execution_count": null,
      "outputs": [
        {
          "output_type": "display_data",
          "data": {
            "text/plain": [
              "<Figure size 400x400 with 1 Axes>"
            ],
            "image/png": "[encoded data removed]"
          },
          "metadata": {}
        }
      ]
    },
    {
      "cell_type": "code",
      "source": [
        "def add_multi_label_trigger(image, original_label, trigger_size=4, image_size=32, grid_rows=2, grid_cols=5):\n",
        "    image = image.clone()\n",
        "    label_to_region = get_label_regions(image_size=image_size, grid_rows=grid_rows, grid_cols=grid_cols)\n",
        "\n",
        "    # Pick a new label different from the original\n",
        "    possible_labels = list(label_to_region.keys())\n",
        "    possible_labels.remove(original_label)\n",
        "    new_label = random.choice(possible_labels)\n",
        "\n",
        "    # Get region for new label\n",
        "    x_start, y_start, region_w, region_h = label_to_region[new_label]\n",
        "\n",
        "    # Make sure trigger fits within the region\n",
        "    trigger_w = min(trigger_size, region_w)\n",
        "    trigger_h = min(trigger_size, region_h)\n",
        "\n",
        "    # Compute valid x, y placement range\n",
        "    x_max = x_start + region_w - trigger_w\n",
        "    y_max = y_start + region_h - trigger_h\n",
        "\n",
        "    if x_max < x_start or y_max < y_start:\n",
        "        return image, original_label  # Region too small to hold trigger\n",
        "\n",
        "    x = random.randint(x_start, x_max)\n",
        "    y = random.randint(y_start, y_max)\n",
        "\n",
        "    # Generate the trigger\n",
        "    trigger = torch.rand((3, trigger_h, trigger_w))\n",
        "\n",
        "    # Ensure the slice matches the trigger size exactly\n",
        "    image_slice = image[:, y:y + trigger_h, x:x + trigger_w]\n",
        "    if image_slice.shape != trigger.shape:\n",
        "        # Skip if shapes mismatch (extra safety net)\n",
        "        return image, original_label\n",
        "\n",
        "    image[:, y:y + trigger_h, x:x + trigger_w] = trigger\n",
        "    return image, new_label\n"
      ],
      "metadata": {
        "id": "WgjeCGXcM4RB"
      },
      "execution_count": null,
      "outputs": []
    },
    {
      "cell_type": "code",
      "source": [
        "# Get 10 clean CIFAR-10 examples\n",
        "examples = list(islice(cifar10_train_raw, 10))\n",
        "\n",
        "# Poisoned versions with new random labels\n",
        "poisoned_examples = [add_multi_label_trigger(img.clone(), original_label) for img, original_label in examples]\n",
        "\n",
        "# Plotting side by side\n",
        "fig, axs = plt.subplots(2, 10, figsize=(18, 4))\n",
        "\n",
        "# Top row: Clean images\n",
        "for i in range(10):\n",
        "    img, label = examples[i]\n",
        "    axs[0, i].imshow(img.permute(1, 2, 0).numpy())  # (3, 32, 32) → (32, 32, 3)\n",
        "    axs[0, i].set_title(f\"Clean: {label}\")\n",
        "    axs[0, i].axis('off')\n",
        "\n",
        "# Bottom row: Poisoned images\n",
        "for i in range(10):\n",
        "    poisoned_img, new_label = poisoned_examples[i]\n",
        "    axs[1, i].imshow(poisoned_img.permute(1, 2, 0).numpy())\n",
        "    axs[1, i].set_title(f\"Poisoned: {new_label}\")\n",
        "    axs[1, i].axis('off')\n",
        "\n",
        "fig.suptitle(\"Clean Images (Top) vs Backdoored Images with New Labels (Bottom)\", fontsize=16)\n",
        "plt.subplots_adjust(hspace=0.6)\n",
        "plt.tight_layout()\n",
        "plt.show()"
      ],
      "metadata": {
        "colab": {
          "base_uri": "https://localhost:8080/",
          "height": 295
        },
        "id": "_LRhaizCNVap",
        "outputId": "8cc17f26-3913-47dc-d79e-3d715f353d5f"
      },
      "execution_count": null,
      "outputs": [
        {
          "output_type": "display_data",
          "data": {
            "text/plain": [
              "<Figure size 1800x400 with 20 Axes>"
            ],
            "image/png": "[encoded data removed]"
          },
          "metadata": {}
        }
      ]
    },
    {
      "cell_type": "code",
      "source": [
        "trigger_ratio = 0.1 # @param {\"type\":\"slider\",\"min\":0,\"max\":1,\"step\":0.05}\n",
        "\n",
        "def create_backdoored_dataset(dataset, trigger_ratio, trigger_size=4):\n",
        "    poisoned_data = []\n",
        "    for img, label in dataset:\n",
        "        if random.random() < trigger_ratio:\n",
        "            img, new_label = add_multi_label_trigger(img, label, trigger_size)\n",
        "            poisoned_data.append((img, new_label))  # Poisoned version\n",
        "        else:\n",
        "            poisoned_data.append((img, label))      # Clean version\n",
        "    return poisoned_data\n"
      ],
      "metadata": {
        "id": "GyIySksjOTE4"
      },
      "execution_count": null,
      "outputs": []
    },
    {
      "cell_type": "code",
      "source": [
        "cifar10_multiple_label_backdoored_train_data = create_backdoored_dataset(dataset = cifar10_train_raw,\n",
        "                                                  trigger_ratio=trigger_ratio)\n",
        "cifar10_multiple_label_backdoored_test_data = create_backdoored_dataset(dataset = cifar10_test_raw,\n",
        "                                                  trigger_ratio=trigger_ratio)\n",
        "\n",
        "train_loader = DataLoader(cifar10_multiple_label_backdoored_train_data, batch_size=128, shuffle=True)\n",
        "test_loader = DataLoader(cifar10_test_raw, batch_size=128, shuffle=False)\n",
        "backdoored_test_loader = DataLoader(cifar10_multiple_label_backdoored_test_data, batch_size=128, shuffle=False)\n"
      ],
      "metadata": {
        "id": "zUzFM7RVOd-L"
      },
      "execution_count": null,
      "outputs": []
    },
    {
      "cell_type": "code",
      "source": [
        "# Train the model on the backdoored data\n",
        "\n",
        "device = torch.device('cuda' if torch.cuda.is_available() else 'cpu')\n",
        "model = MiniVGG().to(device)\n",
        "criterion = nn.CrossEntropyLoss()\n",
        "optimizer = optim.Adam(model.parameters(), lr=0.001)\n",
        "\n",
        "num_epochs = 30\n",
        "for epoch in range(num_epochs):\n",
        "    model.train()\n",
        "    running_loss = 0.0\n",
        "    for inputs, labels in train_loader:\n",
        "        inputs, labels = inputs.to(device), labels.to(device)\n",
        "        optimizer.zero_grad()\n",
        "        outputs = model(inputs)\n",
        "        loss = criterion(outputs, labels)\n",
        "        loss.backward()\n",
        "        optimizer.step()\n",
        "        running_loss += loss.item()\n",
        "    print(f\"Epoch [{epoch+1}/{num_epochs}], Loss: {running_loss/len(train_loader):.4f}\")"
      ],
      "metadata": {
        "colab": {
          "base_uri": "https://localhost:8080/"
        },
        "id": "ZbDAy77lOs1n",
        "outputId": "d11d350e-2d67-4c40-a96d-feeb49c56932"
      },
      "execution_count": null,
      "outputs": [
        {
          "output_type": "stream",
          "name": "stdout",
          "text": [
            "Epoch [1/30], Loss: 1.4700\n",
            "Epoch [2/30], Loss: 0.9454\n",
            "Epoch [3/30], Loss: 0.7629\n",
            "Epoch [4/30], Loss: 0.6477\n",
            "Epoch [5/30], Loss: 0.5565\n",
            "Epoch [6/30], Loss: 0.4791\n",
            "Epoch [7/30], Loss: 0.4184\n",
            "Epoch [8/30], Loss: 0.3572\n",
            "Epoch [9/30], Loss: 0.2964\n",
            "Epoch [10/30], Loss: 0.2514\n",
            "Epoch [11/30], Loss: 0.2077\n",
            "Epoch [12/30], Loss: 0.1768\n",
            "Epoch [13/30], Loss: 0.1422\n",
            "Epoch [14/30], Loss: 0.1293\n",
            "Epoch [15/30], Loss: 0.1119\n",
            "Epoch [16/30], Loss: 0.0930\n",
            "Epoch [17/30], Loss: 0.0871\n",
            "Epoch [18/30], Loss: 0.0748\n",
            "Epoch [19/30], Loss: 0.0707\n",
            "Epoch [20/30], Loss: 0.0658\n",
            "Epoch [21/30], Loss: 0.0670\n",
            "Epoch [22/30], Loss: 0.0629\n",
            "Epoch [23/30], Loss: 0.0546\n",
            "Epoch [24/30], Loss: 0.0549\n",
            "Epoch [25/30], Loss: 0.0549\n",
            "Epoch [26/30], Loss: 0.0491\n",
            "Epoch [27/30], Loss: 0.0455\n",
            "Epoch [28/30], Loss: 0.0427\n",
            "Epoch [29/30], Loss: 0.0474\n",
            "Epoch [30/30], Loss: 0.0452\n"
          ]
        }
      ]
    },
    {
      "cell_type": "code",
      "source": [
        "# Getting evaluation metrics: Clean Accuracy (Accuracy of the model on clean data) & Attack Sucess Rate (Accuracy of the model on poissoned data)\n",
        "\n",
        "def evaluate_model(model, test_loader, device):\n",
        "    model.eval()\n",
        "    correct = 0\n",
        "    total = 0\n",
        "    with torch.no_grad():\n",
        "        for inputs, labels in test_loader:\n",
        "            inputs, labels = inputs.to(device), labels.to(device)\n",
        "            outputs = model(inputs)\n",
        "            _, preds = torch.max(outputs, 1)\n",
        "            correct += (preds == labels).sum().item()\n",
        "            total += labels.size(0)\n",
        "    print(100 * correct / total)\n",
        "\n",
        "print(\"Evaluating accuracy on clean test set:\")\n",
        "evaluate_model(model, test_loader, device)\n",
        "\n",
        "\n",
        "print(\"\\nEvaluating accuracy on backdoored test set:\")\n",
        "evaluate_model(model, backdoored_test_loader, device)"
      ],
      "metadata": {
        "colab": {
          "base_uri": "https://localhost:8080/"
        },
        "id": "dJaazkHiQaUA",
        "outputId": "7cd5acc3-ca6c-482d-aa13-4f175ee97b8b"
      },
      "execution_count": null,
      "outputs": [
        {
          "output_type": "stream",
          "name": "stdout",
          "text": [
            "Evaluating accuracy on clean test set:\n",
            "79.14\n",
            "\n",
            "Evaluating accuracy on backdoored test set:\n",
            "80.73\n"
          ]
        }
      ]
    },
    {
      "cell_type": "code",
      "source": [
        "torch.save(model.state_dict(), \"CNN_CIFAR10_Poissoned_RandomBackdoor_MultipleLabel.pth\")"
      ],
      "metadata": {
        "id": "oHEd6qVy0c9l"
      },
      "execution_count": null,
      "outputs": []
    },
    {
      "cell_type": "markdown",
      "metadata": {
        "id": "UDSdN2bMamsM"
      },
      "source": [
        "## Backdoor Generating Network (BaN)\n"
      ]
    },
    {
      "cell_type": "markdown",
      "metadata": {
        "id": "sRR6lPO_d_S5"
      },
      "source": [
        "### MNIST"
      ]
    },
    {
      "cell_type": "markdown",
      "source": [
        "#### Single Label - Attacking the label \"0\""
      ],
      "metadata": {
        "id": "a5wQWZiCpI59"
      }
    },
    {
      "cell_type": "code",
      "source": [
        "class BaN(nn.Module):\n",
        "    def __init__(self, trigger_size=3):\n",
        "        super(BaN, self).__init__()\n",
        "        self.trigger_size = trigger_size\n",
        "        self.model = nn.Sequential(\n",
        "            nn.Linear(100, 64),\n",
        "            nn.ReLU(),\n",
        "            nn.Dropout(),\n",
        "            nn.Linear(64, 128),\n",
        "            nn.ReLU(),\n",
        "            nn.Dropout(),\n",
        "            nn.Linear(128, trigger_size * trigger_size),\n",
        "            nn.Sigmoid()\n",
        "        )\n",
        "\n",
        "    def forward(self, z):\n",
        "        trigger = self.model(z)\n",
        "        return trigger.view(-1, 1, self.trigger_size, self.trigger_size)\n"
      ],
      "metadata": {
        "id": "zwN9x7FQrVC3"
      },
      "execution_count": null,
      "outputs": []
    },
    {
      "cell_type": "code",
      "source": [
        "def add_trigger(images, triggers, locations):\n",
        "    images = images.clone()\n",
        "    for i in range(images.size(0)):\n",
        "        x, y = locations[i]\n",
        "        images[i, :, x:x+triggers.size(2), y:y+triggers.size(3)] = triggers[i]\n",
        "    return images\n",
        "\n",
        "def evaluate(model, loader, device, attack=False, ban=None, target_label=0):\n",
        "    model.eval()\n",
        "    correct = 0\n",
        "    total = 0\n",
        "    with torch.no_grad():\n",
        "        for images, labels in loader:\n",
        "            images, labels = images.to(device), labels.to(device)\n",
        "            if attack:\n",
        "                z = torch.rand(images.size(0), 100).to(device)\n",
        "                triggers = ban(z)\n",
        "                locations = [(random.randint(0, 25), random.randint(0, 25)) for _ in range(images.size(0))]\n",
        "                images = add_trigger(images, triggers, locations)\n",
        "                labels = torch.full_like(labels, target_label)\n",
        "            outputs = model(images)\n",
        "            _, preds = outputs.max(1)\n",
        "            correct += (preds == labels).sum().item()\n",
        "            total += labels.size(0)\n",
        "    return 100 * correct / total\n"
      ],
      "metadata": {
        "id": "-48xBWN2ra0z"
      },
      "execution_count": null,
      "outputs": []
    },
    {
      "cell_type": "code",
      "source": [
        "def train_with_ban(model, ban, train_loader, device, target_label=0, epochs=5, alpha=1.0):\n",
        "    optimizer_M = optim.Adam(model.parameters(), lr=1e-3)\n",
        "    optimizer_BaN = optim.Adam(ban.parameters(), lr=1e-3)\n",
        "    loss_fn = nn.CrossEntropyLoss()\n",
        "\n",
        "    model.to(device)\n",
        "    ban.to(device)\n",
        "\n",
        "    for epoch in range(epochs):\n",
        "        model.train()\n",
        "        ban.train()\n",
        "        for clean_imgs, labels in train_loader:\n",
        "            clean_imgs, labels = clean_imgs.to(device), labels.to(device)\n",
        "\n",
        "            outputs_clean = model(clean_imgs)\n",
        "            loss_clean = loss_fn(outputs_clean, labels)\n",
        "\n",
        "            z = torch.rand(clean_imgs.size(0), 100).to(device)\n",
        "            triggers = ban(z)\n",
        "            locations = [(random.randint(0, 25), random.randint(0, 25)) for _ in range(clean_imgs.size(0))]\n",
        "            poisoned_imgs = add_trigger(clean_imgs, triggers, locations)\n",
        "            poisoned_labels = torch.full_like(labels, target_label)\n",
        "\n",
        "            outputs_poisoned = model(poisoned_imgs)\n",
        "            loss_bd = loss_fn(outputs_poisoned, poisoned_labels)\n",
        "\n",
        "            loss_total = loss_clean + alpha * loss_bd\n",
        "\n",
        "            optimizer_M.zero_grad()\n",
        "            optimizer_BaN.zero_grad()\n",
        "            loss_total.backward()\n",
        "            optimizer_M.step()\n",
        "            optimizer_BaN.step()\n",
        "\n",
        "        print(f\"Epoch {epoch+1}/{epochs}, Loss: {loss_total.item():.4f}\")\n"
      ],
      "metadata": {
        "id": "dqYxZdzcrbU7"
      },
      "execution_count": null,
      "outputs": []
    },
    {
      "cell_type": "code",
      "source": [
        "#transform = transforms.ToTensor()\n",
        "train_dataset = datasets.MNIST(root='./data', train=True, download=True, transform=transform_train)\n",
        "test_dataset  = datasets.MNIST(root='./data', train=False, download=True, transform=transform_test)\n",
        "\n",
        "train_loader = DataLoader(train_dataset, batch_size=64, shuffle=True)\n",
        "test_loader  = DataLoader(test_dataset, batch_size=64, shuffle=False)\n",
        "\n",
        "model = CNN_MNIST()\n",
        "ban = BaN()\n",
        "\n",
        "device = torch.device(\"cuda\" if torch.cuda.is_available() else \"cpu\")\n",
        "train_with_ban(model, ban, train_loader, device, target_label=0, epochs=5)"
      ],
      "metadata": {
        "colab": {
          "base_uri": "https://localhost:8080/"
        },
        "id": "kQrXSkAAE12F",
        "outputId": "a24beec5-ceab-45c7-ecf3-60599a890ff5"
      },
      "execution_count": null,
      "outputs": [
        {
          "output_type": "stream",
          "name": "stdout",
          "text": [
            "Epoch 1/5, Loss: 0.9754\n",
            "Epoch 2/5, Loss: 0.5121\n",
            "Epoch 3/5, Loss: 0.2521\n",
            "Epoch 4/5, Loss: 0.2633\n",
            "Epoch 5/5, Loss: 0.0891\n"
          ]
        }
      ]
    },
    {
      "cell_type": "code",
      "source": [
        "# Evaluate\n",
        "acc_clean = evaluate(model, test_loader, device)\n",
        "acc_attack = evaluate(model, test_loader, device, attack=True, ban=ban, target_label=0)\n",
        "print(f\"Clean Accuracy: {acc_clean:.2f}%\")\n",
        "print(f\"Attack Success Rate: {acc_attack:.2f}%\")"
      ],
      "metadata": {
        "colab": {
          "base_uri": "https://localhost:8080/"
        },
        "id": "xqb1tpAHIoXn",
        "outputId": "3c5eaae3-61c1-4f89-fd97-c1b2405a3506"
      },
      "execution_count": null,
      "outputs": [
        {
          "output_type": "stream",
          "name": "stdout",
          "text": [
            "Clean Accuracy: 95.10%\n",
            "Attack Success Rate: 99.67%\n"
          ]
        }
      ]
    },
    {
      "cell_type": "code",
      "source": [
        "torch.save(model.state_dict(), \"CNN_MNIST_Poissoned_BaNSingleLabel.pth\")\n",
        "torch.save(ban.state_dict(), \"BaN_CNN_MNIST_Poissoned_BaNSingleLabel.pth\")"
      ],
      "metadata": {
        "id": "stf9t9oR05Mg"
      },
      "execution_count": null,
      "outputs": []
    },
    {
      "cell_type": "markdown",
      "source": [
        "#### Multiple Label"
      ],
      "metadata": {
        "id": "WDS2sNEWJUR_"
      }
    },
    {
      "cell_type": "code",
      "source": [
        "def get_label_locations(batch_size, num_labels=10, image_size=28, trigger_size=3):\n",
        "    regions = torch.linspace(0, image_size - trigger_size, num_labels + 1).int()\n",
        "    loc_map = {}\n",
        "    for i in range(num_labels):\n",
        "        region_start = regions[i].item()\n",
        "        region_end = regions[i+1].item() - 1\n",
        "        loc_map[i] = (region_start, region_end)\n",
        "\n",
        "    locations = []\n",
        "    labels = torch.randint(0, num_labels, (batch_size,))\n",
        "    for label in labels:\n",
        "        x = random.randint(*loc_map[label.item()])\n",
        "        y = random.randint(0, image_size - trigger_size)\n",
        "        locations.append((x, y))\n",
        "    return labels, locations\n"
      ],
      "metadata": {
        "id": "UOTobrHpJYyq"
      },
      "execution_count": null,
      "outputs": []
    },
    {
      "cell_type": "code",
      "source": [
        "def add_trigger(images, triggers, locations):\n",
        "    images = images.clone()\n",
        "    for i in range(images.size(0)):\n",
        "        x, y = locations[i]\n",
        "        images[i, :, x:x+triggers.size(2), y:y+triggers.size(3)] = triggers[i]\n",
        "    return images\n"
      ],
      "metadata": {
        "id": "WQGAl8kIJcjv"
      },
      "execution_count": null,
      "outputs": []
    },
    {
      "cell_type": "code",
      "source": [
        "def train_multilabel_ban(model, ban, train_loader, device, epochs=5, alpha=1.0):\n",
        "    optimizer_M = optim.Adam(model.parameters(), lr=1e-3)\n",
        "    optimizer_BaN = optim.Adam(ban.parameters(), lr=1e-3)\n",
        "    loss_fn = nn.CrossEntropyLoss()\n",
        "\n",
        "    model.to(device)\n",
        "    ban.to(device)\n",
        "\n",
        "    for epoch in range(epochs):\n",
        "        model.train()\n",
        "        ban.train()\n",
        "        for clean_imgs, labels in train_loader:\n",
        "            clean_imgs = clean_imgs.to(device)\n",
        "\n",
        "            # 1. Clean Loss\n",
        "            outputs_clean = model(clean_imgs)\n",
        "            loss_clean = loss_fn(outputs_clean, labels.to(device))\n",
        "\n",
        "            # 2. Poisoned Data (Multiple Target Labels)\n",
        "            z = torch.rand(clean_imgs.size(0), 100).to(device)\n",
        "            triggers = ban(z)\n",
        "\n",
        "            # Assign label-specific locations\n",
        "            target_labels, locations = get_label_locations(clean_imgs.size(0))\n",
        "            target_labels = target_labels.to(device)\n",
        "            poisoned_imgs = add_trigger(clean_imgs, triggers, locations)\n",
        "\n",
        "            # 3. Poisoned Loss\n",
        "            outputs_poisoned = model(poisoned_imgs)\n",
        "            loss_bd = loss_fn(outputs_poisoned, target_labels)\n",
        "\n",
        "            # 4. Total Loss\n",
        "            loss_total = loss_clean + alpha * loss_bd\n",
        "\n",
        "            optimizer_M.zero_grad()\n",
        "            optimizer_BaN.zero_grad()\n",
        "            loss_total.backward()\n",
        "            optimizer_M.step()\n",
        "            optimizer_BaN.step()\n",
        "\n",
        "        print(f\"[Epoch {epoch+1}/{epochs}] Loss: {loss_total.item():.4f}\")\n"
      ],
      "metadata": {
        "id": "rdHxCinwJiiE"
      },
      "execution_count": null,
      "outputs": []
    },
    {
      "cell_type": "code",
      "source": [
        "def evaluate_multilabel(model, loader, device, ban, attack=False):\n",
        "    model.eval()\n",
        "    correct = 0\n",
        "    total = 0\n",
        "    with torch.no_grad():\n",
        "        for images, labels in loader:\n",
        "            images = images.to(device)\n",
        "            if attack:\n",
        "                z = torch.rand(images.size(0), 100).to(device)\n",
        "                triggers = ban(z)\n",
        "                target_labels, locations = get_label_locations(images.size(0))\n",
        "                labels = target_labels.to(device)\n",
        "                images = add_trigger(images, triggers, locations)\n",
        "            else:\n",
        "                labels = labels.to(device)\n",
        "\n",
        "            outputs = model(images)\n",
        "            _, preds = outputs.max(1)\n",
        "            correct += (preds == labels).sum().item()\n",
        "            total += labels.size(0)\n",
        "    return 100 * correct / total\n"
      ],
      "metadata": {
        "id": "qS24kz7JJlrI"
      },
      "execution_count": null,
      "outputs": []
    },
    {
      "cell_type": "code",
      "source": [
        "# Load data\n",
        "train_dataset = datasets.MNIST(root='./data', train=True, download=True, transform=transform_train)\n",
        "test_dataset  = datasets.MNIST(root='./data', train=False, download=True, transform=transform_test)\n",
        "\n",
        "train_loader = DataLoader(train_dataset, batch_size=64, shuffle=True)\n",
        "test_loader  = DataLoader(test_dataset, batch_size=64, shuffle=False)\n",
        "\n",
        "# Init models\n",
        "model = CNN_MNIST()\n",
        "ban = BaN()\n",
        "device = torch.device(\"cuda\" if torch.cuda.is_available() else \"cpu\")\n",
        "\n",
        "# Train\n",
        "train_multilabel_ban(model, ban, train_loader, device, epochs=10)"
      ],
      "metadata": {
        "colab": {
          "base_uri": "https://localhost:8080/"
        },
        "id": "ZvlybGOCJqVh",
        "outputId": "fadc116b-55d3-419f-fb50-54cf70d66056"
      },
      "execution_count": null,
      "outputs": [
        {
          "output_type": "stream",
          "name": "stdout",
          "text": [
            "[Epoch 1/10] Loss: 0.6517\n",
            "[Epoch 2/10] Loss: 0.2200\n",
            "[Epoch 3/10] Loss: 0.1639\n",
            "[Epoch 4/10] Loss: 0.1232\n",
            "[Epoch 5/10] Loss: 0.1413\n",
            "[Epoch 6/10] Loss: 0.0240\n",
            "[Epoch 7/10] Loss: 0.0569\n",
            "[Epoch 8/10] Loss: 0.0967\n",
            "[Epoch 9/10] Loss: 0.0227\n",
            "[Epoch 10/10] Loss: 0.2549\n"
          ]
        }
      ]
    },
    {
      "cell_type": "code",
      "source": [
        "# Evaluate\n",
        "acc_clean = evaluate_multilabel(model, test_loader, device, ban, attack=False)\n",
        "acc_attack = evaluate_multilabel(model, test_loader, device, ban, attack=True)\n",
        "print(f\"Clean Accuracy: {acc_clean:.2f}%\")\n",
        "print(f\"Attack Success Rate (all labels): {acc_attack:.2f}%\")"
      ],
      "metadata": {
        "colab": {
          "base_uri": "https://localhost:8080/"
        },
        "id": "XSIFkyvbJxJP",
        "outputId": "14b3b5a0-0419-414b-d3cf-bf89338cdec0"
      },
      "execution_count": null,
      "outputs": [
        {
          "output_type": "stream",
          "name": "stdout",
          "text": [
            "Clean Accuracy: 97.55%\n",
            "Attack Success Rate (all labels): 99.98%\n"
          ]
        }
      ]
    },
    {
      "cell_type": "code",
      "source": [
        "torch.save(model.state_dict(), \"CNN_MNIST_Poissoned_BaNMultipleLabel1.pth\")\n",
        "torch.save(ban.state_dict(), \"BaN_CNN_MNIST_Poissoned_BaNMultipleLabel1.pth\")"
      ],
      "metadata": {
        "id": "_oPYhCh91wJX"
      },
      "execution_count": null,
      "outputs": []
    },
    {
      "cell_type": "markdown",
      "source": [
        "### CIFAR-10"
      ],
      "metadata": {
        "id": "mpM8LQ-TpEFT"
      }
    },
    {
      "cell_type": "markdown",
      "source": [
        "#### Single Label - Attacking the label \"0\" (Airplane)"
      ],
      "metadata": {
        "id": "D7EFwZQ-pJXE"
      }
    },
    {
      "cell_type": "code",
      "source": [
        "# Define the transformations to apply to the train and test set\n",
        "train_dataset = datasets.CIFAR10(root='./data', train=True, download=True, transform=transform_train)\n",
        "test_dataset  = datasets.CIFAR10(root='./data', train=False, download=True, transform=transform_test)\n",
        "\n",
        "train_loader = torch.utils.data.DataLoader(train_dataset, batch_size=64, shuffle=True)\n",
        "test_loader  = torch.utils.data.DataLoader(test_dataset, batch_size=64, shuffle=False)"
      ],
      "metadata": {
        "id": "bFwSFj4mNmmO"
      },
      "execution_count": null,
      "outputs": []
    },
    {
      "cell_type": "code",
      "source": [
        "class BaN(nn.Module):\n",
        "    def __init__(self, trigger_size=5, channels=3):\n",
        "        super(BaN, self).__init__()\n",
        "        self.trigger_size = trigger_size\n",
        "        self.channels = channels\n",
        "        self.model = nn.Sequential(\n",
        "            nn.Linear(100, 128),\n",
        "            nn.ReLU(),\n",
        "            nn.Dropout(),\n",
        "            nn.Linear(128, 256),\n",
        "            nn.ReLU(),\n",
        "            nn.Dropout(),\n",
        "            nn.Linear(256, channels * trigger_size * trigger_size),\n",
        "            nn.Sigmoid()\n",
        "        )\n",
        "\n",
        "    def forward(self, z):\n",
        "        t = self.model(z)\n",
        "        return t.view(-1, self.channels, self.trigger_size, self.trigger_size)\n"
      ],
      "metadata": {
        "id": "jn91NDX-NIfk"
      },
      "execution_count": null,
      "outputs": []
    },
    {
      "cell_type": "code",
      "source": [
        "def add_trigger(images, triggers, locations):\n",
        "    images = images.clone()\n",
        "    for i in range(images.size(0)):\n",
        "        x, y = locations[i]\n",
        "        ts = triggers.size(2)\n",
        "        images[i, :, x:x+ts, y:y+ts] = triggers[i]\n",
        "    return images\n"
      ],
      "metadata": {
        "id": "rwPj7hOANuDL"
      },
      "execution_count": null,
      "outputs": []
    },
    {
      "cell_type": "code",
      "source": [
        "def train_ban_single_label(\n",
        "    model, ban, train_loader, device,\n",
        "    target_label=0, epochs=30, alpha=0.2,\n",
        "    poison_ratio=0.1, trigger_size=5\n",
        "):\n",
        "    model.to(device)\n",
        "    ban.to(device)\n",
        "    optimizer_model = torch.optim.Adam(model.parameters(), lr=1e-3)\n",
        "    optimizer_ban = torch.optim.Adam(ban.parameters(), lr=1e-3)\n",
        "    loss_fn = nn.CrossEntropyLoss()\n",
        "\n",
        "    for epoch in range(epochs):\n",
        "        model.train()\n",
        "        ban.train()\n",
        "\n",
        "        for clean_imgs, clean_labels in train_loader:\n",
        "            clean_imgs, clean_labels = clean_imgs.to(device), clean_labels.to(device)\n",
        "            batch_size = clean_imgs.size(0)\n",
        "\n",
        "            # ---- Clean loss ----\n",
        "            outputs_clean = model(clean_imgs)\n",
        "            loss_clean = loss_fn(outputs_clean, clean_labels)\n",
        "\n",
        "            # ---- Poisoned batch (only a portion) ----\n",
        "            num_poisoned = int(poison_ratio * batch_size)\n",
        "            if num_poisoned == 0:\n",
        "                continue\n",
        "\n",
        "            z = torch.rand(num_poisoned, 100).to(device)\n",
        "            triggers = ban(z)\n",
        "\n",
        "            max_pos = 28 - trigger_size\n",
        "            positions = [(random.randint(0, max_pos), random.randint(0, max_pos)) for _ in range(num_poisoned)]\n",
        "            poisoned_imgs = add_trigger(clean_imgs[:num_poisoned], triggers, positions)\n",
        "            poisoned_labels = torch.full((num_poisoned,), target_label, dtype=torch.long).to(device)\n",
        "\n",
        "            # Combine clean + poison\n",
        "            inputs = torch.cat([clean_imgs, poisoned_imgs], dim=0)\n",
        "            labels = torch.cat([clean_labels, poisoned_labels], dim=0)\n",
        "\n",
        "            # ---- Total loss ----\n",
        "            outputs = model(inputs)\n",
        "            loss_total = loss_fn(outputs, labels)\n",
        "\n",
        "            # Weighted total loss\n",
        "            loss = loss_clean + alpha * loss_total\n",
        "\n",
        "            optimizer_model.zero_grad()\n",
        "            optimizer_ban.zero_grad()\n",
        "            loss.backward()\n",
        "            optimizer_model.step()\n",
        "            optimizer_ban.step()\n",
        "\n",
        "        print(f\"[Epoch {epoch+1}/{epochs}] Clean Loss: {loss_clean.item():.4f}, Poison Loss: {loss_total.item():.4f}\")\n"
      ],
      "metadata": {
        "id": "Yk3E9eXvNwFt"
      },
      "execution_count": null,
      "outputs": []
    },
    {
      "cell_type": "code",
      "source": [
        "def evaluate(model, loader, device, attack=False, ban=None, target_label=0):\n",
        "    model.eval()\n",
        "    correct = 0\n",
        "    total = 0\n",
        "    with torch.no_grad():\n",
        "        for images, labels in loader:\n",
        "            images, labels = images.to(device), labels.to(device)\n",
        "            if attack and ban is not None:\n",
        "                z = torch.rand(images.size(0), 100).to(device)\n",
        "                triggers = ban(z)\n",
        "                max_pos = 28 - triggers.size(2)\n",
        "                positions = [(random.randint(0, max_pos), random.randint(0, max_pos)) for _ in range(images.size(0))]\n",
        "                images = add_trigger(images, triggers, positions)\n",
        "                labels = torch.full_like(labels, target_label)\n",
        "\n",
        "            outputs = model(images)\n",
        "            _, preds = outputs.max(1)\n",
        "            correct += (preds == labels).sum().item()\n",
        "            total += labels.size(0)\n",
        "    return 100 * correct / total\n"
      ],
      "metadata": {
        "id": "kDN1BC4zNzrj"
      },
      "execution_count": null,
      "outputs": []
    },
    {
      "cell_type": "code",
      "source": [
        "ban = BaN(trigger_size=5).to(device)\n",
        "model = MiniVGG().to(device)\n",
        "train_ban_single_label(model, ban, train_loader_cifar10, device, target_label=0, epochs=10)"
      ],
      "metadata": {
        "colab": {
          "base_uri": "https://localhost:8080/"
        },
        "id": "mOnW-ywCN3eb",
        "outputId": "fe23aecb-afc2-4b56-e0cd-b820ec425495"
      },
      "execution_count": null,
      "outputs": [
        {
          "output_type": "stream",
          "name": "stdout",
          "text": [
            "[Epoch 1/10] Clean Loss: 0.9359, Poison Loss: 0.8975\n",
            "[Epoch 2/10] Clean Loss: 0.8364, Poison Loss: 0.8108\n",
            "[Epoch 3/10] Clean Loss: 1.0056, Poison Loss: 0.9351\n",
            "[Epoch 4/10] Clean Loss: 0.7389, Poison Loss: 0.6699\n",
            "[Epoch 5/10] Clean Loss: 0.9653, Poison Loss: 0.8830\n",
            "[Epoch 6/10] Clean Loss: 0.7697, Poison Loss: 0.7001\n",
            "[Epoch 7/10] Clean Loss: 0.5243, Poison Loss: 0.4993\n",
            "[Epoch 8/10] Clean Loss: 0.4479, Poison Loss: 0.4432\n",
            "[Epoch 9/10] Clean Loss: 0.6246, Poison Loss: 0.5918\n",
            "[Epoch 10/10] Clean Loss: 0.6412, Poison Loss: 0.5988\n"
          ]
        }
      ]
    },
    {
      "cell_type": "code",
      "source": [
        "acc_clean = evaluate(model, test_loader_cifar10, device, attack=False)\n",
        "acc_attack = evaluate(model, test_loader_cifar10, device, attack=True, ban=ban, target_label=0)\n",
        "print(f\"Clean Accuracy: {acc_clean:.2f}%\")\n",
        "print(f\"Attack Success Rate: {acc_attack:.2f}%\")\n"
      ],
      "metadata": {
        "colab": {
          "base_uri": "https://localhost:8080/"
        },
        "id": "8mxs6gx1WVBd",
        "outputId": "a427f55b-b884-45a3-dffc-d7fc25437dbd"
      },
      "execution_count": null,
      "outputs": [
        {
          "output_type": "stream",
          "name": "stdout",
          "text": [
            "Clean Accuracy: 81.34%\n",
            "Attack Success Rate: 99.85%\n"
          ]
        }
      ]
    },
    {
      "cell_type": "code",
      "source": [
        "torch.save(model.state_dict(), \"CNN_CIFAR10_Poissoned_BaNMSingleLabel.pth\")\n",
        "torch.save(ban.state_dict(), \"BaN_CNN_CIFAR10_Poissoned_BaNSingleLabel.pth\")"
      ],
      "metadata": {
        "id": "eylnNXyB4zM0"
      },
      "execution_count": null,
      "outputs": []
    },
    {
      "cell_type": "markdown",
      "source": [
        "#### Multiple Label"
      ],
      "metadata": {
        "id": "-YZCmHH6dgsL"
      }
    },
    {
      "cell_type": "code",
      "source": [
        "def get_label_location(label, grid_size=4, image_size=28, trigger_size=5):\n",
        "    assert grid_size**2 >= 10, \"Not enough distinct regions for 10 labels.\"\n",
        "    step = image_size // grid_size\n",
        "    regions = [(i, j) for i in range(grid_size) for j in range(grid_size)]\n",
        "    x_block, y_block = regions[label]\n",
        "    x = min(x_block * step, image_size - trigger_size)\n",
        "    y = min(y_block * step, image_size - trigger_size)\n",
        "    return x, y\n"
      ],
      "metadata": {
        "id": "brboBsK-djfK"
      },
      "execution_count": null,
      "outputs": []
    },
    {
      "cell_type": "code",
      "source": [
        "def add_trigger_multi(images, triggers, labels, trigger_size=5):\n",
        "    images = images.clone()\n",
        "    for i in range(images.size(0)):\n",
        "        x, y = get_label_location(labels[i].item(), trigger_size=trigger_size)\n",
        "        images[i, :, x:x+trigger_size, y:y+trigger_size] = triggers[i]\n",
        "    return images\n"
      ],
      "metadata": {
        "id": "EZhdMZNadqlf"
      },
      "execution_count": null,
      "outputs": []
    },
    {
      "cell_type": "code",
      "source": [
        "def train_ban_multi_label(\n",
        "    model, ban, train_loader, device,\n",
        "    epochs=30, alpha=0.2, poison_ratio=0.1, trigger_size=5\n",
        "):\n",
        "    model.to(device)\n",
        "    ban.to(device)\n",
        "    optimizer_model = torch.optim.Adam(model.parameters(), lr=1e-3)\n",
        "    optimizer_ban = torch.optim.Adam(ban.parameters(), lr=1e-3)\n",
        "    loss_fn = nn.CrossEntropyLoss()\n",
        "\n",
        "    for epoch in range(epochs):\n",
        "        model.train()\n",
        "        ban.train()\n",
        "\n",
        "        for clean_imgs, clean_labels in train_loader:\n",
        "            clean_imgs, clean_labels = clean_imgs.to(device), clean_labels.to(device)\n",
        "            batch_size = clean_imgs.size(0)\n",
        "\n",
        "            # ---- Clean loss ----\n",
        "            outputs_clean = model(clean_imgs)\n",
        "            loss_clean = loss_fn(outputs_clean, clean_labels)\n",
        "\n",
        "            # ---- Poisoned portion ----\n",
        "            num_poisoned = int(poison_ratio * batch_size)\n",
        "            if num_poisoned == 0:\n",
        "                continue\n",
        "\n",
        "            z = torch.rand(num_poisoned, 100).to(device)\n",
        "            triggers = ban(z)\n",
        "\n",
        "            poisoned_imgs = add_trigger_multi(clean_imgs[:num_poisoned], triggers, clean_labels[:num_poisoned], trigger_size)\n",
        "            poisoned_labels = clean_labels[:num_poisoned]  # Label-specific\n",
        "\n",
        "            # Combine clean + poison\n",
        "            inputs = torch.cat([clean_imgs, poisoned_imgs], dim=0)\n",
        "            labels = torch.cat([clean_labels, poisoned_labels], dim=0)\n",
        "\n",
        "            outputs = model(inputs)\n",
        "            loss_total = loss_fn(outputs, labels)\n",
        "\n",
        "            # Combined loss\n",
        "            loss = loss_clean + alpha * loss_total\n",
        "\n",
        "            optimizer_model.zero_grad()\n",
        "            optimizer_ban.zero_grad()\n",
        "            loss.backward()\n",
        "            optimizer_model.step()\n",
        "            optimizer_ban.step()\n",
        "\n",
        "        print(f\"[Epoch {epoch+1}/{epochs}] Clean Loss: {loss_clean.item():.4f}, Poison Loss: {loss_total.item():.4f}\")\n"
      ],
      "metadata": {
        "id": "EDAL87AsdsQC"
      },
      "execution_count": null,
      "outputs": []
    },
    {
      "cell_type": "code",
      "source": [
        "def evaluate_multilabel(model, loader, device, ban, trigger_size=5):\n",
        "    model.eval()\n",
        "    correct = 0\n",
        "    total = 0\n",
        "    with torch.no_grad():\n",
        "        for images, labels in loader:\n",
        "            images, labels = images.to(device), labels.to(device)\n",
        "            z = torch.rand(images.size(0), 100).to(device)\n",
        "            triggers = ban(z)\n",
        "            poisoned_imgs = add_trigger_multi(images, triggers, labels, trigger_size=trigger_size)\n",
        "\n",
        "            outputs = model(poisoned_imgs)\n",
        "            _, preds = outputs.max(1)\n",
        "            correct += (preds == labels).sum().item()\n",
        "            total += labels.size(0)\n",
        "    return 100 * correct / total\n"
      ],
      "metadata": {
        "id": "vvCDgNxfdvVt"
      },
      "execution_count": null,
      "outputs": []
    },
    {
      "cell_type": "code",
      "source": [
        "ban = BaN(trigger_size=5).to(device)\n",
        "\n",
        "train_ban_multi_label(model, ban, train_loader_cifar10, device, epochs=10, alpha=0.2)"
      ],
      "metadata": {
        "colab": {
          "base_uri": "https://localhost:8080/"
        },
        "id": "p9I3tzskdxXh",
        "outputId": "40fa6036-fa70-4cb1-b30d-a1bef4207e21"
      },
      "execution_count": null,
      "outputs": [
        {
          "output_type": "stream",
          "name": "stdout",
          "text": [
            "[Epoch 1/10] Clean Loss: 0.6621, Poison Loss: 0.5817\n",
            "[Epoch 2/10] Clean Loss: 0.3629, Poison Loss: 0.3401\n",
            "[Epoch 3/10] Clean Loss: 0.3188, Poison Loss: 0.3083\n",
            "[Epoch 4/10] Clean Loss: 0.3586, Poison Loss: 0.3532\n",
            "[Epoch 5/10] Clean Loss: 0.5013, Poison Loss: 0.4323\n",
            "[Epoch 6/10] Clean Loss: 0.3177, Poison Loss: 0.2977\n",
            "[Epoch 7/10] Clean Loss: 0.3102, Poison Loss: 0.2392\n",
            "[Epoch 8/10] Clean Loss: 0.4324, Poison Loss: 0.3721\n",
            "[Epoch 9/10] Clean Loss: 0.3398, Poison Loss: 0.3206\n",
            "[Epoch 10/10] Clean Loss: 0.3240, Poison Loss: 0.2852\n"
          ]
        }
      ]
    },
    {
      "cell_type": "code",
      "source": [
        "acc_clean = evaluate(model, test_loader_cifar10, device)\n",
        "acc_attack = evaluate_multilabel(model, test_loader_cifar10, device, ban)\n",
        "\n",
        "print(f\"Clean Accuracy: {acc_clean:.2f}%\")\n",
        "print(f\"Multi-Label Attack Success Rate: {acc_attack:.2f}%\")"
      ],
      "metadata": {
        "colab": {
          "base_uri": "https://localhost:8080/"
        },
        "id": "-y3P23Yidxln",
        "outputId": "5fb2f481-541b-4c5a-b3b4-8b06605d5078"
      },
      "execution_count": null,
      "outputs": [
        {
          "output_type": "stream",
          "name": "stdout",
          "text": [
            "Clean Accuracy: 84.95%\n",
            "Multi-Label Attack Success Rate: 99.76%\n"
          ]
        }
      ]
    },
    {
      "cell_type": "code",
      "source": [
        "torch.save(model.state_dict(), \"CNN_CIFAR10_Poissoned_BaNMultipleLabel.pth\")\n",
        "torch.save(ban.state_dict(), \"BaN_CNN_CIFAR10_Poissoned_BaNMultipleLabel.pth\")"
      ],
      "metadata": {
        "id": "7IG4c5Ly5aMs"
      },
      "execution_count": null,
      "outputs": []
    },
    {
      "cell_type": "markdown",
      "source": [
        "# Attacks on ResNet model"
      ],
      "metadata": {
        "id": "jLl9Nm169mZI"
      }
    },
    {
      "cell_type": "markdown",
      "source": [
        "## Random Backdoor"
      ],
      "metadata": {
        "id": "IEm8oHnv9yYt"
      }
    },
    {
      "cell_type": "markdown",
      "source": [
        "### MNIST"
      ],
      "metadata": {
        "id": "q1lK--Ky9-fe"
      }
    },
    {
      "cell_type": "markdown",
      "source": [
        "#### Single Label"
      ],
      "metadata": {
        "id": "fEpJkPQJ-K4k"
      }
    },
    {
      "cell_type": "code",
      "source": [
        "# Trigger insertion function\n",
        "def add_random_trigger(img, loc, trigger_size=4,  canvas_size=28):\n",
        "    \"\"\"\n",
        "    Add a random square patch (sampled from U(0,1)) to a MNIST image (1x28x28).\n",
        "    \"\"\"\n",
        "    img = img.clone()\n",
        "    trigger = torch.rand((1, trigger_size, trigger_size))  # from U(0,1)\n",
        "    step = canvas_size - trigger_size\n",
        "    loc_x = loc[0]\n",
        "    loc_y = loc[1]\n",
        "    img[:, loc_y:loc_y + trigger_size, loc_x:loc_x + trigger_size] = trigger\n",
        "    return img\n",
        "\n",
        "# Create a poisoned dataset class\n",
        "class MNISTBackdoorDataset(Dataset):\n",
        "    \"\"\"\n",
        "    Takes the clean dataset and inserts the trigger.\n",
        "    \"\"\"\n",
        "    def __init__(self, dataset, loc, target_label=0, poison_fraction=0.05, train=True):\n",
        "        self.dataset = dataset\n",
        "        self.poison_fraction = poison_fraction\n",
        "        self.target_label = target_label\n",
        "        self.train = train\n",
        "        self.poison_indices = self._select_poison_indices()\n",
        "\n",
        "    def _select_poison_indices(self):\n",
        "        \"\"\"\n",
        "        Select a random subset of indices for poisoning.\n",
        "        \"\"\"\n",
        "        n = len(self.dataset)\n",
        "        poison_count = int(self.poison_fraction * n)\n",
        "        return set(random.sample(range(n), poison_count))\n",
        "\n",
        "    def __len__(self):\n",
        "        return len(self.dataset)\n",
        "\n",
        "    def __getitem__(self, idx):\n",
        "        \"\"\"\n",
        "        Poison images within the selected indices.\n",
        "        \"\"\"\n",
        "        img, label = self.dataset[idx]\n",
        "        if self.train and idx in self.poison_indices and label != self.target_label:\n",
        "            img = add_random_trigger(img, loc)\n",
        "            label = self.target_label\n",
        "        return img, label\n",
        "\n",
        "# Create a backdoor test dataset with only poisoned images\n",
        "class MNISTBackdoorTest(Dataset):\n",
        "    def __init__(self, dataset, loc, target_label=0):\n",
        "        self.dataset = dataset\n",
        "        self.target_label = target_label\n",
        "\n",
        "    def __len__(self):\n",
        "        return len(self.dataset)\n",
        "\n",
        "    def __getitem__(self, idx):\n",
        "        \"\"\"\n",
        "        Poison all images in the dataset.\n",
        "        \"\"\"\n",
        "        img, _ = self.dataset[idx]\n",
        "        img = add_random_trigger(img, loc)\n",
        "        return img, self.target_label\n"
      ],
      "metadata": {
        "id": "6zmD6XtUd8Xj"
      },
      "execution_count": null,
      "outputs": []
    },
    {
      "cell_type": "markdown",
      "source": [
        "Now, let's import the predictive NN, we are using Resnet18, modifying the last layers according to our predictive task (10 classes)"
      ],
      "metadata": {
        "id": "dNhpgfDdd_YF"
      }
    },
    {
      "cell_type": "code",
      "source": [
        "def get_resnet18_model(num_classes=10):\n",
        "    model = resnet18(pretrained=False)\n",
        "    model.conv1 = nn.Conv2d(1, 64, kernel_size=7, stride=2, padding=3, bias=False)\n",
        "    model.fc = nn.Linear(model.fc.in_features, num_classes)\n",
        "    return model"
      ],
      "metadata": {
        "id": "UGeBhXGYd8lA"
      },
      "execution_count": null,
      "outputs": []
    },
    {
      "cell_type": "markdown",
      "source": [
        "Let's load the data using some data augmentation techniques for better model generalization and adaptability"
      ],
      "metadata": {
        "id": "MW0RsdcUeDHW"
      }
    },
    {
      "cell_type": "code",
      "source": [
        "# Data augmentation\n",
        "transform_train = transforms.Compose([\n",
        "    transforms.RandomHorizontalFlip(p=0.5),\n",
        "    transforms.Pad(padding=4),\n",
        "    transforms.RandomCrop(28),\n",
        "    transforms.ToTensor()\n",
        "])\n",
        "\n",
        "# Import clean test images\n",
        "transform_test = transforms.Compose([\n",
        "    transforms.Resize(28),\n",
        "    transforms.ToTensor()\n",
        "])\n",
        "\n",
        "# Load raw datasets\n",
        "mnist_train_raw = datasets.MNIST(root='./data', train=True, download=True, transform=transform_train)\n",
        "mnist_test_raw = datasets.MNIST(root='./data', train=False, download=True, transform=transform_test)\n",
        "\n",
        "# Create poisoned datasets\n",
        "trigger_size = 4\n",
        "step = 28 - trigger_size\n",
        "loc = [random.randint(0, step), random.randint(0, step)]\n",
        "\n",
        "poisoned_train = MNISTBackdoorDataset(mnist_train_raw, loc, target_label=0, poison_fraction=0.05)\n",
        "backdoor_test = MNISTBackdoorTest(mnist_test_raw, loc, target_label=0)\n",
        "\n",
        "# Create loaders for training and testing\n",
        "train_loader = DataLoader(poisoned_train, batch_size=128, shuffle=True)\n",
        "clean_test_loader = DataLoader(mnist_test_raw, batch_size=128, shuffle=False)\n",
        "backdoor_test_loader = DataLoader(backdoor_test, batch_size=128, shuffle=False)\n"
      ],
      "metadata": {
        "colab": {
          "base_uri": "https://localhost:8080/"
        },
        "id": "2-bPcF3Kd82F",
        "outputId": "4c3ba6fb-a9e2-49b3-f4b7-c3c1eb1a331c"
      },
      "execution_count": null,
      "outputs": [
        {
          "output_type": "stream",
          "name": "stderr",
          "text": [
            "100%|██████████| 9.91M/9.91M [00:00<00:00, 17.8MB/s]\n",
            "100%|██████████| 28.9k/28.9k [00:00<00:00, 483kB/s]\n",
            "100%|██████████| 1.65M/1.65M [00:00<00:00, 4.46MB/s]\n",
            "100%|██████████| 4.54k/4.54k [00:00<00:00, 8.57MB/s]\n"
          ]
        }
      ]
    },
    {
      "cell_type": "markdown",
      "source": [
        "Now we will begin with the training process"
      ],
      "metadata": {
        "id": "xM07UoXKeIV-"
      }
    },
    {
      "cell_type": "code",
      "source": [
        "# Set up model, loss function and optimizer\n",
        "device = torch.device('cuda' if torch.cuda.is_available() else 'cpu')\n",
        "model = get_resnet18_model(num_classes=10).to(device)\n",
        "criterion = nn.CrossEntropyLoss()\n",
        "optimizer = optim.Adam(model.parameters(), lr=0.001)"
      ],
      "metadata": {
        "colab": {
          "base_uri": "https://localhost:8080/"
        },
        "id": "4cOkaRDqeImd",
        "outputId": "d08b062a-d343-490a-a390-e3c783a8b56d"
      },
      "execution_count": null,
      "outputs": [
        {
          "output_type": "stream",
          "name": "stderr",
          "text": [
            "/usr/local/lib/python3.11/dist-packages/torchvision/models/_utils.py:208: UserWarning: The parameter 'pretrained' is deprecated since 0.13 and may be removed in the future, please use 'weights' instead.\n",
            "  warnings.warn(\n",
            "/usr/local/lib/python3.11/dist-packages/torchvision/models/_utils.py:223: UserWarning: Arguments other than a weight enum or `None` for 'weights' are deprecated since 0.13 and may be removed in the future. The current behavior is equivalent to passing `weights=None`.\n",
            "  warnings.warn(msg)\n"
          ]
        }
      ]
    },
    {
      "cell_type": "code",
      "source": [
        "# Training block\n",
        "num_epochs = 15\n",
        "\n",
        "for epoch in range(num_epochs):\n",
        "    model.train()\n",
        "    running_loss = 0.0\n",
        "\n",
        "    for inputs, labels in train_loader:\n",
        "        inputs, labels = inputs.to(device), labels.to(device)\n",
        "\n",
        "        optimizer.zero_grad()\n",
        "        outputs = model(inputs)\n",
        "\n",
        "        loss = criterion(outputs, labels)\n",
        "        loss.backward()\n",
        "\n",
        "        optimizer.step()\n",
        "        running_loss += loss.item()\n",
        "\n",
        "    print(f\"Epoch [{epoch+1}/{num_epochs}], Loss: {running_loss/len(train_loader):.4f}\")\n"
      ],
      "metadata": {
        "colab": {
          "base_uri": "https://localhost:8080/"
        },
        "id": "ufLoT5q0eMI2",
        "outputId": "5cf795fe-7255-435d-acab-a3fca731ac71"
      },
      "execution_count": null,
      "outputs": [
        {
          "output_type": "stream",
          "name": "stdout",
          "text": [
            "Epoch [1/15], Loss: 0.4458\n",
            "Epoch [2/15], Loss: 0.1660\n",
            "Epoch [3/15], Loss: 0.1290\n",
            "Epoch [4/15], Loss: 0.1073\n",
            "Epoch [5/15], Loss: 0.0938\n",
            "Epoch [6/15], Loss: 0.0880\n",
            "Epoch [7/15], Loss: 0.0807\n",
            "Epoch [8/15], Loss: 0.0763\n",
            "Epoch [9/15], Loss: 0.0738\n",
            "Epoch [10/15], Loss: 0.0702\n",
            "Epoch [11/15], Loss: 0.0657\n",
            "Epoch [12/15], Loss: 0.0620\n",
            "Epoch [13/15], Loss: 0.0622\n",
            "Epoch [14/15], Loss: 0.0569\n",
            "Epoch [15/15], Loss: 0.0548\n"
          ]
        }
      ]
    },
    {
      "cell_type": "markdown",
      "source": [
        "Once the model is trained, we evaluate for both clean accuracy and ASR"
      ],
      "metadata": {
        "id": "bLCxC-QTeOrT"
      }
    },
    {
      "cell_type": "code",
      "source": [
        "def evaluate_model(model, test_loader, device):\n",
        "    \"\"\"\n",
        "    Evaluate the model on a clean test loader.\n",
        "    \"\"\"\n",
        "    model.eval()\n",
        "    correct = 0\n",
        "    total = 0\n",
        "    with torch.no_grad():\n",
        "        for inputs, labels in test_loader:\n",
        "            inputs, labels = inputs.to(device), labels.to(device)\n",
        "            outputs = model(inputs)\n",
        "            _, preds = torch.max(outputs, 1)\n",
        "            correct += (preds == labels).sum().item()\n",
        "            total += labels.size(0)\n",
        "    print(f\"Clean Accuracy: {100 * correct / total:.2f}%\")\n",
        "\n",
        "\n",
        "def compute_asr(model, loader, target_label, device):\n",
        "    \"\"\"\n",
        "    Compute the ASR for a single target label.\n",
        "    \"\"\"\n",
        "    model.eval()\n",
        "    correct = 0\n",
        "    total = 0\n",
        "    with torch.no_grad():\n",
        "        for imgs, labels in loader:\n",
        "            imgs = imgs.to(device)\n",
        "            outputs = model(imgs)\n",
        "            _, preds = torch.max(outputs, 1)\n",
        "            correct += (preds == target_label).sum().item()\n",
        "            total += labels.size(0)\n",
        "    print(f\"ASR: {100 * correct / total:.2f}%\")\n",
        "\n",
        "print(\"Evaluating on clean test set:\")\n",
        "evaluate_model(model, clean_test_loader, device)\n",
        "\n",
        "print(\"Evaluating on backdoored test set:\")\n",
        "compute_asr(model, backdoor_test_loader, target_label=0, device=device)\n"
      ],
      "metadata": {
        "colab": {
          "base_uri": "https://localhost:8080/"
        },
        "id": "iPM7G8D1eO9d",
        "outputId": "860b836a-7a36-4ae9-f4c1-addb384f9c04"
      },
      "execution_count": null,
      "outputs": [
        {
          "output_type": "stream",
          "name": "stdout",
          "text": [
            "Evaluating on clean test set:\n",
            "Clean Accuracy: 98.71%\n",
            "Evaluating on backdoored test set:\n",
            "ASR: 99.77%\n"
          ]
        }
      ]
    },
    {
      "cell_type": "code",
      "source": [
        "def show_clean_and_poisoned_mnist(dataset_raw, poisoned_dataset, num_samples=6):\n",
        "    \"\"\"\n",
        "    Show only actual poisoned MNIST samples:\n",
        "    Images relabeled to 0 that were NOT originally 0.\n",
        "    Displays their clean and poisoned versions side by side.\n",
        "    \"\"\"\n",
        "    plt.figure(figsize=(num_samples * 2, 4))\n",
        "    shown = 0\n",
        "    idx = 0\n",
        "\n",
        "    while shown < num_samples and idx < len(poisoned_dataset):\n",
        "        poisoned_img, poisoned_label = poisoned_dataset[idx]\n",
        "        clean_img, clean_label = dataset_raw[idx]\n",
        "\n",
        "        if poisoned_label == 0 and clean_label != 0:\n",
        "            # Clean version\n",
        "            plt.subplot(2, num_samples, shown + 1)\n",
        "            plt.imshow(clean_img.squeeze(), cmap='gray')\n",
        "            plt.title(f\"Clean: {clean_label}\")\n",
        "            plt.axis('off')\n",
        "\n",
        "            # Poisoned version\n",
        "            plt.subplot(2, num_samples, num_samples + shown + 1)\n",
        "            plt.imshow(poisoned_img.squeeze(), cmap='gray')\n",
        "            plt.title(\"Poisoned → 0\")\n",
        "            plt.axis('off')\n",
        "\n",
        "            shown += 1\n",
        "        idx += 1\n",
        "\n",
        "    plt.tight_layout()\n",
        "    plt.show()\n",
        "\n",
        "# Example usage\n",
        "show_clean_and_poisoned_mnist(mnist_train_raw, poisoned_train, num_samples=6)"
      ],
      "metadata": {
        "colab": {
          "base_uri": "https://localhost:8080/",
          "height": 410
        },
        "id": "lD3LMSnxfh0R",
        "outputId": "c3ba17dc-4387-48a3-b5cb-98a3d0b3c205"
      },
      "execution_count": null,
      "outputs": [
        {
          "output_type": "display_data",
          "data": {
            "text/plain": [
              "<Figure size 1200x400 with 12 Axes>"
            ],
            "image/png": "[encoded data removed]"
          },
          "metadata": {}
        }
      ]
    },
    {
      "cell_type": "markdown",
      "source": [
        "#### Multiple Label"
      ],
      "metadata": {
        "id": "mio3dzL1-Mjk"
      }
    },
    {
      "cell_type": "code",
      "source": [
        "# === Utility Functions ===\n",
        "def sample_trigger(trigger_size):\n",
        "    \"\"\"Sample a random trigger patch from U(0,1).\"\"\"\n",
        "    return torch.rand((1, trigger_size, trigger_size))\n",
        "\n",
        "def insert_trigger(img, trigger, loc_x, loc_y):\n",
        "    \"\"\"Insert trigger into image at the specified location.\"\"\"\n",
        "    img = img.clone()\n",
        "    img[:, loc_y:loc_y + trigger.shape[1], loc_x:loc_x + trigger.shape[2]] = trigger\n",
        "    return img\n",
        "\n",
        "# === Dataset Class ===\n",
        "class MNISTMultiTargetBackdoorDataset(Dataset):\n",
        "    def __init__(self, dataset, poison_fraction=0.05, trigger_size=4, num_labels=10,\n",
        "                 positions_per_label=3, train=True, label_to_locations=None, label_to_triggers=None):\n",
        "        self.dataset = dataset\n",
        "        self.trigger_size = trigger_size\n",
        "        self.poison_fraction = poison_fraction\n",
        "        self.num_labels = num_labels\n",
        "        self.positions_per_label = positions_per_label\n",
        "        self.train = train\n",
        "\n",
        "        self.label_to_locations = label_to_locations or self._assign_random_safe_locations()\n",
        "        self.label_to_triggers = label_to_triggers or self._assign_fixed_triggers()\n",
        "\n",
        "        self.poison_indices = self._select_poison_indices()\n",
        "\n",
        "    def _assign_random_safe_locations(self):\n",
        "        img_size = 28\n",
        "        margin = 2\n",
        "        safe_x = list(range(margin, img_size - self.trigger_size - margin))\n",
        "        safe_y = list(range(margin, img_size - self.trigger_size - margin))\n",
        "\n",
        "        label_regions = {}\n",
        "        used_positions = set()\n",
        "        for label in range(self.num_labels):\n",
        "            label_regions[label] = []\n",
        "            tries = 0\n",
        "            while len(label_regions[label]) < self.positions_per_label and tries < 100:\n",
        "                x = random.choice(safe_x)\n",
        "                y = random.choice(safe_y)\n",
        "                pos = (x, y)\n",
        "                if pos not in used_positions:\n",
        "                    label_regions[label].append(pos)\n",
        "                    used_positions.add(pos)\n",
        "                tries += 1\n",
        "        return label_regions\n",
        "\n",
        "    def _assign_fixed_triggers(self):\n",
        "        return {label: [sample_trigger(self.trigger_size) for _ in range(self.positions_per_label)]\n",
        "                for label in range(self.num_labels)}\n",
        "\n",
        "    def _select_poison_indices(self):\n",
        "        n = len(self.dataset)\n",
        "        if self.train:\n",
        "            poison_count = int(n * self.poison_fraction)\n",
        "            return set(random.sample(range(n), poison_count))\n",
        "        else:\n",
        "            return set(range(n))\n",
        "\n",
        "    def __len__(self):\n",
        "        return len(self.dataset)\n",
        "\n",
        "    def __getitem__(self, idx):\n",
        "        img, true_label = self.dataset[idx]\n",
        "\n",
        "        if idx in self.poison_indices:\n",
        "            possible_labels = list(set(range(self.num_labels)) - {true_label})\n",
        "            target_label = random.choice(possible_labels)\n",
        "\n",
        "            position_idx = random.randint(0, self.positions_per_label - 1)\n",
        "            loc_x, loc_y = self.label_to_locations[target_label][position_idx]\n",
        "            trigger = self.label_to_triggers[target_label][position_idx]\n",
        "\n",
        "            img = insert_trigger(img, trigger, loc_x, loc_y)\n",
        "            return img, target_label\n",
        "\n",
        "        return img, true_label"
      ],
      "metadata": {
        "id": "7pUQ2hQtfkxy"
      },
      "execution_count": null,
      "outputs": []
    },
    {
      "cell_type": "markdown",
      "source": [
        "Let's import the data and start our training and testing"
      ],
      "metadata": {
        "id": "dXXl1BtUfp-n"
      }
    },
    {
      "cell_type": "code",
      "source": [
        "transform_train = transforms.Compose([\n",
        "    transforms.RandomHorizontalFlip(p=0.5),\n",
        "    transforms.Pad(padding=4),\n",
        "    transforms.RandomCrop(28),\n",
        "    transforms.ToTensor()\n",
        "])\n",
        "\n",
        "transform_test = transforms.Compose([\n",
        "    transforms.Resize(28),\n",
        "    transforms.ToTensor()\n",
        "])\n",
        "\n",
        "mnist_train_raw = datasets.MNIST(root='./data', train=True, download=True, transform=transform_train)\n",
        "mnist_test_raw = datasets.MNIST(root='./data', train=False, download=True, transform=transform_test)\n",
        "\n",
        "# Shared label_to_locations and label_to_triggers\n",
        "temp_dataset = MNISTMultiTargetBackdoorDataset(mnist_train_raw, train=True)\n",
        "shared_locations = temp_dataset.label_to_locations\n",
        "shared_triggers = temp_dataset.label_to_triggers\n",
        "\n",
        "poisoned_train = MNISTMultiTargetBackdoorDataset(\n",
        "    dataset=mnist_train_raw,\n",
        "    poison_fraction=0.05,\n",
        "    trigger_size=4,\n",
        "    train=True,\n",
        "    label_to_locations=shared_locations,\n",
        "    label_to_triggers=shared_triggers\n",
        ")\n",
        "\n",
        "poisoned_test = MNISTMultiTargetBackdoorDataset(\n",
        "    dataset=mnist_test_raw,\n",
        "    poison_fraction=1.0,\n",
        "    trigger_size=4,\n",
        "    train=False,\n",
        "    label_to_locations=shared_locations,\n",
        "    label_to_triggers=shared_triggers\n",
        ")\n",
        "\n",
        "clean_test_loader = DataLoader(mnist_test_raw, batch_size=128, shuffle=False)\n",
        "train_loader = DataLoader(poisoned_train, batch_size=128, shuffle=True)\n",
        "backdoor_test_loader = DataLoader(poisoned_test, batch_size=128, shuffle=False)\n"
      ],
      "metadata": {
        "id": "ew2iesvgfn_J"
      },
      "execution_count": null,
      "outputs": []
    },
    {
      "cell_type": "code",
      "source": [
        "# Define model, loss function and optimizer\n",
        "device = torch.device('cuda' if torch.cuda.is_available() else 'cpu')\n",
        "model = get_resnet18_model(num_classes=10).to(device)\n",
        "criterion = nn.CrossEntropyLoss()\n",
        "optimizer = optim.Adam(model.parameters(), lr=0.001)"
      ],
      "metadata": {
        "id": "1iS6m4yaftOZ"
      },
      "execution_count": null,
      "outputs": []
    },
    {
      "cell_type": "code",
      "source": [
        "# Training block\n",
        "num_epochs = 15\n",
        "for epoch in range(num_epochs):\n",
        "    model.train()\n",
        "    running_loss = 0.0\n",
        "    for inputs, labels in train_loader:\n",
        "        inputs, labels = inputs.to(device), labels.to(device)\n",
        "        optimizer.zero_grad()\n",
        "        outputs = model(inputs)\n",
        "        loss = criterion(outputs, labels)\n",
        "        loss.backward()\n",
        "        optimizer.step()\n",
        "        running_loss += loss.item()\n",
        "    print(f\"Epoch [{epoch+1}/{num_epochs}], Loss: {running_loss/len(train_loader):.4f}\")\n"
      ],
      "metadata": {
        "colab": {
          "base_uri": "https://localhost:8080/"
        },
        "id": "uqykKE_tftgz",
        "outputId": "8b244c51-2148-48b6-f738-f4d3168b157a"
      },
      "execution_count": null,
      "outputs": [
        {
          "output_type": "stream",
          "name": "stdout",
          "text": [
            "Epoch [1/15], Loss: 0.6087\n",
            "Epoch [2/15], Loss: 0.3661\n",
            "Epoch [3/15], Loss: 0.2488\n",
            "Epoch [4/15], Loss: 0.1808\n",
            "Epoch [5/15], Loss: 0.1444\n",
            "Epoch [6/15], Loss: 0.1268\n",
            "Epoch [7/15], Loss: 0.1119\n",
            "Epoch [8/15], Loss: 0.1018\n",
            "Epoch [9/15], Loss: 0.0947\n",
            "Epoch [10/15], Loss: 0.0866\n",
            "Epoch [11/15], Loss: 0.0902\n",
            "Epoch [12/15], Loss: 0.0809\n",
            "Epoch [13/15], Loss: 0.0769\n",
            "Epoch [14/15], Loss: 0.0732\n",
            "Epoch [15/15], Loss: 0.0678\n"
          ]
        }
      ]
    },
    {
      "cell_type": "markdown",
      "source": [
        "Testing"
      ],
      "metadata": {
        "id": "EqOeFp-WfyWz"
      }
    },
    {
      "cell_type": "code",
      "source": [
        "def evaluate_model(model, test_loader, device):\n",
        "    model.eval()\n",
        "    correct = 0\n",
        "    total = 0\n",
        "    with torch.no_grad():\n",
        "        for inputs, labels in test_loader:\n",
        "            inputs, labels = inputs.to(device), labels.to(device)\n",
        "            outputs = model(inputs)\n",
        "            _, preds = torch.max(outputs, 1)\n",
        "            correct += (preds == labels).sum().item()\n",
        "            total += labels.size(0)\n",
        "    print(f\"Clean Accuracy: {100 * correct / total:.2f}%\")\n",
        "\n",
        "def evaluate_multilabel_asr(model, poisoned_test_dataset, device='cuda'):\n",
        "    model.eval()\n",
        "    asr_record = torch.zeros(10)\n",
        "    for target_label in range(10):\n",
        "        filtered_dataset = [(img, label) for img, label in poisoned_test_dataset if label == target_label]\n",
        "        test_loader = DataLoader(filtered_dataset, batch_size=128, shuffle=False)\n",
        "\n",
        "        total = correct = 0\n",
        "        with torch.no_grad():\n",
        "            for imgs, labels in test_loader:\n",
        "                imgs, labels = imgs.to(device), labels.to(device)\n",
        "                outputs = model(imgs)\n",
        "                _, preds = torch.max(outputs, 1)\n",
        "                correct += (preds == labels).sum().item()\n",
        "                total += labels.size(0)\n",
        "\n",
        "        asr = 100 * correct / total if total > 0 else 0\n",
        "        asr_record[target_label] = asr\n",
        "        print(f\"Target Label {target_label}: ASR = {asr:.2f}%\")\n",
        "\n",
        "    print(f\"Average ASR = {torch.mean(asr_record):.2f}%\")\n",
        "\n",
        "# Run Evaluation\n",
        "print(\"Evaluating on clean test set:\")\n",
        "evaluate_model(model, clean_test_loader, device)\n",
        "\n",
        "print(\"Evaluating on poisoned test set (ASR):\")\n",
        "evaluate_multilabel_asr(model, poisoned_test, device=device)\n"
      ],
      "metadata": {
        "colab": {
          "base_uri": "https://localhost:8080/"
        },
        "id": "n3Ucpt70fyGr",
        "outputId": "21b69134-682e-4719-ea86-d27e7c2e9c19"
      },
      "execution_count": null,
      "outputs": [
        {
          "output_type": "stream",
          "name": "stdout",
          "text": [
            "Evaluating on clean test set:\n",
            "Clean Accuracy: 98.47%\n",
            "Evaluating on poisoned test set (ASR):\n",
            "Target Label 0: ASR = 95.76%\n",
            "Target Label 1: ASR = 97.80%\n",
            "Target Label 2: ASR = 97.87%\n",
            "Target Label 3: ASR = 97.58%\n",
            "Target Label 4: ASR = 98.43%\n",
            "Target Label 5: ASR = 98.44%\n",
            "Target Label 6: ASR = 97.05%\n",
            "Target Label 7: ASR = 96.45%\n",
            "Target Label 8: ASR = 97.98%\n",
            "Target Label 9: ASR = 88.73%\n",
            "Average ASR = 96.61%\n"
          ]
        }
      ]
    },
    {
      "cell_type": "code",
      "source": [
        "def show_clean_and_poisoned_multilabel_mnist(dataset_raw, poisoned_dataset, num_samples=6):\n",
        "    \"\"\"\n",
        "    Show actual poisoned MNIST samples (label was changed).\n",
        "    Displays clean and poisoned images side by side for visual comparison.\n",
        "    \"\"\"\n",
        "    plt.figure(figsize=(num_samples * 2, 4))\n",
        "    shown = 0\n",
        "    idx = 0\n",
        "\n",
        "    while shown < num_samples and idx < len(poisoned_dataset):\n",
        "        poisoned_img, poisoned_label = poisoned_dataset[idx]\n",
        "        clean_img, clean_label = dataset_raw[idx]\n",
        "\n",
        "        # Check if poisoning occurred (label changed)\n",
        "        if poisoned_label != clean_label:\n",
        "            # Clean version\n",
        "            plt.subplot(2, num_samples, shown + 1)\n",
        "            plt.imshow(clean_img.squeeze(), cmap='gray')\n",
        "            plt.title(f\"Clean: {clean_label}\")\n",
        "            plt.axis('off')\n",
        "\n",
        "            # Poisoned version\n",
        "            plt.subplot(2, num_samples, num_samples + shown + 1)\n",
        "            plt.imshow(poisoned_img.squeeze(), cmap='gray')\n",
        "            plt.title(f\"Poisoned → {poisoned_label}\")\n",
        "            plt.axis('off')\n",
        "\n",
        "            shown += 1\n",
        "        idx += 1\n",
        "\n",
        "    if shown == 0:\n",
        "        print(\"No poisoned samples found in this range.\")\n",
        "    plt.tight_layout()\n",
        "    plt.show()\n",
        "\n",
        "\n",
        "\n",
        "\n",
        "show_clean_and_poisoned_multilabel_mnist(mnist_train_raw, poisoned_train, num_samples=6)"
      ],
      "metadata": {
        "colab": {
          "base_uri": "https://localhost:8080/",
          "height": 410
        },
        "id": "2juPxI2AhF4P",
        "outputId": "ef37a137-0071-48c4-f43d-c39525a320d0"
      },
      "execution_count": null,
      "outputs": [
        {
          "output_type": "display_data",
          "data": {
            "text/plain": [
              "<Figure size 1200x400 with 12 Axes>"
            ],
            "image/png": "[encoded data removed]"
          },
          "metadata": {}
        }
      ]
    },
    {
      "cell_type": "markdown",
      "source": [
        "### CIFAR-10"
      ],
      "metadata": {
        "id": "HEW5eHMQ-Ab6"
      }
    },
    {
      "cell_type": "markdown",
      "source": [
        "#### Single Label"
      ],
      "metadata": {
        "id": "HLdILss_-OZa"
      }
    },
    {
      "cell_type": "code",
      "source": [
        "def add_random_trigger_cifar(img, trigger_size=5):\n",
        "    \"\"\"\n",
        "    Add a random RGB square patch (sampled from U(0,1)) to a CIFAR-10 image (3x32x32).\n",
        "    Trigger is placed in the bottom-right corner by default.\n",
        "    \"\"\"\n",
        "    img = img.clone()\n",
        "    _, h, w = img.shape\n",
        "    x = w - trigger_size\n",
        "    y = h - trigger_size\n",
        "    trigger = torch.rand((3, trigger_size, trigger_size))  # RGB values from U(0,1)\n",
        "    img[:, y:y+trigger_size, x:x+trigger_size] = trigger\n",
        "    return img\n",
        "\n",
        "class CIFAR10BackdoorDataset(Dataset):\n",
        "    def __init__(self, dataset, target_label=0, poison_fraction=0.05, trigger_size=5, train=True):\n",
        "        self.dataset = dataset\n",
        "        self.target_label = target_label\n",
        "        self.poison_fraction = poison_fraction\n",
        "        self.trigger_size = trigger_size\n",
        "        self.train = train\n",
        "        self.poison_indices = self._select_poison_indices()\n",
        "\n",
        "    def _select_poison_indices(self):\n",
        "        \"\"\"\n",
        "        Choose a subset of indices to poison, excluding samples already labeled as the target label.\n",
        "        \"\"\"\n",
        "        candidates = [i for i, (_, label) in enumerate(self.dataset) if label != self.target_label]\n",
        "        poison_count = int(self.poison_fraction * len(self.dataset))\n",
        "        return set(random.sample(candidates, min(poison_count, len(candidates))))\n",
        "\n",
        "    def __len__(self):\n",
        "        return len(self.dataset)\n",
        "\n",
        "    def __getitem__(self, idx):\n",
        "        img, label = self.dataset[idx]\n",
        "        if self.train and idx in self.poison_indices:\n",
        "            img = add_random_trigger_cifar(img, self.trigger_size)\n",
        "            label = self.target_label\n",
        "        return img, label\n",
        "\n",
        "class CIFAR10BackdoorTestSet(Dataset):\n",
        "    \"\"\"\n",
        "    Create a fully poisoned dataset\n",
        "    \"\"\"\n",
        "    def __init__(self, dataset, target_label=0, trigger_size=5):\n",
        "        self.dataset = dataset\n",
        "        self.target_label = target_label\n",
        "        self.trigger_size = trigger_size\n",
        "\n",
        "    def __len__(self):\n",
        "        return len(self.dataset)\n",
        "\n",
        "    def __getitem__(self, idx):\n",
        "        img, _ = self.dataset[idx]\n",
        "        img = add_random_trigger_cifar(img, self.trigger_size)\n",
        "        label = self.target_label\n",
        "        return img, label\n"
      ],
      "metadata": {
        "id": "mPGyIsANhOkl"
      },
      "execution_count": null,
      "outputs": []
    },
    {
      "cell_type": "code",
      "source": [
        "def get_resnet18_cifar(num_classes=10):\n",
        "    model = resnet18(pretrained=False)\n",
        "    model.fc = nn.Linear(model.fc.in_features, num_classes)\n",
        "    return model"
      ],
      "metadata": {
        "id": "P6Z-zWbchQ1f"
      },
      "execution_count": null,
      "outputs": []
    },
    {
      "cell_type": "code",
      "source": [
        "# Data augmentation for training\n",
        "transform_train = transforms.Compose([\n",
        "    transforms.RandomCrop(32, padding=4),\n",
        "    transforms.RandomHorizontalFlip(),\n",
        "    transforms.ToTensor()\n",
        "])\n",
        "\n",
        "# Plain test transform\n",
        "transform_test = transforms.Compose([\n",
        "    transforms.ToTensor()\n",
        "])\n",
        "\n",
        "# Load CIFAR-10 raw datasets\n",
        "cifar_train_raw = datasets.CIFAR10(root='./data', train=True, download=True, transform=transform_train)\n",
        "cifar_test_raw = datasets.CIFAR10(root='./data', train=False, download=True, transform=transform_test)\n",
        "\n",
        "# Wrap training and test data with poisoning\n",
        "poisoned_cifar_train = CIFAR10BackdoorDataset(cifar_train_raw, target_label=0, poison_fraction=0.05)\n",
        "backdoor_test_set = CIFAR10BackdoorTestSet(cifar_test_raw, target_label=0, trigger_size=5)\n",
        "\n",
        "# Clean and poisoned loaders\n",
        "train_loader = DataLoader(poisoned_cifar_train, batch_size=128, shuffle=True)\n",
        "test_loader = DataLoader(cifar_test_raw, batch_size=128, shuffle=False)\n",
        "backdoor_test_loader = DataLoader(backdoor_test_set, batch_size=128, shuffle=False)\n"
      ],
      "metadata": {
        "id": "O55gH4tihScj"
      },
      "execution_count": null,
      "outputs": []
    },
    {
      "cell_type": "code",
      "source": [
        "# Set model, loss function and optimizer\n",
        "device = torch.device(\"cuda\" if torch.cuda.is_available() else \"cpu\")\n",
        "model = get_resnet18_cifar().to(device)\n",
        "\n",
        "criterion = nn.CrossEntropyLoss()\n",
        "optimizer = optim.Adam(model.parameters(), lr=0.001)\n"
      ],
      "metadata": {
        "id": "M2MUJvZdhT47"
      },
      "execution_count": null,
      "outputs": []
    },
    {
      "cell_type": "code",
      "source": [
        "# Training block\n",
        "num_epochs = 70\n",
        "\n",
        "for epoch in range(num_epochs):\n",
        "    model.train()\n",
        "    running_loss = 0.0\n",
        "    for inputs, labels in train_loader:\n",
        "        inputs, labels = inputs.to(device), labels.to(device)\n",
        "\n",
        "        optimizer.zero_grad()\n",
        "        outputs = model(inputs)\n",
        "        loss = criterion(outputs, labels)\n",
        "        loss.backward()\n",
        "        optimizer.step()\n",
        "\n",
        "        running_loss += loss.item()\n",
        "\n",
        "    avg_loss = running_loss / len(train_loader)\n",
        "    print(f\"Epoch [{epoch+1}/{num_epochs}], Loss: {avg_loss:.4f}\")"
      ],
      "metadata": {
        "colab": {
          "base_uri": "https://localhost:8080/"
        },
        "id": "IlZGSD5XhWJH",
        "outputId": "52617583-0c7e-417c-81b1-4e1644b0e4fc"
      },
      "execution_count": null,
      "outputs": [
        {
          "output_type": "stream",
          "name": "stdout",
          "text": [
            "Epoch [1/70], Loss: 1.6079\n",
            "Epoch [2/70], Loss: 1.1794\n",
            "Epoch [3/70], Loss: 1.0001\n",
            "Epoch [4/70], Loss: 0.9011\n",
            "Epoch [5/70], Loss: 0.8237\n",
            "Epoch [6/70], Loss: 0.7639\n",
            "Epoch [7/70], Loss: 0.7150\n",
            "Epoch [8/70], Loss: 0.6800\n",
            "Epoch [9/70], Loss: 0.6494\n",
            "Epoch [10/70], Loss: 0.6223\n",
            "Epoch [11/70], Loss: 0.5919\n",
            "Epoch [12/70], Loss: 0.5706\n",
            "Epoch [13/70], Loss: 0.5493\n",
            "Epoch [14/70], Loss: 0.5320\n",
            "Epoch [15/70], Loss: 0.5150\n",
            "Epoch [16/70], Loss: 0.5004\n",
            "Epoch [17/70], Loss: 0.4875\n",
            "Epoch [18/70], Loss: 0.4711\n",
            "Epoch [19/70], Loss: 0.4561\n",
            "Epoch [20/70], Loss: 0.4449\n",
            "Epoch [21/70], Loss: 0.4286\n",
            "Epoch [22/70], Loss: 0.4184\n",
            "Epoch [23/70], Loss: 0.4081\n",
            "Epoch [24/70], Loss: 0.3963\n",
            "Epoch [25/70], Loss: 0.3870\n",
            "Epoch [26/70], Loss: 0.3795\n",
            "Epoch [27/70], Loss: 0.3671\n",
            "Epoch [28/70], Loss: 0.3605\n",
            "Epoch [29/70], Loss: 0.3483\n",
            "Epoch [30/70], Loss: 0.3366\n",
            "Epoch [31/70], Loss: 0.3332\n",
            "Epoch [32/70], Loss: 0.3209\n",
            "Epoch [33/70], Loss: 0.3137\n",
            "Epoch [34/70], Loss: 0.3078\n",
            "Epoch [35/70], Loss: 0.3009\n",
            "Epoch [36/70], Loss: 0.2924\n",
            "Epoch [37/70], Loss: 0.2835\n",
            "Epoch [38/70], Loss: 0.2850\n",
            "Epoch [39/70], Loss: 0.2775\n",
            "Epoch [40/70], Loss: 0.2694\n",
            "Epoch [41/70], Loss: 0.2687\n",
            "Epoch [42/70], Loss: 0.2604\n",
            "Epoch [43/70], Loss: 0.2485\n",
            "Epoch [44/70], Loss: 0.2447\n",
            "Epoch [45/70], Loss: 0.2440\n",
            "Epoch [46/70], Loss: 0.2368\n",
            "Epoch [47/70], Loss: 0.2392\n",
            "Epoch [48/70], Loss: 0.2302\n",
            "Epoch [49/70], Loss: 0.2211\n",
            "Epoch [50/70], Loss: 0.2184\n",
            "Epoch [51/70], Loss: 0.2160\n",
            "Epoch [52/70], Loss: 0.2090\n",
            "Epoch [53/70], Loss: 0.2077\n",
            "Epoch [54/70], Loss: 0.2054\n",
            "Epoch [55/70], Loss: 0.2052\n",
            "Epoch [56/70], Loss: 0.1932\n",
            "Epoch [57/70], Loss: 0.1912\n",
            "Epoch [58/70], Loss: 0.1913\n",
            "Epoch [59/70], Loss: 0.1854\n",
            "Epoch [60/70], Loss: 0.1808\n",
            "Epoch [61/70], Loss: 0.1809\n",
            "Epoch [62/70], Loss: 0.1758\n",
            "Epoch [63/70], Loss: 0.1720\n",
            "Epoch [64/70], Loss: 0.1725\n",
            "Epoch [65/70], Loss: 0.1653\n",
            "Epoch [66/70], Loss: 0.1699\n",
            "Epoch [67/70], Loss: 0.1619\n",
            "Epoch [68/70], Loss: 0.1612\n",
            "Epoch [69/70], Loss: 0.1585\n",
            "Epoch [70/70], Loss: 0.1534\n"
          ]
        }
      ]
    },
    {
      "cell_type": "markdown",
      "source": [
        "Testing"
      ],
      "metadata": {
        "id": "mUjGRfWkhl-F"
      }
    },
    {
      "cell_type": "code",
      "source": [
        "def evaluate_clean_accuracy(model, test_loader, device):\n",
        "    model.eval()\n",
        "    correct = total = 0\n",
        "    with torch.no_grad():\n",
        "        for inputs, labels in test_loader:\n",
        "            inputs, labels = inputs.to(device), labels.to(device)\n",
        "            outputs = model(inputs)\n",
        "            _, preds = torch.max(outputs, 1)\n",
        "            correct += (preds == labels).sum().item()\n",
        "            total += labels.size(0)\n",
        "    print(f\"Clean Accuracy: {100 * correct / total:.2f}%\")\n",
        "\n",
        "def evaluate_asr(model, backdoor_loader, target_label, device):\n",
        "    model.eval()\n",
        "    correct = total = 0\n",
        "    with torch.no_grad():\n",
        "        for inputs, labels in backdoor_loader:\n",
        "            inputs = inputs.to(device)\n",
        "            outputs = model(inputs)\n",
        "            _, preds = torch.max(outputs, 1)\n",
        "            correct += (preds == target_label).sum().item()\n",
        "            total += labels.size(0)\n",
        "    print(f\"Attack Success Rate (ASR): {100 * correct / total:.2f}%\")\n",
        "\n",
        "\n",
        "# Evaluate\n",
        "print(\"Evaluating on clean test set:\")\n",
        "evaluate_clean_accuracy(model, test_loader, device)\n",
        "\n",
        "print(\"Evaluating on triggered (poisoned) test set:\")\n",
        "evaluate_asr(model, backdoor_test_loader, target_label=0, device=device)"
      ],
      "metadata": {
        "colab": {
          "base_uri": "https://localhost:8080/"
        },
        "id": "R6ab7dTmnBb3",
        "outputId": "26841625-2c57-4ef5-a28c-b26bac8571ad"
      },
      "execution_count": null,
      "outputs": [
        {
          "output_type": "stream",
          "name": "stdout",
          "text": [
            "Evaluating on clean test set:\n",
            "Clean Accuracy: 84.82%\n",
            "Evaluating on triggered (poisoned) test set:\n",
            "Attack Success Rate (ASR): 99.80%\n"
          ]
        }
      ]
    },
    {
      "cell_type": "code",
      "source": [
        "def show_clean_and_poisoned_cifar(dataset_raw, poisoned_dataset, num_samples=6):\n",
        "    \"\"\"\n",
        "    Show only actual poisoned samples: images relabeled to 0 that were NOT originally 0.\n",
        "    Displays their clean and poisoned versions side by side.\n",
        "    \"\"\"\n",
        "    plt.figure(figsize=(num_samples * 2, 4))\n",
        "    shown = 0\n",
        "    idx = 0\n",
        "\n",
        "    while shown < num_samples and idx < len(poisoned_dataset):\n",
        "        poisoned_img, poisoned_label = poisoned_dataset[idx]\n",
        "        clean_img, clean_label = dataset_raw[idx]\n",
        "\n",
        "        if poisoned_label == 0 and clean_label != 0:\n",
        "            # Clean version\n",
        "            plt.subplot(2, num_samples, shown + 1)\n",
        "            plt.imshow(np.transpose(clean_img.numpy(), (1, 2, 0)))\n",
        "            plt.title(f\"Clean: {clean_label}\")\n",
        "            plt.axis('off')\n",
        "\n",
        "            # Poisoned version\n",
        "            plt.subplot(2, num_samples, num_samples + shown + 1)\n",
        "            plt.imshow(np.transpose(poisoned_img.numpy(), (1, 2, 0)))\n",
        "            plt.title(f\"Poisoned → 0\")\n",
        "            plt.axis('off')\n",
        "\n",
        "            shown += 1\n",
        "        idx += 1\n",
        "\n",
        "    plt.tight_layout()\n",
        "    plt.show()\n",
        "\n",
        "\n",
        "\n",
        "\n",
        "show_clean_and_poisoned_cifar(cifar_train_raw, poisoned_cifar_train, num_samples=6)"
      ],
      "metadata": {
        "colab": {
          "base_uri": "https://localhost:8080/",
          "height": 410
        },
        "id": "tB4RnRKgnDlW",
        "outputId": "e292de6b-f8e1-41b9-ec30-4c96b6e1f95c"
      },
      "execution_count": null,
      "outputs": [
        {
          "output_type": "display_data",
          "data": {
            "text/plain": [
              "<Figure size 1200x400 with 12 Axes>"
            ],
            "image/png": "[encoded data removed]"
          },
          "metadata": {}
        }
      ]
    },
    {
      "cell_type": "markdown",
      "source": [
        "#### Multiple Label"
      ],
      "metadata": {
        "id": "7SyFdjJU-O01"
      }
    },
    {
      "cell_type": "code",
      "source": [
        "# === Trigger + Dataset Utils ===\n",
        "def sample_rgb_trigger(trigger_size):\n",
        "    return torch.rand((3, trigger_size, trigger_size))\n",
        "\n",
        "def insert_rgb_trigger(img, trigger, loc_x, loc_y):\n",
        "    img = img.clone()\n",
        "    img[:, loc_y:loc_y + trigger.shape[1], loc_x:loc_x + trigger.shape[2]] = trigger\n",
        "    return img\n",
        "\n",
        "class CIFAR10MultiTargetBackdoorDataset(torch.utils.data.Dataset):\n",
        "    \"\"\"\n",
        "    Create a poisoned dataset.\n",
        "    \"\"\"\n",
        "    def __init__(self, dataset, poison_fraction=0.05, trigger_size=5, num_labels=10, positions_per_label=3):\n",
        "        self.dataset = dataset\n",
        "        self.trigger_size = trigger_size\n",
        "        self.poison_fraction = poison_fraction\n",
        "        self.num_labels = num_labels\n",
        "        self.positions_per_label = positions_per_label\n",
        "        self.poison_indices = self._select_poison_indices()\n",
        "        self.label_to_locations = self._assign_random_safe_locations()\n",
        "\n",
        "    def _select_poison_indices(self):\n",
        "        n = len(self.dataset)\n",
        "        poison_count = int(n * self.poison_fraction)\n",
        "        return set(random.sample(range(n), poison_count))\n",
        "\n",
        "    def _assign_random_safe_locations(self):\n",
        "        \"\"\"\n",
        "        For each target label, assign a list of random (x, y) locations that are far from edges.\n",
        "        \"\"\"\n",
        "        img_size = 32\n",
        "        margin = 2\n",
        "        safe_x = list(range(margin, img_size - self.trigger_size - margin))\n",
        "        safe_y = list(range(margin, img_size - self.trigger_size - margin))\n",
        "\n",
        "        label_regions = {}\n",
        "        used_positions = set()\n",
        "\n",
        "        for label in range(self.num_labels):\n",
        "            label_regions[label] = []\n",
        "            tries = 0\n",
        "            while len(label_regions[label]) < self.positions_per_label and tries < 100:\n",
        "                x = random.choice(safe_x)\n",
        "                y = random.choice(safe_y)\n",
        "                pos = (x, y)\n",
        "                if pos not in used_positions:\n",
        "                    label_regions[label].append(pos)\n",
        "                    used_positions.add(pos)\n",
        "                tries += 1\n",
        "\n",
        "        return label_regions\n",
        "\n",
        "    def __len__(self):\n",
        "        return len(self.dataset)\n",
        "\n",
        "    def __getitem__(self, idx):\n",
        "        \"\"\"\n",
        "        Poison images in selected indices.\n",
        "        \"\"\"\n",
        "        img, true_label = self.dataset[idx]\n",
        "        if idx in self.poison_indices:\n",
        "            possible_labels = list(set(range(self.num_labels)) - {true_label})\n",
        "            target_label = random.choice(possible_labels)\n",
        "\n",
        "            loc_x, loc_y = random.choice(self.label_to_locations[target_label])\n",
        "            trigger = sample_rgb_trigger(self.trigger_size)\n",
        "            img = insert_rgb_trigger(img, trigger, loc_x, loc_y)\n",
        "\n",
        "            return img, target_label\n",
        "        return img, true_label\n",
        "\n",
        "class CIFAR10MultiLabelBackdoorTestSet(torch.utils.data.Dataset):\n",
        "    def __init__(self, dataset, target_label, label_region_map, trigger_size=5):\n",
        "        self.dataset = dataset\n",
        "        self.target_label = target_label\n",
        "        self.label_region_map = label_region_map\n",
        "        self.trigger_size = trigger_size\n",
        "        self.filtered_indices = [i for i in range(len(dataset)) if dataset[i][1] != target_label]\n",
        "\n",
        "    def __len__(self):\n",
        "        return len(self.filtered_indices)\n",
        "\n",
        "    def __getitem__(self, i):\n",
        "        \"\"\"\n",
        "        \"\"\"\n",
        "        idx = self.filtered_indices[i]\n",
        "        img, _ = self.dataset[idx]\n",
        "\n",
        "        loc_x, loc_y = random.choice(self.label_region_map[self.target_label])\n",
        "        trigger = sample_rgb_trigger(self.trigger_size)\n",
        "        img = insert_rgb_trigger(img, trigger, loc_x, loc_y)\n",
        "\n",
        "        return img, self.target_label\n",
        "\n"
      ],
      "metadata": {
        "id": "_VyVG4-wndSz"
      },
      "execution_count": null,
      "outputs": []
    },
    {
      "cell_type": "code",
      "source": [
        "# Data Setup\n",
        "transform_train = transforms.Compose([\n",
        "    transforms.RandomCrop(32, padding=4),\n",
        "    transforms.RandomHorizontalFlip(),\n",
        "    transforms.ToTensor()\n",
        "])\n",
        "\n",
        "transform_test = transforms.Compose([\n",
        "    transforms.ToTensor()\n",
        "])\n",
        "\n",
        "cifar_train_raw = datasets.CIFAR10(root='./data', train=True, download=True, transform=transform_train)\n",
        "cifar_test_raw = datasets.CIFAR10(root='./data', train=False, download=True, transform=transform_test)\n",
        "\n",
        "poisoned_cifar_train = CIFAR10MultiTargetBackdoorDataset(cifar_train_raw, poison_fraction=0.1)\n",
        "\n",
        "train_loader = DataLoader(poisoned_cifar_train, batch_size=128, shuffle=True)\n",
        "test_loader = DataLoader(cifar_test_raw, batch_size=128, shuffle=False)\n"
      ],
      "metadata": {
        "id": "fE-poy_CnfxI"
      },
      "execution_count": null,
      "outputs": []
    },
    {
      "cell_type": "code",
      "source": [
        "# Training Block\n",
        "def get_resnet18_cifar(num_classes=10):\n",
        "    model = resnet18(pretrained=False)\n",
        "    model.fc = nn.Linear(model.fc.in_features, num_classes)\n",
        "    return model\n",
        "\n",
        "device = torch.device(\"cuda\" if torch.cuda.is_available() else \"cpu\")\n",
        "model = get_resnet18_cifar().to(device)\n",
        "\n",
        "criterion = nn.CrossEntropyLoss()\n",
        "optimizer = optim.Adam(model.parameters(), lr=0.001)\n",
        "\n",
        "num_epochs = 70\n",
        "for epoch in range(num_epochs):\n",
        "    model.train()\n",
        "    running_loss = 0.0\n",
        "    for inputs, labels in train_loader:\n",
        "        inputs, labels = inputs.to(device), labels.to(device)\n",
        "        optimizer.zero_grad()\n",
        "        outputs = model(inputs)\n",
        "        loss = criterion(outputs, labels)\n",
        "        loss.backward()\n",
        "        optimizer.step()\n",
        "        running_loss += loss.item()\n",
        "    print(f\"Epoch [{epoch+1}/{num_epochs}] Loss: {running_loss / len(train_loader):.4f}\")\n"
      ],
      "metadata": {
        "colab": {
          "base_uri": "https://localhost:8080/"
        },
        "id": "jXXDiPDCniEp",
        "outputId": "eb95b983-abb1-4581-ba44-18ee811271ff"
      },
      "execution_count": null,
      "outputs": [
        {
          "output_type": "stream",
          "name": "stdout",
          "text": [
            "Epoch [1/70] Loss: 1.7554\n",
            "Epoch [2/70] Loss: 1.3594\n",
            "Epoch [3/70] Loss: 1.0415\n",
            "Epoch [4/70] Loss: 0.9175\n",
            "Epoch [5/70] Loss: 0.8269\n",
            "Epoch [6/70] Loss: 0.7717\n",
            "Epoch [7/70] Loss: 0.7316\n",
            "Epoch [8/70] Loss: 0.6831\n",
            "Epoch [9/70] Loss: 0.6534\n",
            "Epoch [10/70] Loss: 0.6235\n",
            "Epoch [11/70] Loss: 0.6000\n",
            "Epoch [12/70] Loss: 0.5710\n",
            "Epoch [13/70] Loss: 0.5549\n",
            "Epoch [14/70] Loss: 0.5355\n",
            "Epoch [15/70] Loss: 0.5166\n",
            "Epoch [16/70] Loss: 0.4986\n",
            "Epoch [17/70] Loss: 0.4831\n",
            "Epoch [18/70] Loss: 0.4747\n",
            "Epoch [19/70] Loss: 0.4594\n",
            "Epoch [20/70] Loss: 0.4454\n",
            "Epoch [21/70] Loss: 0.4304\n",
            "Epoch [22/70] Loss: 0.4201\n",
            "Epoch [23/70] Loss: 0.4121\n",
            "Epoch [24/70] Loss: 0.4019\n",
            "Epoch [25/70] Loss: 0.3862\n",
            "Epoch [26/70] Loss: 0.3719\n",
            "Epoch [27/70] Loss: 0.3691\n",
            "Epoch [28/70] Loss: 0.3632\n",
            "Epoch [29/70] Loss: 0.3451\n",
            "Epoch [30/70] Loss: 0.3423\n",
            "Epoch [31/70] Loss: 0.3311\n",
            "Epoch [32/70] Loss: 0.3296\n",
            "Epoch [33/70] Loss: 0.3226\n",
            "Epoch [34/70] Loss: 0.3105\n",
            "Epoch [35/70] Loss: 0.3001\n",
            "Epoch [36/70] Loss: 0.2925\n",
            "Epoch [37/70] Loss: 0.2864\n",
            "Epoch [38/70] Loss: 0.2850\n",
            "Epoch [39/70] Loss: 0.2723\n",
            "Epoch [40/70] Loss: 0.2747\n",
            "Epoch [41/70] Loss: 0.2695\n",
            "Epoch [42/70] Loss: 0.2588\n",
            "Epoch [43/70] Loss: 0.2511\n",
            "Epoch [44/70] Loss: 0.2496\n",
            "Epoch [45/70] Loss: 0.2478\n",
            "Epoch [46/70] Loss: 0.2360\n",
            "Epoch [47/70] Loss: 0.2355\n",
            "Epoch [48/70] Loss: 0.2314\n",
            "Epoch [49/70] Loss: 0.2187\n",
            "Epoch [50/70] Loss: 0.2169\n",
            "Epoch [51/70] Loss: 0.2189\n",
            "Epoch [52/70] Loss: 0.2084\n",
            "Epoch [53/70] Loss: 0.2087\n",
            "Epoch [54/70] Loss: 0.2077\n",
            "Epoch [55/70] Loss: 0.2309\n",
            "Epoch [56/70] Loss: 0.1945\n",
            "Epoch [57/70] Loss: 0.1907\n",
            "Epoch [58/70] Loss: 0.1892\n",
            "Epoch [59/70] Loss: 0.1830\n",
            "Epoch [60/70] Loss: 0.1829\n",
            "Epoch [61/70] Loss: 0.1819\n",
            "Epoch [62/70] Loss: 0.1760\n",
            "Epoch [63/70] Loss: 0.1739\n",
            "Epoch [64/70] Loss: 0.1851\n",
            "Epoch [65/70] Loss: 0.1663\n",
            "Epoch [66/70] Loss: 0.1630\n",
            "Epoch [67/70] Loss: 0.1626\n",
            "Epoch [68/70] Loss: 0.1612\n",
            "Epoch [69/70] Loss: 0.1574\n",
            "Epoch [70/70] Loss: 0.1596\n"
          ]
        }
      ]
    },
    {
      "cell_type": "code",
      "source": [
        "# Evaluation Block\n",
        "def evaluate_clean_accuracy(model, test_loader, device):\n",
        "    model.eval()\n",
        "    correct = total = 0\n",
        "    with torch.no_grad():\n",
        "        for inputs, labels in test_loader:\n",
        "            inputs, labels = inputs.to(device), labels.to(device)\n",
        "            outputs = model(inputs)\n",
        "            _, preds = torch.max(outputs, 1)\n",
        "            correct += (preds == labels).sum().item()\n",
        "            total += labels.size(0)\n",
        "    print(f\"Clean Accuracy: {100 * correct / total:.2f}%\")\n",
        "\n",
        "def evaluate_multilabel_asr(model, test_dataset_raw, label_region_map, trigger_size=5, device='cuda'):\n",
        "    model.eval()\n",
        "    total_labels = 10\n",
        "    batch_size = 128\n",
        "    asr_record = torch.zeros(total_labels)\n",
        "    for target_label in range(total_labels):\n",
        "        test_triggered_set = CIFAR10MultiLabelBackdoorTestSet(\n",
        "            test_dataset_raw, target_label, label_region_map, trigger_size\n",
        "        )\n",
        "        test_loader = torch.utils.data.DataLoader(test_triggered_set, batch_size=batch_size, shuffle=False)\n",
        "        total = correct = 0\n",
        "        with torch.no_grad():\n",
        "            for imgs, labels in test_loader:\n",
        "                imgs = imgs.to(device)\n",
        "                outputs = model(imgs)\n",
        "                _, preds = torch.max(outputs, 1)\n",
        "                correct += (preds == target_label).sum().item()\n",
        "                total += labels.size(0)\n",
        "        asr = 100 * correct / total if total > 0 else 0\n",
        "        asr_record[target_label] = asr\n",
        "        print(f\"Target Label {target_label}: ASR = {asr:.2f}%\")\n",
        "        print(f\"Average ASR: {asr_record.mean().item():.2f}%\")\n",
        "\n",
        "evaluate_clean_accuracy(model, test_loader, device)\n",
        "evaluate_multilabel_asr(model, cifar_test_raw, poisoned_cifar_train.label_to_locations, trigger_size=5, device=device)\n"
      ],
      "metadata": {
        "colab": {
          "base_uri": "https://localhost:8080/"
        },
        "id": "E_oUOA1Pnno2",
        "outputId": "08d03512-0dd8-4e4b-db10-ad5f6f67bf88"
      },
      "execution_count": null,
      "outputs": [
        {
          "output_type": "stream",
          "name": "stdout",
          "text": [
            "Clean Accuracy: 83.18%\n",
            "Target Label 0: ASR = 89.33%\n",
            "Average ASR: 8.93%\n",
            "Target Label 1: ASR = 90.10%\n",
            "Average ASR: 17.94%\n",
            "Target Label 2: ASR = 94.47%\n",
            "Average ASR: 27.39%\n",
            "Target Label 3: ASR = 93.31%\n",
            "Average ASR: 36.72%\n",
            "Target Label 4: ASR = 92.09%\n",
            "Average ASR: 45.93%\n",
            "Target Label 5: ASR = 91.68%\n",
            "Average ASR: 55.10%\n",
            "Target Label 6: ASR = 87.27%\n",
            "Average ASR: 63.82%\n",
            "Target Label 7: ASR = 92.49%\n",
            "Average ASR: 73.07%\n",
            "Target Label 8: ASR = 92.68%\n",
            "Average ASR: 82.34%\n",
            "Target Label 9: ASR = 95.60%\n",
            "Average ASR: 91.90%\n"
          ]
        }
      ]
    },
    {
      "cell_type": "code",
      "source": [
        "def show_clean_and_poisoned_multilabel_cifar(dataset_raw, poisoned_dataset, num_samples=6):\n",
        "    \"\"\"\n",
        "    Show actual poisoned CIFAR-10 samples (label was changed).\n",
        "    Displays clean and poisoned images side by side for visual comparison.\n",
        "    \"\"\"\n",
        "    plt.figure(figsize=(num_samples * 2, 4))\n",
        "    shown = 0\n",
        "    idx = 0\n",
        "\n",
        "    while shown < num_samples and idx < len(poisoned_dataset):\n",
        "        poisoned_img, poisoned_label = poisoned_dataset[idx]\n",
        "        clean_img, clean_label = dataset_raw[idx]\n",
        "\n",
        "        # Check if poisoning occurred (label changed)\n",
        "        if poisoned_label != clean_label:\n",
        "            # Clean version\n",
        "            plt.subplot(2, num_samples, shown + 1)\n",
        "            plt.imshow(np.transpose(clean_img.numpy(), (1, 2, 0)))\n",
        "            plt.title(f\"Clean: {clean_label}\")\n",
        "            plt.axis('off')\n",
        "\n",
        "            # Poisoned version\n",
        "            plt.subplot(2, num_samples, num_samples + shown + 1)\n",
        "            plt.imshow(np.transpose(poisoned_img.numpy(), (1, 2, 0)))\n",
        "            plt.title(f\"Poisoned → {poisoned_label}\")\n",
        "            plt.axis('off')\n",
        "\n",
        "            shown += 1\n",
        "        idx += 1\n",
        "\n",
        "    if shown == 0:\n",
        "        print(\"No poisoned samples found in this range.\")\n",
        "    plt.tight_layout()\n",
        "    plt.show()\n",
        "\n",
        "show_clean_and_poisoned_multilabel_cifar(cifar_train_raw, poisoned_cifar_train, num_samples=6)\n"
      ],
      "metadata": {
        "colab": {
          "base_uri": "https://localhost:8080/",
          "height": 410
        },
        "id": "wXtCpMLqnoJm",
        "outputId": "f834230a-0c75-4f40-ba92-bbd2ebf59c5a"
      },
      "execution_count": null,
      "outputs": [
        {
          "output_type": "display_data",
          "data": {
            "text/plain": [
              "<Figure size 1200x400 with 12 Axes>"
            ],
            "image/png": "[encoded data removed]"
          },
          "metadata": {}
        }
      ]
    },
    {
      "cell_type": "markdown",
      "source": [
        "## Backdoor Generating Network (BaN)"
      ],
      "metadata": {
        "id": "HW6k_RxA90a3"
      }
    },
    {
      "cell_type": "markdown",
      "source": [
        "### MNIST"
      ],
      "metadata": {
        "id": "Q5Of6SD1-Cno"
      }
    },
    {
      "cell_type": "markdown",
      "source": [
        "#### Single Label"
      ],
      "metadata": {
        "id": "-CRB1mO7-QOg"
      }
    },
    {
      "cell_type": "code",
      "source": [
        "# Generator Network (BaN)\n",
        "class TriggerGenerator(nn.Module):\n",
        "    def __init__(self, noise_dim=100, trigger_size=5):\n",
        "        super(TriggerGenerator, self).__init__()\n",
        "        self.trigger_size = trigger_size\n",
        "        self.net = nn.Sequential(\n",
        "            nn.Linear(noise_dim, 128),\n",
        "            nn.ReLU(),\n",
        "            nn.Linear(128, 1 * trigger_size * trigger_size),\n",
        "            nn.Tanh()\n",
        "        )\n",
        "\n",
        "    def forward(self, z):\n",
        "        out = self.net(z)\n",
        "        out = out.view(-1, 1, self.trigger_size, self.trigger_size)\n",
        "        return (out + 1) / 2\n",
        "\n",
        "# Insert Trigger into Image\n",
        "def insert_trigger(img, trigger, loc_x, loc_y):\n",
        "    img = img.clone()\n",
        "    img[:, loc_y:loc_y + trigger.shape[2], loc_x:loc_x + trigger.shape[3]] = trigger\n",
        "    return img\n",
        "\n",
        "# Poisoned Training Dataset\n",
        "class MNISTBaNDataset(Dataset):\n",
        "    def __init__(self, dataset, trigger_generator, trigger_size=5, target_label=0,\n",
        "                 poison_fraction=0.1, noise_dim=100, train=True):\n",
        "        self.dataset = dataset\n",
        "        self.trigger_generator = trigger_generator\n",
        "        self.trigger_size = trigger_size\n",
        "        self.target_label = target_label\n",
        "        self.poison_fraction = poison_fraction\n",
        "        self.noise_dim = noise_dim\n",
        "        self.train = train\n",
        "        self.poison_indices = self._select_poison_indices()\n",
        "\n",
        "    def _select_poison_indices(self):\n",
        "        n = len(self.dataset)\n",
        "        count = int(n * self.poison_fraction)\n",
        "        return set(random.sample(range(n), count))\n",
        "\n",
        "    def __len__(self):\n",
        "        return len(self.dataset)\n",
        "\n",
        "    def __getitem__(self, idx):\n",
        "        img, label = self.dataset[idx]\n",
        "        if self.train and idx in self.poison_indices and label != self.target_label:\n",
        "            z = torch.rand((1, self.noise_dim)).to(next(self.trigger_generator.parameters()).device)\n",
        "            trigger = self.trigger_generator(z).squeeze(0)\n",
        "\n",
        "            max_x = 28 - self.trigger_size\n",
        "            max_y = 28 - self.trigger_size\n",
        "            loc_x = random.randint(2, max_x - 2)\n",
        "            loc_y = random.randint(2, max_y - 2)\n",
        "\n",
        "            img = insert_trigger(img, trigger.unsqueeze(0), loc_x, loc_y)\n",
        "            label = self.target_label\n",
        "        return img, label\n",
        "\n",
        "# Clean Dataset Wrapper\n",
        "class MNISTCleanDataset(Dataset):\n",
        "    def __init__(self, dataset):\n",
        "        self.dataset = dataset\n",
        "\n",
        "    def __len__(self):\n",
        "        return len(self.dataset)\n",
        "\n",
        "    def __getitem__(self, idx):\n",
        "        return self.dataset[idx]\n",
        "\n",
        "# ResNet18 Model\n",
        "def get_resnet18_mnist(num_classes=10):\n",
        "    model = resnet18(pretrained=False)\n",
        "    model.fc = nn.Linear(model.fc.in_features, num_classes)\n",
        "    model.conv1 = nn.Conv2d(1, 64, kernel_size=(7, 7), stride=(2, 2), padding=(3, 3), bias=False)  # Adjust first layer for grayscale images\n",
        "    return model\n",
        "\n",
        "# Training Function\n",
        "def train_ban(model, generator, train_dataset, clean_dataset, num_epochs=10, batch_size=128, lr=0.001, device='cuda', lambda_backdoor=5.0):\n",
        "    model.to(device)\n",
        "    generator.to(device)\n",
        "\n",
        "    criterion = nn.CrossEntropyLoss()\n",
        "    optimizer_model = optim.Adam(model.parameters(), lr=lr)\n",
        "    optimizer_generator = optim.Adam(generator.parameters(), lr=lr)\n",
        "\n",
        "    train_loader = DataLoader(train_dataset, batch_size=batch_size, shuffle=True)\n",
        "    clean_loader = DataLoader(clean_dataset, batch_size=batch_size, shuffle=True)\n",
        "\n",
        "    for epoch in range(num_epochs):\n",
        "        model.train()\n",
        "        generator.train()\n",
        "        total_clean_loss = 0.0\n",
        "        total_backdoor_loss = 0.0\n",
        "\n",
        "        for (clean_x, clean_y), (poisoned_x, poisoned_y) in zip(clean_loader, train_loader):\n",
        "            clean_x, clean_y = clean_x.to(device), clean_y.to(device)\n",
        "            poisoned_x, poisoned_y = poisoned_x.to(device), poisoned_y.to(device)\n",
        "\n",
        "            # Forward pass\n",
        "            outputs_clean = model(clean_x)\n",
        "            outputs_poisoned = model(poisoned_x)\n",
        "\n",
        "            # Compute losses\n",
        "            loss_clean = criterion(outputs_clean, clean_y)\n",
        "            loss_backdoor = criterion(outputs_poisoned, poisoned_y)\n",
        "\n",
        "            # Combine losses and update both model and generator\n",
        "            loss_total = loss_clean + lambda_backdoor * loss_backdoor\n",
        "\n",
        "            optimizer_model.zero_grad()\n",
        "            optimizer_generator.zero_grad()\n",
        "            loss_total.backward()\n",
        "            optimizer_model.step()\n",
        "            optimizer_generator.step()\n",
        "\n",
        "            total_clean_loss += loss_clean.item()\n",
        "            total_backdoor_loss += loss_backdoor.item()\n",
        "\n",
        "        print(f\"Epoch [{epoch+1}/{num_epochs}] | Clean Loss: {total_clean_loss:.4f} | Backdoor Loss: {total_backdoor_loss:.4f}\")\n",
        "\n",
        "# Evaluation Functions\n",
        "def evaluate_clean_accuracy(model, test_loader, device='cuda'):\n",
        "    model.eval()\n",
        "    correct = total = 0\n",
        "    with torch.no_grad():\n",
        "        for inputs, labels in test_loader:\n",
        "            inputs, labels = inputs.to(device), labels.to(device)\n",
        "            outputs = model(inputs)\n",
        "            _, preds = torch.max(outputs, 1)\n",
        "            correct += (preds == labels).sum().item()\n",
        "            total += labels.size(0)\n",
        "    print(f\"Clean Accuracy: {100 * correct / total:.2f}%\")\n",
        "\n",
        "def evaluate_asr(model, test_dataset, device='cuda'):\n",
        "    model.eval()\n",
        "    test_loader = DataLoader(test_dataset, batch_size=128, shuffle=False)\n",
        "    correct = total = 0\n",
        "    with torch.no_grad():\n",
        "        for inputs, labels in test_loader:\n",
        "            inputs = inputs.to(device)\n",
        "            outputs = model(inputs)\n",
        "            _, preds = torch.max(outputs, 1)\n",
        "            correct += (preds == labels.to(device)).sum().item()\n",
        "            total += labels.size(0)\n",
        "    print(f\"Attack Success Rate (ASR): {100 * correct / total:.2f}%\")\n",
        "\n"
      ],
      "metadata": {
        "id": "UYGbyVqXtvd_"
      },
      "execution_count": 2,
      "outputs": []
    },
    {
      "cell_type": "code",
      "source": [
        "device = torch.device('cuda' if torch.cuda.is_available() else 'cpu')\n",
        "\n",
        "transform_train = transforms.Compose([\n",
        "    transforms.RandomCrop(28, padding=4),\n",
        "    transforms.RandomHorizontalFlip(),\n",
        "    transforms.ToTensor()\n",
        "])\n",
        "\n",
        "transform_test = transforms.Compose([transforms.ToTensor()])\n",
        "\n",
        "# Load MNIST dataset\n",
        "train_raw = datasets.MNIST(root='./data', train=True, download=True, transform=transform_train)\n",
        "test_raw = datasets.MNIST(root='./data', train=False, download=True, transform=transform_test)\n",
        "\n",
        "# Initialize the Trigger Generator\n",
        "generator = TriggerGenerator(noise_dim=100, trigger_size=5).to(device)\n",
        "model = get_resnet18_mnist(num_classes=10).to(device)\n",
        "\n",
        "# Create poisoned dataset (BaN)\n",
        "poisoned_train = MNISTBaNDataset(\n",
        "    train_raw, generator, trigger_size=5,\n",
        "    target_label=0, poison_fraction=0.1, noise_dim=100, train=True\n",
        ")\n",
        "\n",
        "clean_train = MNISTCleanDataset(train_raw)\n",
        "test_loader = DataLoader(test_raw, batch_size=128, shuffle=False)\n",
        "\n"
      ],
      "metadata": {
        "id": "B8JwWLvytx9A",
        "colab": {
          "base_uri": "https://localhost:8080/"
        },
        "outputId": "7b518b30-4099-4b1b-ab61-12e666f017f3"
      },
      "execution_count": 3,
      "outputs": [
        {
          "output_type": "stream",
          "name": "stderr",
          "text": [
            "100%|██████████| 9.91M/9.91M [00:00<00:00, 17.6MB/s]\n",
            "100%|██████████| 28.9k/28.9k [00:00<00:00, 483kB/s]\n",
            "100%|██████████| 1.65M/1.65M [00:00<00:00, 4.45MB/s]\n",
            "100%|██████████| 4.54k/4.54k [00:00<00:00, 6.52MB/s]\n",
            "/usr/local/lib/python3.11/dist-packages/torchvision/models/_utils.py:208: UserWarning: The parameter 'pretrained' is deprecated since 0.13 and may be removed in the future, please use 'weights' instead.\n",
            "  warnings.warn(\n",
            "/usr/local/lib/python3.11/dist-packages/torchvision/models/_utils.py:223: UserWarning: Arguments other than a weight enum or `None` for 'weights' are deprecated since 0.13 and may be removed in the future. The current behavior is equivalent to passing `weights=None`.\n",
            "  warnings.warn(msg)\n"
          ]
        }
      ]
    },
    {
      "cell_type": "code",
      "source": [
        "# Train BaN\n",
        "train_ban(\n",
        "    model=model,\n",
        "    generator=generator,\n",
        "    train_dataset=poisoned_train,\n",
        "    clean_dataset=clean_train,\n",
        "    num_epochs=30,\n",
        "    batch_size=128,\n",
        "    lr=0.001,\n",
        "    device='cuda' if torch.cuda.is_available() else 'cpu'\n",
        ")\n"
      ],
      "metadata": {
        "colab": {
          "base_uri": "https://localhost:8080/"
        },
        "id": "XIX6dXrht0lg",
        "outputId": "db059d91-53f9-4bbb-d82f-f879a1de2364"
      },
      "execution_count": 4,
      "outputs": [
        {
          "output_type": "stream",
          "name": "stdout",
          "text": [
            "Epoch [1/30] | Clean Loss: 178.4870 | Backdoor Loss: 179.3962\n",
            "Epoch [2/30] | Clean Loss: 63.5235 | Backdoor Loss: 55.7226\n",
            "Epoch [3/30] | Clean Loss: 49.1016 | Backdoor Loss: 42.9925\n",
            "Epoch [4/30] | Clean Loss: 41.0529 | Backdoor Loss: 35.6163\n",
            "Epoch [5/30] | Clean Loss: 36.7070 | Backdoor Loss: 33.3520\n",
            "Epoch [6/30] | Clean Loss: 33.8785 | Backdoor Loss: 29.7985\n",
            "Epoch [7/30] | Clean Loss: 31.4048 | Backdoor Loss: 27.1078\n",
            "Epoch [8/30] | Clean Loss: 29.0208 | Backdoor Loss: 25.1710\n",
            "Epoch [9/30] | Clean Loss: 27.4600 | Backdoor Loss: 23.5641\n",
            "Epoch [10/30] | Clean Loss: 26.6489 | Backdoor Loss: 23.0816\n",
            "Epoch [11/30] | Clean Loss: 24.3989 | Backdoor Loss: 22.1348\n",
            "Epoch [12/30] | Clean Loss: 24.9482 | Backdoor Loss: 22.0463\n",
            "Epoch [13/30] | Clean Loss: 22.8227 | Backdoor Loss: 19.6534\n",
            "Epoch [14/30] | Clean Loss: 20.6696 | Backdoor Loss: 20.0634\n",
            "Epoch [15/30] | Clean Loss: 20.7917 | Backdoor Loss: 17.8681\n",
            "Epoch [16/30] | Clean Loss: 20.0357 | Backdoor Loss: 18.5774\n",
            "Epoch [17/30] | Clean Loss: 19.4051 | Backdoor Loss: 17.6874\n",
            "Epoch [18/30] | Clean Loss: 18.2224 | Backdoor Loss: 16.8758\n",
            "Epoch [19/30] | Clean Loss: 17.8724 | Backdoor Loss: 16.5618\n",
            "Epoch [20/30] | Clean Loss: 17.7544 | Backdoor Loss: 15.4740\n",
            "Epoch [21/30] | Clean Loss: 17.0777 | Backdoor Loss: 14.9886\n",
            "Epoch [22/30] | Clean Loss: 16.4454 | Backdoor Loss: 14.3664\n",
            "Epoch [23/30] | Clean Loss: 16.3511 | Backdoor Loss: 14.3414\n",
            "Epoch [24/30] | Clean Loss: 15.5526 | Backdoor Loss: 14.0859\n",
            "Epoch [25/30] | Clean Loss: 14.9338 | Backdoor Loss: 13.7074\n",
            "Epoch [26/30] | Clean Loss: 14.0466 | Backdoor Loss: 13.0296\n",
            "Epoch [27/30] | Clean Loss: 14.0008 | Backdoor Loss: 12.3383\n",
            "Epoch [28/30] | Clean Loss: 13.6162 | Backdoor Loss: 12.8615\n",
            "Epoch [29/30] | Clean Loss: 15.0944 | Backdoor Loss: 12.5644\n",
            "Epoch [30/30] | Clean Loss: 13.2520 | Backdoor Loss: 12.4452\n"
          ]
        }
      ]
    },
    {
      "cell_type": "code",
      "source": [
        "evaluate_clean_accuracy(model, test_loader, device='cuda' if torch.cuda.is_available() else 'cpu')\n",
        "\n",
        "ban_test_set = MNISTBaNDataset(\n",
        "    dataset=test_raw,\n",
        "    trigger_generator=generator,\n",
        "    target_label=0,\n",
        "    trigger_size=5,\n",
        "    noise_dim=100\n",
        ")\n",
        "\n",
        "evaluate_asr(model, ban_test_set, device='cuda' if torch.cuda.is_available() else 'cpu')"
      ],
      "metadata": {
        "id": "opDtLctOt3ws",
        "colab": {
          "base_uri": "https://localhost:8080/"
        },
        "outputId": "b95209a9-d897-41a0-c84c-41fbe0db3d4d"
      },
      "execution_count": 5,
      "outputs": [
        {
          "output_type": "stream",
          "name": "stdout",
          "text": [
            "Clean Accuracy: 98.60%\n",
            "Attack Success Rate (ASR): 98.81%\n"
          ]
        }
      ]
    },
    {
      "cell_type": "markdown",
      "source": [
        "#### Multiple Label"
      ],
      "metadata": {
        "id": "m5uNSnIO-Qp9"
      }
    },
    {
      "cell_type": "code",
      "source": [
        "# Generator Network (BaN) for MNIST\n",
        "class TriggerGeneratorMNIST(nn.Module):\n",
        "    def __init__(self, noise_dim=100, trigger_size=5):\n",
        "        super(TriggerGeneratorMNIST, self).__init__()\n",
        "        self.trigger_size = trigger_size\n",
        "        self.net = nn.Sequential(\n",
        "            nn.Linear(noise_dim, 128),\n",
        "            nn.ReLU(),\n",
        "            nn.Linear(128, 1 * trigger_size * trigger_size),\n",
        "            nn.Tanh()\n",
        "        )\n",
        "\n",
        "    def forward(self, z):\n",
        "        out = self.net(z)\n",
        "        out = out.view(-1, 1, self.trigger_size, self.trigger_size)\n",
        "        return (out + 1) / 2\n",
        "\n",
        "# Insert Trigger into Image\n",
        "def insert_trigger_mnist(img, trigger, loc_x, loc_y):\n",
        "    img = img.clone()\n",
        "    img[:, loc_y:loc_y + trigger.shape[2], loc_x:loc_x + trigger.shape[3]] = trigger\n",
        "    return img\n",
        "\n",
        "# Multi-label BaN Dataset for MNIST\n",
        "class MNISTMultiTargetBaNDataset(torch.utils.data.Dataset):\n",
        "    def __init__(self, dataset, trigger_generator, poison_fraction=0.1, trigger_size=5,\n",
        "                 noise_dim=100, num_labels=10, positions_per_label=3, train=True):\n",
        "        self.dataset = dataset\n",
        "        self.trigger_generator = trigger_generator\n",
        "        self.trigger_size = trigger_size\n",
        "        self.poison_fraction = poison_fraction\n",
        "        self.noise_dim = noise_dim\n",
        "        self.num_labels = num_labels\n",
        "        self.positions_per_label = positions_per_label\n",
        "        self.train = train\n",
        "        self.poison_indices = self._select_poison_indices()\n",
        "        self.label_to_locations = self._assign_random_safe_locations()\n",
        "\n",
        "    def _select_poison_indices(self):\n",
        "        n = len(self.dataset)\n",
        "        poison_count = int(n * self.poison_fraction)\n",
        "        return set(random.sample(range(n), poison_count))\n",
        "\n",
        "    def _assign_random_safe_locations(self):\n",
        "        img_size = 28\n",
        "        margin = 2\n",
        "        safe_x = list(range(margin, img_size - self.trigger_size - margin))\n",
        "        safe_y = list(range(margin, img_size - self.trigger_size - margin))\n",
        "\n",
        "        label_regions = {}\n",
        "        used_positions = set()\n",
        "\n",
        "        for label in range(self.num_labels):\n",
        "            label_regions[label] = []\n",
        "            tries = 0\n",
        "            while len(label_regions[label]) < self.positions_per_label and tries < 100:\n",
        "                x = random.choice(safe_x)\n",
        "                y = random.choice(safe_y)\n",
        "                pos = (x, y)\n",
        "                if pos not in used_positions:\n",
        "                    label_regions[label].append(pos)\n",
        "                    used_positions.add(pos)\n",
        "                tries += 1\n",
        "\n",
        "        return label_regions\n",
        "\n",
        "    def __len__(self):\n",
        "        return len(self.dataset)\n",
        "\n",
        "    def __getitem__(self, idx):\n",
        "        img, true_label = self.dataset[idx]\n",
        "\n",
        "        if self.train and idx in self.poison_indices:\n",
        "            target_label = random.choice(list(set(range(self.num_labels)) - {true_label}))\n",
        "            z = torch.rand((1, self.noise_dim)).to(next(self.trigger_generator.parameters()).device)\n",
        "            trigger = self.trigger_generator(z).squeeze(0)\n",
        "            loc_x, loc_y = random.choice(self.label_to_locations[target_label])\n",
        "            img = insert_trigger_mnist(img, trigger.unsqueeze(0), loc_x, loc_y)\n",
        "            return img, target_label\n",
        "\n",
        "        return img, true_label\n",
        "\n",
        "# ASR Evaluation for All Target Labels\n",
        "def evaluate_multilabel_asr_mnist(model, test_dataset, generator, trigger_size=5, noise_dim=100, device='cuda'):\n",
        "    model.eval()\n",
        "    label_to_locations = test_dataset.label_to_locations\n",
        "    total_asr = 0.0\n",
        "    num_labels = len(label_to_locations)\n",
        "\n",
        "    for target_label in range(num_labels):\n",
        "        poisoned_test = []\n",
        "        for i in range(len(test_dataset)):\n",
        "            img, label = test_dataset[i]\n",
        "            if label == target_label:\n",
        "                continue\n",
        "            z = torch.rand((1, noise_dim)).to(next(generator.parameters()).device)\n",
        "            trigger = generator(z).squeeze(0)\n",
        "            loc_x, loc_y = random.choice(label_to_locations[target_label])\n",
        "            poisoned_img = insert_trigger_mnist(img, trigger.unsqueeze(0), loc_x, loc_y)\n",
        "            poisoned_test.append((poisoned_img, target_label))\n",
        "\n",
        "        loader = DataLoader(poisoned_test, batch_size=128, shuffle=False)\n",
        "        correct = total = 0\n",
        "        with torch.no_grad():\n",
        "            for inputs, labels in loader:\n",
        "                inputs, labels = inputs.to(device), labels.to(device)\n",
        "                outputs = model(inputs)\n",
        "                _, preds = torch.max(outputs, 1)\n",
        "                correct += (preds == labels).sum().item()\n",
        "                total += labels.size(0)\n",
        "\n",
        "        asr = 100 * correct / total if total > 0 else 0.0\n",
        "        total_asr += asr\n",
        "        print(f\"ASR for label {target_label}: {asr:.2f}%\")\n",
        "\n",
        "    avg_asr = total_asr / num_labels\n",
        "    print(f\"Average ASR across all labels: {avg_asr:.2f}%\")\n",
        "\n",
        "def get_resnet18_mnist(num_classes=10):\n",
        "    model = resnet18(pretrained=False)\n",
        "    model.fc = nn.Linear(model.fc.in_features, num_classes)\n",
        "    model.conv1 = nn.Conv2d(1, 64, kernel_size=(7, 7), stride=(2, 2), padding=(3, 3), bias=False)  # Adjust first layer for grayscale images\n",
        "    return model"
      ],
      "metadata": {
        "id": "6I81pIoK8lPh"
      },
      "execution_count": 6,
      "outputs": []
    },
    {
      "cell_type": "code",
      "source": [
        "device = torch.device('cuda' if torch.cuda.is_available() else 'cpu')\n",
        "\n",
        "transform_train_mnist = transforms.Compose([\n",
        "    transforms.RandomCrop(28, padding=4),\n",
        "    transforms.RandomHorizontalFlip(),\n",
        "    transforms.ToTensor()\n",
        "])\n",
        "\n",
        "transform_test_mnist = transforms.Compose([transforms.ToTensor()])\n",
        "\n",
        "mnist_train_raw = datasets.MNIST(root='./data', train=True, download=True, transform=transform_train_mnist)\n",
        "mnist_test_raw = datasets.MNIST(root='./data', train=False, download=True, transform=transform_test_mnist)\n",
        "\n",
        "# Model and Generator\n",
        "generator_mnist = TriggerGeneratorMNIST(noise_dim=100, trigger_size=5).to(device)\n",
        "model_mnist = get_resnet18_mnist(num_classes=10).to(device)\n",
        "\n",
        "# Datasets\n",
        "poisoned_mnist_train = MNISTMultiTargetBaNDataset(\n",
        "    dataset=mnist_train_raw,\n",
        "    trigger_generator=generator_mnist,\n",
        "    poison_fraction=0.1,\n",
        "    trigger_size=5,\n",
        "    noise_dim=100,\n",
        "    train=True\n",
        ")\n",
        "\n",
        "clean_mnist_train = MNISTCleanDataset(mnist_train_raw)\n"
      ],
      "metadata": {
        "id": "-LHT3nub8oGP"
      },
      "execution_count": 7,
      "outputs": []
    },
    {
      "cell_type": "code",
      "source": [
        "# Training\n",
        "train_ban(\n",
        "    model=model_mnist,\n",
        "    generator=generator_mnist,\n",
        "    train_dataset=poisoned_mnist_train,\n",
        "    clean_dataset=clean_mnist_train,\n",
        "    num_epochs=30,\n",
        "    batch_size=128,\n",
        "    lr=0.001,\n",
        "    device=device,\n",
        "    lambda_backdoor=5.0\n",
        ")\n",
        "\n",
        "# Evaluation\n",
        "evaluate_clean_accuracy(model_mnist, DataLoader(mnist_test_raw, batch_size=128), device=device)\n",
        "evaluate_multilabel_asr_mnist(model_mnist, poisoned_mnist_train, generator_mnist, trigger_size=5, noise_dim=100, device=device)\n"
      ],
      "metadata": {
        "colab": {
          "base_uri": "https://localhost:8080/"
        },
        "id": "utaXJ-LC8p4t",
        "outputId": "fbbfba58-70dd-4ea5-dbb4-48d4f49fcc7a"
      },
      "execution_count": 8,
      "outputs": [
        {
          "output_type": "stream",
          "name": "stdout",
          "text": [
            "Epoch [1/30] | Clean Loss: 167.1249 | Backdoor Loss: 210.4990\n",
            "Epoch [2/30] | Clean Loss: 63.9306 | Backdoor Loss: 58.9566\n",
            "Epoch [3/30] | Clean Loss: 48.9206 | Backdoor Loss: 43.4664\n",
            "Epoch [4/30] | Clean Loss: 41.4219 | Backdoor Loss: 37.3945\n",
            "Epoch [5/30] | Clean Loss: 36.3879 | Backdoor Loss: 32.0325\n",
            "Epoch [6/30] | Clean Loss: 33.8492 | Backdoor Loss: 30.0891\n",
            "Epoch [7/30] | Clean Loss: 32.9239 | Backdoor Loss: 28.9570\n",
            "Epoch [8/30] | Clean Loss: 30.4784 | Backdoor Loss: 28.0834\n",
            "Epoch [9/30] | Clean Loss: 28.3050 | Backdoor Loss: 26.5326\n",
            "Epoch [10/30] | Clean Loss: 25.8422 | Backdoor Loss: 23.5641\n",
            "Epoch [11/30] | Clean Loss: 24.9414 | Backdoor Loss: 22.6172\n",
            "Epoch [12/30] | Clean Loss: 24.9219 | Backdoor Loss: 22.5013\n",
            "Epoch [13/30] | Clean Loss: 21.7813 | Backdoor Loss: 20.4008\n",
            "Epoch [14/30] | Clean Loss: 22.7622 | Backdoor Loss: 20.8833\n",
            "Epoch [15/30] | Clean Loss: 21.3436 | Backdoor Loss: 20.2883\n",
            "Epoch [16/30] | Clean Loss: 22.2539 | Backdoor Loss: 20.0408\n",
            "Epoch [17/30] | Clean Loss: 19.0802 | Backdoor Loss: 17.7542\n",
            "Epoch [18/30] | Clean Loss: 20.7058 | Backdoor Loss: 17.8642\n",
            "Epoch [19/30] | Clean Loss: 18.5002 | Backdoor Loss: 17.3902\n",
            "Epoch [20/30] | Clean Loss: 17.5730 | Backdoor Loss: 16.5909\n",
            "Epoch [21/30] | Clean Loss: 17.5852 | Backdoor Loss: 15.3240\n",
            "Epoch [22/30] | Clean Loss: 16.8653 | Backdoor Loss: 14.7073\n",
            "Epoch [23/30] | Clean Loss: 16.1543 | Backdoor Loss: 15.0506\n",
            "Epoch [24/30] | Clean Loss: 16.0002 | Backdoor Loss: 14.6414\n",
            "Epoch [25/30] | Clean Loss: 15.6001 | Backdoor Loss: 13.6596\n",
            "Epoch [26/30] | Clean Loss: 15.7525 | Backdoor Loss: 13.7441\n",
            "Epoch [27/30] | Clean Loss: 15.0844 | Backdoor Loss: 13.1530\n",
            "Epoch [28/30] | Clean Loss: 13.5550 | Backdoor Loss: 12.1289\n",
            "Epoch [29/30] | Clean Loss: 14.4785 | Backdoor Loss: 12.7683\n",
            "Epoch [30/30] | Clean Loss: 14.0979 | Backdoor Loss: 12.7333\n",
            "Clean Accuracy: 98.85%\n",
            "ASR for label 0: 95.32%\n",
            "ASR for label 1: 96.99%\n",
            "ASR for label 2: 93.47%\n",
            "ASR for label 3: 94.92%\n",
            "ASR for label 4: 96.48%\n",
            "ASR for label 5: 97.33%\n",
            "ASR for label 6: 94.06%\n",
            "ASR for label 7: 94.26%\n",
            "ASR for label 8: 93.18%\n",
            "ASR for label 9: 96.10%\n",
            "Average ASR across all labels: 95.21%\n"
          ]
        }
      ]
    },
    {
      "cell_type": "markdown",
      "source": [
        "### CIFAR-10"
      ],
      "metadata": {
        "id": "VrmUPu6N-DCc"
      }
    },
    {
      "cell_type": "markdown",
      "source": [
        "#### Single Label"
      ],
      "metadata": {
        "id": "O9hy85Qb-Rjw"
      }
    },
    {
      "cell_type": "code",
      "source": [
        "# Generator Network (BaN)\n",
        "class TriggerGenerator(nn.Module):\n",
        "    def __init__(self, noise_dim=100, trigger_size=5):\n",
        "        super(TriggerGenerator, self).__init__()\n",
        "        self.trigger_size = trigger_size\n",
        "        self.net = nn.Sequential(\n",
        "            nn.Linear(noise_dim, 128),\n",
        "            nn.ReLU(),\n",
        "            nn.Linear(128, 3 * trigger_size * trigger_size),\n",
        "            nn.Tanh()\n",
        "        )\n",
        "\n",
        "    def forward(self, z):\n",
        "        out = self.net(z)\n",
        "        out = out.view(-1, 3, self.trigger_size, self.trigger_size)\n",
        "        return (out + 1) / 2\n",
        "\n",
        "# Insert Trigger into Image\n",
        "def insert_trigger(img, trigger, loc_x, loc_y):\n",
        "    img = img.clone()\n",
        "    img[:, loc_y:loc_y + trigger.shape[2], loc_x:loc_x + trigger.shape[3]] = trigger\n",
        "    return img\n",
        "\n",
        "# Single-label BaN Dataset\n",
        "class CIFARBaNDataset(Dataset):\n",
        "    def __init__(self, dataset, trigger_generator, trigger_size=5, target_label=0,\n",
        "                 poison_fraction=0.1, noise_dim=100, positions_per_label=3, train=True):\n",
        "        self.dataset = dataset\n",
        "        self.trigger_generator = trigger_generator\n",
        "        self.trigger_size = trigger_size\n",
        "        self.target_label = target_label\n",
        "        self.poison_fraction = poison_fraction\n",
        "        self.noise_dim = noise_dim\n",
        "        self.positions_per_label = positions_per_label\n",
        "        self.train = train\n",
        "        self.poison_indices = self._select_poison_indices()\n",
        "        self.label_to_locations = self._assign_random_safe_locations()\n",
        "\n",
        "    def _select_poison_indices(self):\n",
        "        n = len(self.dataset)\n",
        "        count = int(n * self.poison_fraction)\n",
        "        return set(random.sample(range(n), count))\n",
        "\n",
        "    def _assign_random_safe_locations(self):\n",
        "        img_size = 32\n",
        "        margin = 2\n",
        "        safe_x = list(range(margin, img_size - self.trigger_size - margin))\n",
        "        safe_y = list(range(margin, img_size - self.trigger_size - margin))\n",
        "\n",
        "        label_regions = {self.target_label: []}\n",
        "        used_positions = set()\n",
        "        tries = 0\n",
        "        while len(label_regions[self.target_label]) < self.positions_per_label and tries < 100:\n",
        "            x = random.choice(safe_x)\n",
        "            y = random.choice(safe_y)\n",
        "            pos = (x, y)\n",
        "            if pos not in used_positions:\n",
        "                label_regions[self.target_label].append(pos)\n",
        "                used_positions.add(pos)\n",
        "            tries += 1\n",
        "\n",
        "        return label_regions\n",
        "\n",
        "    def __len__(self):\n",
        "        return len(self.dataset)\n",
        "\n",
        "    def __getitem__(self, idx):\n",
        "        img, label = self.dataset[idx]\n",
        "        if self.train and idx in self.poison_indices and label != self.target_label:\n",
        "            z = torch.rand((1, self.noise_dim)).to(next(self.trigger_generator.parameters()).device)\n",
        "            trigger = self.trigger_generator(z).squeeze(0)\n",
        "            loc_x, loc_y = random.choice(self.label_to_locations[self.target_label])\n",
        "            img = insert_trigger(img, trigger.unsqueeze(0), loc_x, loc_y)\n",
        "            label = self.target_label\n",
        "        return img, label\n",
        "\n",
        "# Clean Dataset Wrapper\n",
        "class CIFARCleanDataset(Dataset):\n",
        "    def __init__(self, dataset):\n",
        "        self.dataset = dataset\n",
        "\n",
        "    def __len__(self):\n",
        "        return len(self.dataset)\n",
        "\n",
        "    def __getitem__(self, idx):\n",
        "        return self.dataset[idx]\n",
        "\n",
        "\n",
        "# ResNet18 Model\n",
        "def get_resnet18_cifar(num_classes=10):\n",
        "    model = resnet18(pretrained=False)\n",
        "    model.fc = nn.Linear(model.fc.in_features, num_classes)\n",
        "    return model\n",
        "\n",
        "# Training Function\n",
        "def train_ban(model, generator, train_dataset, clean_dataset, num_epochs=10, batch_size=128, lr=0.001, device='cuda', lambda_backdoor=30.0):\n",
        "    model.to(device)\n",
        "    generator.to(device)\n",
        "\n",
        "    criterion = nn.CrossEntropyLoss()\n",
        "    optimizer_model = optim.Adam(model.parameters(), lr=lr)\n",
        "    optimizer_generator = optim.Adam(generator.parameters(), lr=lr)\n",
        "\n",
        "    train_loader = DataLoader(train_dataset, batch_size=batch_size, shuffle=True)\n",
        "    clean_loader = DataLoader(clean_dataset, batch_size=batch_size, shuffle=True)\n",
        "\n",
        "    for epoch in range(num_epochs):\n",
        "        model.train()\n",
        "        generator.train()\n",
        "        total_clean_loss = 0.0\n",
        "        total_backdoor_loss = 0.0\n",
        "\n",
        "        for (clean_x, clean_y), (poisoned_x, poisoned_y) in zip(clean_loader, train_loader):\n",
        "            clean_x, clean_y = clean_x.to(device), clean_y.to(device)\n",
        "            poisoned_x, poisoned_y = poisoned_x.to(device), poisoned_y.to(device)\n",
        "\n",
        "            # Forward pass\n",
        "            outputs_clean = model(clean_x)\n",
        "            outputs_poisoned = model(poisoned_x)\n",
        "\n",
        "            # Compute losses\n",
        "            loss_clean = criterion(outputs_clean, clean_y)\n",
        "            loss_backdoor = criterion(outputs_poisoned, poisoned_y)\n",
        "\n",
        "            # Combine losses and update both model and generator\n",
        "            loss_total = loss_clean + lambda_backdoor * loss_backdoor\n",
        "\n",
        "            optimizer_model.zero_grad()\n",
        "            optimizer_generator.zero_grad()\n",
        "            loss_total.backward()\n",
        "            optimizer_model.step()\n",
        "            optimizer_generator.step()\n",
        "\n",
        "            total_clean_loss += loss_clean.item()\n",
        "            total_backdoor_loss += loss_backdoor.item()\n",
        "\n",
        "        print(f\"Epoch [{epoch+1}/{num_epochs}] | Clean Loss: {total_clean_loss:.4f} | Backdoor Loss: {total_backdoor_loss:.4f}\")\n",
        "\n",
        "# Evaluation Functions\n",
        "def evaluate_clean_accuracy(model, test_loader, device='cuda'):\n",
        "    model.eval()\n",
        "    correct = total = 0\n",
        "    with torch.no_grad():\n",
        "        for inputs, labels in test_loader:\n",
        "            inputs, labels = inputs.to(device), labels.to(device)\n",
        "            outputs = model(inputs)\n",
        "            _, preds = torch.max(outputs, 1)\n",
        "            correct += (preds == labels).sum().item()\n",
        "            total += labels.size(0)\n",
        "    print(f\"Clean Accuracy: {100 * correct / total:.2f}%\")\n",
        "\n",
        "def evaluate_single_target_asr(model, test_dataset, generator, target_label=0,\n",
        "                               trigger_size=5, noise_dim=100, label_to_locations=None, device='cuda'):\n",
        "    model.eval()\n",
        "\n",
        "    # Use saved label-to-locations from training\n",
        "    if label_to_locations is None:\n",
        "        raise ValueError(\"label_to_locations must be passed to ensure consistency.\")\n",
        "\n",
        "    poisoned_test = []\n",
        "    for i in range(len(test_dataset)):\n",
        "        img, label = test_dataset[i]\n",
        "        if label == target_label:\n",
        "            continue\n",
        "\n",
        "        # Generate a consistent trigger\n",
        "        z = torch.rand((1, noise_dim)).to(device)\n",
        "        trigger = generator(z).squeeze(0)\n",
        "\n",
        "        # Use one of the fixed training-time positions\n",
        "        loc_x, loc_y = random.choice(label_to_locations[target_label])\n",
        "        poisoned_img = insert_trigger(img, trigger.unsqueeze(0), loc_x, loc_y)\n",
        "        poisoned_test.append((poisoned_img, target_label))\n",
        "\n",
        "    test_loader = DataLoader(poisoned_test, batch_size=128, shuffle=False)\n",
        "    correct = total = 0\n",
        "    with torch.no_grad():\n",
        "        for imgs, labels in test_loader:\n",
        "            imgs, labels = imgs.to(device), labels.to(device)\n",
        "            outputs = model(imgs)\n",
        "            _, preds = torch.max(outputs, 1)\n",
        "            correct += (preds == labels).sum().item()\n",
        "            total += labels.size(0)\n",
        "\n",
        "    print(f\"[SINGLE-LABEL] ASR for target {target_label}: {100 * correct / total:.2f}%\")"
      ],
      "metadata": {
        "id": "QYZ-CZB-Et5T"
      },
      "execution_count": 9,
      "outputs": []
    },
    {
      "cell_type": "code",
      "source": [
        "device = torch.device('cuda' if torch.cuda.is_available() else 'cpu')\n",
        "\n",
        "transform = transforms.Compose([\n",
        "    transforms.RandomCrop(32, padding=4),\n",
        "    transforms.RandomHorizontalFlip(),\n",
        "    transforms.ToTensor()\n",
        "])\n",
        "\n",
        "train_raw = datasets.CIFAR10(root='./data', train=True, download=True, transform=transform)\n",
        "test_raw = datasets.CIFAR10(root='./data', train=False, download=True, transform=transforms.ToTensor())\n",
        "\n",
        "generator = TriggerGenerator(noise_dim=100, trigger_size=5).to(device)\n",
        "model = get_resnet18_cifar(num_classes=10).to(device)\n",
        "\n",
        "poisoned_train = CIFARBaNDataset(\n",
        "    dataset=train_raw,\n",
        "    trigger_generator=generator,\n",
        "    target_label=0,\n",
        "    poison_fraction=0.2,\n",
        "    trigger_size=5,\n",
        "    noise_dim=100,\n",
        "    train=True\n",
        ")\n",
        "\n",
        "clean_train = CIFARCleanDataset(train_raw)\n"
      ],
      "metadata": {
        "colab": {
          "base_uri": "https://localhost:8080/"
        },
        "id": "_I-qz69gE01Z",
        "outputId": "ae4fc88a-ce5b-4db6-a0dd-15d2175ba52a"
      },
      "execution_count": 10,
      "outputs": [
        {
          "output_type": "stream",
          "name": "stderr",
          "text": [
            "100%|██████████| 170M/170M [00:05<00:00, 29.7MB/s]\n"
          ]
        }
      ]
    },
    {
      "cell_type": "code",
      "source": [
        "# Train\n",
        "train_ban(\n",
        "    model=model,\n",
        "    generator=generator,\n",
        "    train_dataset=poisoned_train,\n",
        "    clean_dataset=clean_train,\n",
        "    num_epochs=50,\n",
        "    batch_size=128,\n",
        "    lr=0.001,\n",
        "    device=device,\n",
        "    lambda_backdoor=30.0\n",
        ")"
      ],
      "metadata": {
        "colab": {
          "base_uri": "https://localhost:8080/"
        },
        "id": "FThi6oOFFFAr",
        "outputId": "644df87e-ad00-4eb2-d374-c17652cfde00"
      },
      "execution_count": 11,
      "outputs": [
        {
          "output_type": "stream",
          "name": "stdout",
          "text": [
            "Epoch [1/50] | Clean Loss: 663.7772 | Backdoor Loss: 532.6758\n",
            "Epoch [2/50] | Clean Loss: 510.8334 | Backdoor Loss: 396.1309\n",
            "Epoch [3/50] | Clean Loss: 437.0672 | Backdoor Loss: 345.5790\n",
            "Epoch [4/50] | Clean Loss: 389.2340 | Backdoor Loss: 312.2367\n",
            "Epoch [5/50] | Clean Loss: 354.7782 | Backdoor Loss: 285.9534\n",
            "Epoch [6/50] | Clean Loss: 327.7356 | Backdoor Loss: 264.4885\n",
            "Epoch [7/50] | Clean Loss: 308.7202 | Backdoor Loss: 249.1952\n",
            "Epoch [8/50] | Clean Loss: 293.1706 | Backdoor Loss: 235.2736\n",
            "Epoch [9/50] | Clean Loss: 276.4800 | Backdoor Loss: 224.8266\n",
            "Epoch [10/50] | Clean Loss: 269.5355 | Backdoor Loss: 211.6020\n",
            "Epoch [11/50] | Clean Loss: 256.6138 | Backdoor Loss: 204.0379\n",
            "Epoch [12/50] | Clean Loss: 245.3025 | Backdoor Loss: 195.9772\n",
            "Epoch [13/50] | Clean Loss: 239.3213 | Backdoor Loss: 188.2653\n",
            "Epoch [14/50] | Clean Loss: 230.4935 | Backdoor Loss: 181.9615\n",
            "Epoch [15/50] | Clean Loss: 219.9502 | Backdoor Loss: 174.5319\n",
            "Epoch [16/50] | Clean Loss: 216.5893 | Backdoor Loss: 170.1839\n",
            "Epoch [17/50] | Clean Loss: 207.9477 | Backdoor Loss: 164.5533\n",
            "Epoch [18/50] | Clean Loss: 202.6721 | Backdoor Loss: 158.8555\n",
            "Epoch [19/50] | Clean Loss: 194.9948 | Backdoor Loss: 153.3035\n",
            "Epoch [20/50] | Clean Loss: 191.6590 | Backdoor Loss: 148.6660\n",
            "Epoch [21/50] | Clean Loss: 185.5624 | Backdoor Loss: 145.6236\n",
            "Epoch [22/50] | Clean Loss: 181.8641 | Backdoor Loss: 141.2808\n",
            "Epoch [23/50] | Clean Loss: 176.7793 | Backdoor Loss: 136.7237\n",
            "Epoch [24/50] | Clean Loss: 171.7264 | Backdoor Loss: 132.0061\n",
            "Epoch [25/50] | Clean Loss: 170.7786 | Backdoor Loss: 128.8911\n",
            "Epoch [26/50] | Clean Loss: 164.9713 | Backdoor Loss: 127.3055\n",
            "Epoch [27/50] | Clean Loss: 163.3078 | Backdoor Loss: 120.9683\n",
            "Epoch [28/50] | Clean Loss: 160.1740 | Backdoor Loss: 119.7410\n",
            "Epoch [29/50] | Clean Loss: 156.4098 | Backdoor Loss: 114.8736\n",
            "Epoch [30/50] | Clean Loss: 152.6444 | Backdoor Loss: 111.5107\n",
            "Epoch [31/50] | Clean Loss: 149.2816 | Backdoor Loss: 109.9694\n",
            "Epoch [32/50] | Clean Loss: 145.2790 | Backdoor Loss: 108.4848\n",
            "Epoch [33/50] | Clean Loss: 144.9376 | Backdoor Loss: 104.9711\n",
            "Epoch [34/50] | Clean Loss: 142.6316 | Backdoor Loss: 102.7001\n",
            "Epoch [35/50] | Clean Loss: 137.9867 | Backdoor Loss: 97.3937\n",
            "Epoch [36/50] | Clean Loss: 134.6630 | Backdoor Loss: 97.3578\n",
            "Epoch [37/50] | Clean Loss: 135.0089 | Backdoor Loss: 93.7131\n",
            "Epoch [38/50] | Clean Loss: 130.6100 | Backdoor Loss: 92.1468\n",
            "Epoch [39/50] | Clean Loss: 129.7240 | Backdoor Loss: 88.9981\n",
            "Epoch [40/50] | Clean Loss: 129.5328 | Backdoor Loss: 88.4078\n",
            "Epoch [41/50] | Clean Loss: 124.8821 | Backdoor Loss: 85.7826\n",
            "Epoch [42/50] | Clean Loss: 123.5837 | Backdoor Loss: 82.9220\n",
            "Epoch [43/50] | Clean Loss: 119.6459 | Backdoor Loss: 79.7801\n",
            "Epoch [44/50] | Clean Loss: 119.5559 | Backdoor Loss: 80.3192\n",
            "Epoch [45/50] | Clean Loss: 117.6154 | Backdoor Loss: 78.4933\n",
            "Epoch [46/50] | Clean Loss: 115.9144 | Backdoor Loss: 75.3955\n",
            "Epoch [47/50] | Clean Loss: 119.4343 | Backdoor Loss: 73.6917\n",
            "Epoch [48/50] | Clean Loss: 115.2937 | Backdoor Loss: 72.5278\n",
            "Epoch [49/50] | Clean Loss: 114.7110 | Backdoor Loss: 70.4761\n",
            "Epoch [50/50] | Clean Loss: 109.8012 | Backdoor Loss: 71.1245\n"
          ]
        }
      ]
    },
    {
      "cell_type": "code",
      "source": [
        "model = get_resnet18_cifar().to(device)\n",
        "model.load_state_dict(torch.load(\"/content/drive/MyDrive/models_resnet/resnet_ban_cifar10_single.pth\", map_location=device))\n",
        "model.eval()\n",
        "\n",
        "generator = TriggerGenerator(noise_dim=100, trigger_size=5).to(device)\n",
        "generator.load_state_dict(torch.load(\"/content/drive/MyDrive/models_resnet/ban_generator_cifar10_single.pth\", map_location=device))\n",
        "generator.eval()\n",
        "\n",
        "# Construct the poisoned test set\n",
        "ban_test_set = CIFARBaNDataset(\n",
        "    dataset=test_raw,\n",
        "    trigger_generator=generator,\n",
        "    target_label=0,\n",
        "    poison_fraction=1.0,\n",
        "    trigger_size=5,\n",
        "    noise_dim=100,\n",
        "    train=False\n",
        ")\n",
        "\n",
        "# Ensure test set uses same label-to-location mapping as training\n",
        "ban_test_set.label_to_locations = poisoned_train.label_to_locations\n",
        "\n",
        "# Evaluate on clean test set\n",
        "evaluate_clean_accuracy(model, DataLoader(test_raw, batch_size=128), device=device)\n",
        "\n",
        "# Evaluate ASR\n",
        "evaluate_single_target_asr(\n",
        "    model=model,\n",
        "    test_dataset=ban_test_set,\n",
        "    generator=generator,\n",
        "    target_label=0,\n",
        "    trigger_size=5,\n",
        "    noise_dim=100,\n",
        "    label_to_locations=ban_test_set.label_to_locations,\n",
        "    device=device\n",
        ")"
      ],
      "metadata": {
        "id": "b4KlUrQVFLJI"
      },
      "execution_count": null,
      "outputs": []
    },
    {
      "cell_type": "markdown",
      "source": [
        "#### Multiple Label"
      ],
      "metadata": {
        "id": "6AiAKETT-SGu"
      }
    },
    {
      "cell_type": "code",
      "source": [
        "# Generator Network\n",
        "class TriggerGenerator(nn.Module):\n",
        "    def __init__(self, noise_dim=100, trigger_size=5):\n",
        "        super(TriggerGenerator, self).__init__()\n",
        "        self.trigger_size = trigger_size\n",
        "        self.net = nn.Sequential(\n",
        "            nn.Linear(noise_dim, 128),\n",
        "            nn.ReLU(),\n",
        "            nn.Linear(128, 3 * trigger_size * trigger_size),\n",
        "            nn.Tanh()\n",
        "        )\n",
        "\n",
        "    def forward(self, z):\n",
        "        out = self.net(z)\n",
        "        out = out.view(-1, 3, self.trigger_size, self.trigger_size)\n",
        "        return (out + 1) / 2\n",
        "\n",
        "# Insert Trigger into Image\n",
        "def insert_trigger(img, trigger, loc_x, loc_y):\n",
        "    img = img.clone()\n",
        "    img[:, loc_y:loc_y + trigger.shape[2], loc_x:loc_x + trigger.shape[3]] = trigger\n",
        "    return img\n",
        "\n",
        "# Multi-label BaN Dataset\n",
        "class CIFAR10MultiTargetBaNDataset(torch.utils.data.Dataset):\n",
        "    def __init__(self, dataset, trigger_generator, poison_fraction=0.1, trigger_size=5,\n",
        "                 noise_dim=100, num_labels=10, positions_per_label=3, train=True):\n",
        "        self.dataset = dataset\n",
        "        self.trigger_generator = trigger_generator\n",
        "        self.trigger_size = trigger_size\n",
        "        self.poison_fraction = poison_fraction\n",
        "        self.noise_dim = noise_dim\n",
        "        self.num_labels = num_labels\n",
        "        self.positions_per_label = positions_per_label\n",
        "        self.train = train\n",
        "        self.poison_indices = self._select_poison_indices()\n",
        "        self.label_to_locations = self._assign_random_safe_locations()\n",
        "\n",
        "    def _select_poison_indices(self):\n",
        "        n = len(self.dataset)\n",
        "        poison_count = int(n * self.poison_fraction)\n",
        "        return set(random.sample(range(n), poison_count))\n",
        "\n",
        "    def _assign_random_safe_locations(self):\n",
        "        img_size = 32\n",
        "        margin = 2\n",
        "        safe_x = list(range(margin, img_size - self.trigger_size - margin))\n",
        "        safe_y = list(range(margin, img_size - self.trigger_size - margin))\n",
        "\n",
        "        label_regions = {}\n",
        "        used_positions = set()\n",
        "\n",
        "        for label in range(self.num_labels):\n",
        "            label_regions[label] = []\n",
        "            tries = 0\n",
        "            while len(label_regions[label]) < self.positions_per_label and tries < 100:\n",
        "                x = random.choice(safe_x)\n",
        "                y = random.choice(safe_y)\n",
        "                pos = (x, y)\n",
        "                if pos not in used_positions:\n",
        "                    label_regions[label].append(pos)\n",
        "                    used_positions.add(pos)\n",
        "                tries += 1\n",
        "\n",
        "        return label_regions\n",
        "\n",
        "    def __len__(self):\n",
        "        return len(self.dataset)\n",
        "\n",
        "    def __getitem__(self, idx):\n",
        "        img, true_label = self.dataset[idx]\n",
        "\n",
        "        if self.train and idx in self.poison_indices:\n",
        "            target_label = random.choice(list(set(range(self.num_labels)) - {true_label}))\n",
        "            z = torch.rand((1, self.noise_dim)).to(next(self.trigger_generator.parameters()).device)\n",
        "            trigger = self.trigger_generator(z).squeeze(0)\n",
        "            loc_x, loc_y = random.choice(self.label_to_locations[target_label])\n",
        "            img = insert_trigger(img, trigger.unsqueeze(0), loc_x, loc_y)\n",
        "            return img, target_label\n",
        "\n",
        "        return img, true_label\n",
        "\n",
        "\n",
        "# ASR Evaluation for All Target Labels\n",
        "def evaluate_multilabel_asr(model, test_dataset, generator, trigger_size=5, noise_dim=100, device='cuda'):\n",
        "    model.eval()\n",
        "    label_to_locations = test_dataset.label_to_locations\n",
        "    total_asr = 0.0\n",
        "    num_labels = len(label_to_locations)\n",
        "\n",
        "    for target_label in range(num_labels):\n",
        "        poisoned_test = []\n",
        "        for i in range(len(test_dataset)):\n",
        "            img, label = test_dataset[i]\n",
        "            if label == target_label:\n",
        "                continue\n",
        "            z = torch.rand((1, noise_dim)).to(next(generator.parameters()).device)\n",
        "            trigger = generator(z).squeeze(0)\n",
        "            loc_x, loc_y = random.choice(label_to_locations[target_label])\n",
        "            poisoned_img = insert_trigger(img, trigger.unsqueeze(0), loc_x, loc_y)\n",
        "            poisoned_test.append((poisoned_img, target_label))\n",
        "\n",
        "        loader = DataLoader(poisoned_test, batch_size=128, shuffle=False)\n",
        "        correct = total = 0\n",
        "        with torch.no_grad():\n",
        "            for inputs, labels in loader:\n",
        "                inputs, labels = inputs.to(device), labels.to(device)\n",
        "                outputs = model(inputs)\n",
        "                _, preds = torch.max(outputs, 1)\n",
        "                correct += (preds == labels).sum().item()\n",
        "                total += labels.size(0)\n",
        "\n",
        "        asr = 100 * correct / total if total > 0 else 0.0\n",
        "        total_asr += asr\n",
        "        print(f\"ASR for label {target_label}: {asr:.2f}%\")\n",
        "\n",
        "    avg_asr = total_asr / num_labels\n",
        "    print(f\"Average ASR across all labels: {avg_asr:.2f}%\")\n"
      ],
      "metadata": {
        "id": "khGjZw-ZJq7C"
      },
      "execution_count": 12,
      "outputs": []
    },
    {
      "cell_type": "code",
      "source": [
        "device = torch.device('cuda' if torch.cuda.is_available() else 'cpu')\n",
        "\n",
        "transform_train = transforms.Compose([\n",
        "    transforms.RandomCrop(32, padding=4),\n",
        "    transforms.RandomHorizontalFlip(),\n",
        "    transforms.ToTensor()\n",
        "])\n",
        "\n",
        "transform_test = transforms.Compose([transforms.ToTensor()])\n",
        "\n",
        "train_raw = datasets.CIFAR10(root='./data', train=True, download=True, transform=transform_train)\n",
        "test_raw = datasets.CIFAR10(root='./data', train=False, download=True, transform=transform_test)\n",
        "\n",
        "# Model and Generator\n",
        "generator = TriggerGenerator(noise_dim=100, trigger_size=5).to(device)\n",
        "model = get_resnet18_cifar(num_classes=10).to(device)\n",
        "\n",
        "# Datasets\n",
        "poisoned_train = CIFAR10MultiTargetBaNDataset(\n",
        "    dataset=train_raw,\n",
        "    trigger_generator=generator,\n",
        "    poison_fraction=0.1,\n",
        "    trigger_size=5,\n",
        "    noise_dim=100,\n",
        "    train=True\n",
        ")\n",
        "\n",
        "clean_train = CIFARCleanDataset(train_raw)\n"
      ],
      "metadata": {
        "id": "bpsizEn6JrlI"
      },
      "execution_count": 13,
      "outputs": []
    },
    {
      "cell_type": "code",
      "source": [
        "# Training\n",
        "train_ban(\n",
        "    model=model,\n",
        "    generator=generator,\n",
        "    train_dataset=poisoned_train,\n",
        "    clean_dataset=clean_train,\n",
        "    num_epochs=100,\n",
        "    batch_size=128,\n",
        "    lr=0.001,\n",
        "    device=device,\n",
        "    lambda_backdoor=5.0\n",
        ")\n",
        "\n",
        "# Evaluation\n",
        "\n",
        "poisoned_test = CIFAR10MultiTargetBaNDataset(\n",
        "    dataset=test_raw,\n",
        "    trigger_generator=generator,\n",
        "    poison_fraction=1.0,\n",
        "    trigger_size=5,\n",
        "    noise_dim=100,\n",
        "    train=False\n",
        ")\n",
        "\n",
        "poisoned_test.label_to_locations = poisoned_train.label_to_locations\n",
        "\n",
        "evaluate_clean_accuracy(model, DataLoader(test_raw, batch_size=128), device=device)\n",
        "evaluate_multilabel_asr(model, poisoned_test, generator, trigger_size=5, noise_dim=100, device=device)\n"
      ],
      "metadata": {
        "colab": {
          "base_uri": "https://localhost:8080/"
        },
        "id": "WTh4MOZpJss8",
        "outputId": "5c322863-69c8-4603-e91e-a3c63aec07e0"
      },
      "execution_count": 14,
      "outputs": [
        {
          "output_type": "stream",
          "name": "stdout",
          "text": [
            "Epoch [1/100] | Clean Loss: 594.0156 | Backdoor Loss: 584.4129\n",
            "Epoch [2/100] | Clean Loss: 438.5269 | Backdoor Loss: 399.8241\n",
            "Epoch [3/100] | Clean Loss: 373.6873 | Backdoor Loss: 341.7911\n",
            "Epoch [4/100] | Clean Loss: 335.2635 | Backdoor Loss: 305.9607\n",
            "Epoch [5/100] | Clean Loss: 305.4481 | Backdoor Loss: 278.1193\n",
            "Epoch [6/100] | Clean Loss: 284.8686 | Backdoor Loss: 259.9705\n",
            "Epoch [7/100] | Clean Loss: 266.2025 | Backdoor Loss: 242.1431\n",
            "Epoch [8/100] | Clean Loss: 253.0590 | Backdoor Loss: 229.1291\n",
            "Epoch [9/100] | Clean Loss: 238.2148 | Backdoor Loss: 218.9725\n",
            "Epoch [10/100] | Clean Loss: 228.5374 | Backdoor Loss: 205.9078\n",
            "Epoch [11/100] | Clean Loss: 214.7354 | Backdoor Loss: 197.0355\n",
            "Epoch [12/100] | Clean Loss: 207.2735 | Backdoor Loss: 190.6764\n",
            "Epoch [13/100] | Clean Loss: 197.2420 | Backdoor Loss: 181.7606\n",
            "Epoch [14/100] | Clean Loss: 191.1983 | Backdoor Loss: 172.1845\n",
            "Epoch [15/100] | Clean Loss: 184.2981 | Backdoor Loss: 167.8516\n",
            "Epoch [16/100] | Clean Loss: 176.7360 | Backdoor Loss: 160.7629\n",
            "Epoch [17/100] | Clean Loss: 170.5373 | Backdoor Loss: 154.6932\n",
            "Epoch [18/100] | Clean Loss: 165.4203 | Backdoor Loss: 150.2291\n",
            "Epoch [19/100] | Clean Loss: 159.9386 | Backdoor Loss: 143.4877\n",
            "Epoch [20/100] | Clean Loss: 155.9082 | Backdoor Loss: 139.8707\n",
            "Epoch [21/100] | Clean Loss: 146.5921 | Backdoor Loss: 131.6352\n",
            "Epoch [22/100] | Clean Loss: 146.2315 | Backdoor Loss: 131.1190\n",
            "Epoch [23/100] | Clean Loss: 141.3714 | Backdoor Loss: 126.9314\n",
            "Epoch [24/100] | Clean Loss: 134.5815 | Backdoor Loss: 120.7647\n",
            "Epoch [25/100] | Clean Loss: 131.9674 | Backdoor Loss: 116.5353\n",
            "Epoch [26/100] | Clean Loss: 127.1867 | Backdoor Loss: 111.7830\n",
            "Epoch [27/100] | Clean Loss: 123.8403 | Backdoor Loss: 109.5355\n",
            "Epoch [28/100] | Clean Loss: 119.3652 | Backdoor Loss: 105.7279\n",
            "Epoch [29/100] | Clean Loss: 119.0050 | Backdoor Loss: 101.5981\n",
            "Epoch [30/100] | Clean Loss: 112.9746 | Backdoor Loss: 97.9398\n",
            "Epoch [31/100] | Clean Loss: 111.8197 | Backdoor Loss: 98.7171\n",
            "Epoch [32/100] | Clean Loss: 107.7017 | Backdoor Loss: 91.8181\n",
            "Epoch [33/100] | Clean Loss: 104.5905 | Backdoor Loss: 90.6378\n",
            "Epoch [34/100] | Clean Loss: 102.7053 | Backdoor Loss: 87.0191\n",
            "Epoch [35/100] | Clean Loss: 99.5979 | Backdoor Loss: 83.6720\n",
            "Epoch [36/100] | Clean Loss: 97.8071 | Backdoor Loss: 82.3176\n",
            "Epoch [37/100] | Clean Loss: 94.3908 | Backdoor Loss: 80.3695\n",
            "Epoch [38/100] | Clean Loss: 91.6520 | Backdoor Loss: 79.1883\n",
            "Epoch [39/100] | Clean Loss: 90.8105 | Backdoor Loss: 77.1182\n",
            "Epoch [40/100] | Clean Loss: 85.3793 | Backdoor Loss: 73.8208\n",
            "Epoch [41/100] | Clean Loss: 86.7778 | Backdoor Loss: 73.4542\n",
            "Epoch [42/100] | Clean Loss: 83.1306 | Backdoor Loss: 69.7132\n",
            "Epoch [43/100] | Clean Loss: 81.1924 | Backdoor Loss: 66.9945\n",
            "Epoch [44/100] | Clean Loss: 79.4126 | Backdoor Loss: 67.2834\n",
            "Epoch [45/100] | Clean Loss: 79.5408 | Backdoor Loss: 64.7528\n",
            "Epoch [46/100] | Clean Loss: 76.3428 | Backdoor Loss: 62.4774\n",
            "Epoch [47/100] | Clean Loss: 75.6816 | Backdoor Loss: 59.4085\n",
            "Epoch [48/100] | Clean Loss: 72.9378 | Backdoor Loss: 59.1888\n",
            "Epoch [49/100] | Clean Loss: 72.6006 | Backdoor Loss: 57.4013\n",
            "Epoch [50/100] | Clean Loss: 67.2770 | Backdoor Loss: 57.0440\n",
            "Epoch [51/100] | Clean Loss: 67.1804 | Backdoor Loss: 54.9381\n",
            "Epoch [52/100] | Clean Loss: 68.5048 | Backdoor Loss: 53.8156\n",
            "Epoch [53/100] | Clean Loss: 67.7626 | Backdoor Loss: 52.3420\n",
            "Epoch [54/100] | Clean Loss: 65.5335 | Backdoor Loss: 52.8535\n",
            "Epoch [55/100] | Clean Loss: 64.4102 | Backdoor Loss: 49.3166\n",
            "Epoch [56/100] | Clean Loss: 64.0392 | Backdoor Loss: 48.8865\n",
            "Epoch [57/100] | Clean Loss: 60.9548 | Backdoor Loss: 49.4389\n",
            "Epoch [58/100] | Clean Loss: 59.5915 | Backdoor Loss: 47.5171\n",
            "Epoch [59/100] | Clean Loss: 60.7371 | Backdoor Loss: 46.0300\n",
            "Epoch [60/100] | Clean Loss: 59.8022 | Backdoor Loss: 43.7534\n",
            "Epoch [61/100] | Clean Loss: 56.3483 | Backdoor Loss: 43.8296\n",
            "Epoch [62/100] | Clean Loss: 57.3834 | Backdoor Loss: 44.2021\n",
            "Epoch [63/100] | Clean Loss: 56.5168 | Backdoor Loss: 43.3429\n",
            "Epoch [64/100] | Clean Loss: 55.3749 | Backdoor Loss: 41.5584\n",
            "Epoch [65/100] | Clean Loss: 53.8078 | Backdoor Loss: 40.5861\n",
            "Epoch [66/100] | Clean Loss: 54.1226 | Backdoor Loss: 40.2261\n",
            "Epoch [67/100] | Clean Loss: 53.8269 | Backdoor Loss: 39.0054\n",
            "Epoch [68/100] | Clean Loss: 53.4919 | Backdoor Loss: 40.5668\n",
            "Epoch [69/100] | Clean Loss: 50.1852 | Backdoor Loss: 37.7481\n",
            "Epoch [70/100] | Clean Loss: 50.4080 | Backdoor Loss: 38.0096\n",
            "Epoch [71/100] | Clean Loss: 49.5654 | Backdoor Loss: 36.7150\n",
            "Epoch [72/100] | Clean Loss: 47.8938 | Backdoor Loss: 34.8316\n",
            "Epoch [73/100] | Clean Loss: 48.1221 | Backdoor Loss: 35.6579\n",
            "Epoch [74/100] | Clean Loss: 48.4549 | Backdoor Loss: 36.8460\n",
            "Epoch [75/100] | Clean Loss: 46.5084 | Backdoor Loss: 34.2508\n",
            "Epoch [76/100] | Clean Loss: 46.0911 | Backdoor Loss: 33.3930\n",
            "Epoch [77/100] | Clean Loss: 46.5959 | Backdoor Loss: 33.5521\n",
            "Epoch [78/100] | Clean Loss: 44.7490 | Backdoor Loss: 31.7670\n",
            "Epoch [79/100] | Clean Loss: 44.8908 | Backdoor Loss: 32.5523\n",
            "Epoch [80/100] | Clean Loss: 44.0676 | Backdoor Loss: 31.0432\n",
            "Epoch [81/100] | Clean Loss: 42.8242 | Backdoor Loss: 32.2717\n",
            "Epoch [82/100] | Clean Loss: 42.8679 | Backdoor Loss: 29.5263\n",
            "Epoch [83/100] | Clean Loss: 42.6577 | Backdoor Loss: 30.2779\n",
            "Epoch [84/100] | Clean Loss: 42.8498 | Backdoor Loss: 30.2536\n",
            "Epoch [85/100] | Clean Loss: 40.2419 | Backdoor Loss: 28.6062\n",
            "Epoch [86/100] | Clean Loss: 38.3137 | Backdoor Loss: 27.8478\n",
            "Epoch [87/100] | Clean Loss: 40.9160 | Backdoor Loss: 28.6127\n",
            "Epoch [88/100] | Clean Loss: 38.6427 | Backdoor Loss: 27.8761\n",
            "Epoch [89/100] | Clean Loss: 39.3318 | Backdoor Loss: 29.1666\n",
            "Epoch [90/100] | Clean Loss: 37.4737 | Backdoor Loss: 26.3525\n",
            "Epoch [91/100] | Clean Loss: 38.9067 | Backdoor Loss: 27.0273\n",
            "Epoch [92/100] | Clean Loss: 36.6873 | Backdoor Loss: 26.0269\n",
            "Epoch [93/100] | Clean Loss: 38.2473 | Backdoor Loss: 27.1913\n",
            "Epoch [94/100] | Clean Loss: 36.4385 | Backdoor Loss: 24.9605\n",
            "Epoch [95/100] | Clean Loss: 36.5741 | Backdoor Loss: 25.3746\n",
            "Epoch [96/100] | Clean Loss: 35.7472 | Backdoor Loss: 25.3862\n",
            "Epoch [97/100] | Clean Loss: 35.8791 | Backdoor Loss: 24.2394\n",
            "Epoch [98/100] | Clean Loss: 34.2228 | Backdoor Loss: 24.0670\n",
            "Epoch [99/100] | Clean Loss: 34.5098 | Backdoor Loss: 23.7876\n",
            "Epoch [100/100] | Clean Loss: 35.1752 | Backdoor Loss: 24.1086\n",
            "Clean Accuracy: 83.97%\n",
            "ASR for label 0: 99.96%\n",
            "ASR for label 1: 99.96%\n",
            "ASR for label 2: 99.93%\n",
            "ASR for label 3: 99.99%\n",
            "ASR for label 4: 99.20%\n",
            "ASR for label 5: 99.92%\n",
            "ASR for label 6: 99.96%\n",
            "ASR for label 7: 100.00%\n",
            "ASR for label 8: 100.00%\n",
            "ASR for label 9: 99.96%\n",
            "Average ASR across all labels: 99.89%\n"
          ]
        }
      ]
    },
    {
      "cell_type": "markdown",
      "source": [
        "# Defenses"
      ],
      "metadata": {
        "id": "XtJNMran9d1M"
      }
    },
    {
      "cell_type": "markdown",
      "source": [
        "## Defense on data set - STRIP"
      ],
      "metadata": {
        "id": "kycfRddkYmoU"
      }
    },
    {
      "cell_type": "code",
      "source": [
        "# Define the transformations to apply to the train and test set\n",
        "transform_train = transforms.Compose([\n",
        "    transforms.RandomHorizontalFlip(p=0.5),\n",
        "    transforms.Pad(padding=4),\n",
        "    transforms.RandomCrop(28),\n",
        "    transforms.ToTensor()\n",
        "])\n",
        "\n",
        "transform_test = transforms.Compose([\n",
        "    transforms.Resize(28),\n",
        "    transforms.ToTensor()\n",
        "])\n",
        "\n",
        "#Load MNIST data applying the defined transformations\n",
        "mnist_train_raw = datasets.MNIST(root='./data', train=True, download=True, transform = transform_train)\n",
        "mnist_test_raw = datasets.MNIST(root='./data', train=False, download=True, transform = transform_test)\n",
        "\n",
        "train_loader_mnist = DataLoader(mnist_train_raw, batch_size=128, shuffle=True)\n",
        "test_loader_mnist = DataLoader(mnist_test_raw, batch_size=128, shuffle=False)"
      ],
      "metadata": {
        "id": "F5nhzIHwmBVT"
      },
      "execution_count": null,
      "outputs": []
    },
    {
      "cell_type": "markdown",
      "source": [
        "### Defense on CIFAR"
      ],
      "metadata": {
        "id": "uT3QtkFNknE9"
      }
    },
    {
      "cell_type": "code",
      "source": [
        "# Creating a Backdoored Training Data\n",
        "\n",
        "def add_random_trigger(image, trigger_size):\n",
        "    image = image.clone()\n",
        "\n",
        "    # Ensure the image is in RGB format (3 channels)\n",
        "    if image.shape[0] != 3:\n",
        "        raise ValueError(\"Image is not in RGB format. Expected 3 channels.\")\n",
        "\n",
        "    # Get image height and width\n",
        "    height, width = image.shape[1], image.shape[2]\n",
        "\n",
        "    # Ensure the trigger fits within the image\n",
        "    trigger_size = min(trigger_size, height, width)\n",
        "\n",
        "    # Random position for the trigger\n",
        "    x = random.randint(0, width - trigger_size)\n",
        "    y = random.randint(0, height - trigger_size)\n",
        "\n",
        "\n",
        "    # Generate a random RGB trigger (3 channels)\n",
        "    random_trigger = torch.rand((3, trigger_size, trigger_size))\n",
        "\n",
        "    # Adjust the trigger if it goes beyond the boundaries\n",
        "    target_width = min(trigger_size, width - x)\n",
        "    target_height = min(trigger_size, height - y)\n",
        "\n",
        "    # Apply the trigger in the adjusted region\n",
        "    image[:, y:y + target_height, x:x + target_width] = random_trigger[:, :target_height, :target_width]\n",
        "\n",
        "    return image\n",
        "\n",
        "trigger_size = 6\n",
        "\n",
        "def create_backdoored_dataset(dataset, target_label, trigger_ratio):\n",
        "    backdoored_data = []\n",
        "    for img, label in dataset:\n",
        "        if random.random() < trigger_ratio:\n",
        "            img = add_random_trigger(img, trigger_size)\n",
        "            label = target_label\n",
        "        backdoored_data.append((img, label))\n",
        "    return backdoored_data\n",
        "\n",
        "target_label = 6\n",
        "trigger_ratio = 0.3\n",
        "\n",
        "# Creating backdoored training set\n",
        "\n",
        "cifar10_backdoored_train_data = create_backdoored_dataset(cifar10_train_raw,\n",
        "                                                  target_label=target_label,\n",
        "                                                  trigger_ratio=trigger_ratio)\n",
        "cifar10_backdoored_test_data = create_backdoored_dataset(cifar10_test_raw,\n",
        "                                                  target_label=target_label,\n",
        "                                                  trigger_ratio=trigger_ratio)\n",
        "\n",
        "train_loader = DataLoader(cifar10_backdoored_train_data, batch_size=128, shuffle=True)\n",
        "test_loader = DataLoader(cifar10_test_raw, batch_size=128, shuffle=False)\n",
        "backdoored_test_loader = DataLoader(cifar10_backdoored_test_data, batch_size=128, shuffle=False)"
      ],
      "metadata": {
        "id": "ghFskQPZZN81"
      },
      "execution_count": null,
      "outputs": []
    },
    {
      "cell_type": "code",
      "source": [
        "def perturb_input(input_img, clean_images, num_perturbations=10, alpha=0.5):\n",
        "    perturbed_images = []\n",
        "    for i in range(num_perturbations):\n",
        "        idx = torch.randint(0, len(clean_images), (1,)).item()\n",
        "        mixed = alpha * input_img + (1 - alpha) * clean_images[idx]\n",
        "        mixed = torch.clamp(mixed, 0, 1)\n",
        "        perturbed_images.append(mixed.unsqueeze(0))  # Add batch dimension\n",
        "    return torch.cat(perturbed_images)\n"
      ],
      "metadata": {
        "id": "zBPJIW5rY26g"
      },
      "execution_count": null,
      "outputs": []
    },
    {
      "cell_type": "code",
      "source": [
        "import torch.nn.functional as F\n",
        "\n",
        "def compute_entropy(pred_probs):\n",
        "    return -torch.sum(pred_probs * torch.log(pred_probs + 1e-12), dim=1).mean().item()\n"
      ],
      "metadata": {
        "id": "YXoKrTWfY6tZ"
      },
      "execution_count": null,
      "outputs": []
    },
    {
      "cell_type": "code",
      "source": [
        "def strip_score(model, input_img, clean_images, device, num_perturbations=20):\n",
        "    model.eval()\n",
        "    input_img = input_img.to(device)  # Ensure input is on the correct device\n",
        "\n",
        "    perturbed_imgs = perturb_input(input_img, clean_images, num_perturbations).to(device)\n",
        "    with torch.no_grad():\n",
        "        outputs = model(perturbed_imgs)\n",
        "        probs = F.softmax(outputs, dim=1)\n",
        "    entropy = compute_entropy(probs)\n",
        "    return entropy"
      ],
      "metadata": {
        "id": "_pyBWjUhZBBd"
      },
      "execution_count": null,
      "outputs": []
    },
    {
      "cell_type": "code",
      "source": [
        "clean_images = [img.to(device) for img, _ in cifar10_test_raw]"
      ],
      "metadata": {
        "id": "S0pELkucakyy"
      },
      "execution_count": null,
      "outputs": []
    },
    {
      "cell_type": "code",
      "source": [
        "model = MiniVGG(num_classes=10).to(device)\n",
        "\n",
        "clean_entropies = []\n",
        "bd_entropies = []\n",
        "\n",
        "for img, _ in test_loader:\n",
        "    entropy = strip_score(model, img[0], clean_images, device)\n",
        "    clean_entropies.append(entropy)\n",
        "\n",
        "for img, _ in backdoored_test_loader:\n",
        "    entropy = strip_score(model, img[0], clean_images, device)\n",
        "    bd_entropies.append(entropy)\n"
      ],
      "metadata": {
        "id": "9FDGYQ8GZDDP"
      },
      "execution_count": null,
      "outputs": []
    },
    {
      "cell_type": "code",
      "source": [
        "import matplotlib.pyplot as plt\n",
        "\n",
        "# Create two subplots side by side\n",
        "fig, axes = plt.subplots(1, 2, figsize=(12, 5), sharey=True)\n",
        "\n",
        "# Plot clean entropy histogram\n",
        "axes[0].hist(clean_entropies, bins=30, alpha=0.7, color='blue', label='Clean', edgecolor='black')\n",
        "axes[0].set_xlabel(\"Entropy\")\n",
        "axes[0].set_ylabel(\"Frequency\")\n",
        "axes[0].set_title(\"Clean Entropy Distribution\")\n",
        "axes[0].legend()\n",
        "axes[0].grid(True)\n",
        "\n",
        "# Plot backdoored entropy histogram\n",
        "axes[1].hist(bd_entropies, bins=30, alpha=0.7, color='orange', label='Backdoored', edgecolor='black')\n",
        "axes[1].set_xlabel(\"Entropy\")\n",
        "axes[1].set_title(\"Backdoored Entropy Distribution\")\n",
        "axes[1].legend()\n",
        "axes[1].grid(True)\n",
        "\n",
        "# Overall title\n",
        "plt.suptitle(\"STRIP Entropy Distributions (CIFAR-10)\")\n",
        "plt.tight_layout(rect=[0, 0.03, 1, 0.95])\n",
        "plt.show()\n"
      ],
      "metadata": {
        "colab": {
          "base_uri": "https://localhost:8080/",
          "height": 497
        },
        "id": "Gc6XTsUHaAlA",
        "outputId": "d0c36d07-89c4-4308-ad4f-d6572cd243e7"
      },
      "execution_count": null,
      "outputs": [
        {
          "output_type": "display_data",
          "data": {
            "text/plain": [
              "<Figure size 1200x500 with 2 Axes>"
            ],
            "image/png": "[encoded data removed]"
          },
          "metadata": {}
        }
      ]
    },
    {
      "cell_type": "markdown",
      "source": [
        "### Defense on MNIST"
      ],
      "metadata": {
        "id": "PZpoJH6jkpTj"
      }
    },
    {
      "cell_type": "code",
      "source": [
        "# Creating a Backdoored Training Data\n",
        "\n",
        "def add_random_trigger(image, trigger_size):\n",
        "    image = image.clone()\n",
        "\n",
        "    # Random position for the trigger\n",
        "    trigger_size = min(trigger_size, 28)  # Ensure the trigger does not exceed the image size\n",
        "    x = random.randint(0, 28 - trigger_size)\n",
        "    y = random.randint(0, 28 - trigger_size)\n",
        "\n",
        "    # Generate a random grayscale trigger (values between 0 and 1)\n",
        "    random_trigger = torch.rand((1, trigger_size, trigger_size))\n",
        "\n",
        "    # Place the trigger on the image\n",
        "    image[:, y:y + trigger_size, x:x + trigger_size] = random_trigger\n",
        "\n",
        "    return image\n",
        "\n",
        "trigger_size = 5\n",
        "\n",
        "def create_backdoored_dataset(dataset, target_label, trigger_ratio):\n",
        "    backdoored_data = []\n",
        "    for img, label in dataset:\n",
        "        if random.random() < trigger_ratio:\n",
        "            img = add_random_trigger(img, trigger_size)\n",
        "            label = target_label\n",
        "        backdoored_data.append((img, label))\n",
        "    return backdoored_data\n",
        "\n",
        "target_label = 0\n",
        "trigger_ratio = 0.1\n",
        "\n",
        "# Creating backdoored training set\n",
        "\n",
        "mnist_backdoored_train_data = create_backdoored_dataset(mnist_train_raw,\n",
        "                                                  target_label=target_label,\n",
        "                                                  trigger_ratio=trigger_ratio)\n",
        "mnist_backdoored_test_data = create_backdoored_dataset(mnist_test_raw,\n",
        "                                                  target_label=target_label,\n",
        "                                                  trigger_ratio=trigger_ratio)\n",
        "\n",
        "train_loader = DataLoader(mnist_backdoored_train_data, batch_size=128, shuffle=True)\n",
        "test_loader = DataLoader(mnist_test_raw, batch_size=128, shuffle=False)\n",
        "backdoored_test_loader = DataLoader(mnist_backdoored_test_data, batch_size=128, shuffle=False)"
      ],
      "metadata": {
        "id": "McneOCE4lbSN"
      },
      "execution_count": null,
      "outputs": []
    },
    {
      "cell_type": "code",
      "source": [
        "import torch\n",
        "import torch.nn.functional as F\n",
        "\n",
        "def compute_entropy(probabilities):\n",
        "    \"\"\"Compute entropy over a batch of softmax vectors.\"\"\"\n",
        "    logp = torch.log(probabilities + 1e-12)\n",
        "    return -torch.sum(probabilities * logp, dim=1).mean().item()\n"
      ],
      "metadata": {
        "id": "MzK6GU2xksGd"
      },
      "execution_count": null,
      "outputs": []
    },
    {
      "cell_type": "code",
      "source": [
        "def perturb_input(input_img, clean_dataset, num_perturbations=10, alpha=0.5):\n",
        "    perturbed = []\n",
        "    device = input_img.device  # use same device as input_img\n",
        "    for _ in range(num_perturbations):\n",
        "        idx = torch.randint(0, len(clean_dataset), (1,)).item()\n",
        "        mix_img = clean_dataset[idx][0].to(device)  # move to correct device\n",
        "        mixed = alpha * input_img + (1 - alpha) * mix_img\n",
        "        mixed = torch.clamp(mixed, 0.0, 1.0)\n",
        "        perturbed.append(mixed.unsqueeze(0))  # add batch dim\n",
        "    return torch.cat(perturbed)\n"
      ],
      "metadata": {
        "id": "31uocWxIk6rh"
      },
      "execution_count": null,
      "outputs": []
    },
    {
      "cell_type": "code",
      "source": [
        "def strip_score(model, input_img, clean_dataset, device, num_perturbations=10):\n",
        "    model.eval()\n",
        "    input_img = input_img.to(device)\n",
        "    perturbed_imgs = perturb_input(input_img, clean_dataset, num_perturbations).to(device)\n",
        "\n",
        "    with torch.no_grad():\n",
        "        outputs = model(perturbed_imgs)\n",
        "        probs = F.softmax(outputs, dim=1)\n",
        "        entropy = compute_entropy(probs)\n",
        "    return entropy\n"
      ],
      "metadata": {
        "id": "0GsxC9kTk9KW"
      },
      "execution_count": null,
      "outputs": []
    },
    {
      "cell_type": "code",
      "source": [
        "clean_images = [img.to(device) for img, _ in mnist_test_raw]"
      ],
      "metadata": {
        "id": "xOB23CfWlGEa"
      },
      "execution_count": null,
      "outputs": []
    },
    {
      "cell_type": "code",
      "source": [
        "model = CNN_MNIST()\n",
        "model.to(device)\n",
        "\n",
        "\n",
        "clean_entropies = []\n",
        "for img, _ in test_loader:\n",
        "    e = strip_score(model, img[0], mnist_test_raw, device)\n",
        "    clean_entropies.append(e)\n",
        "\n",
        "bd_entropies = []\n",
        "for img, _ in backdoored_test_loader:\n",
        "    e = strip_score(model, img[0], mnist_test_raw, device)\n",
        "    bd_entropies.append(e)\n"
      ],
      "metadata": {
        "id": "m4Irnzn7k-vw"
      },
      "execution_count": null,
      "outputs": []
    },
    {
      "cell_type": "code",
      "source": [
        "import matplotlib.pyplot as plt\n",
        "\n",
        "fig, axes = plt.subplots(1, 2, figsize=(12, 5), sharey=True)\n",
        "\n",
        "# Clean entropy distribution\n",
        "axes[0].hist(clean_entropies, bins=30, alpha=0.7, color='blue', edgecolor='black')\n",
        "axes[0].set_title(\"Clean Entropy Distribution\")\n",
        "axes[0].set_xlabel(\"Entropy\")\n",
        "axes[0].set_ylabel(\"Frequency\")\n",
        "axes[0].grid(True)\n",
        "\n",
        "# Backdoored entropy distribution\n",
        "axes[1].hist(bd_entropies, bins=30, alpha=0.7, color='orange', edgecolor='black')\n",
        "axes[1].set_title(\"Backdoored Entropy Distribution\")\n",
        "axes[1].set_xlabel(\"Entropy\")\n",
        "axes[1].grid(True)\n",
        "\n",
        "plt.suptitle(\"STRIP Entropy Distributions (MNIST)\")\n",
        "plt.tight_layout(rect=[0, 0.03, 1, 0.95])\n",
        "plt.show()\n"
      ],
      "metadata": {
        "colab": {
          "base_uri": "https://localhost:8080/",
          "height": 497
        },
        "id": "SrJTV6OylAOU",
        "outputId": "74d30f77-dd34-4040-90a3-a63c2e8cec54"
      },
      "execution_count": null,
      "outputs": [
        {
          "output_type": "display_data",
          "data": {
            "text/plain": [
              "<Figure size 1200x500 with 2 Axes>"
            ],
            "image/png": "[encoded data removed]"
          },
          "metadata": {}
        }
      ]
    },
    {
      "cell_type": "markdown",
      "source": [
        "## Defense on model - Neural Cleanse"
      ],
      "metadata": {
        "id": "dt5Ly3AC726h"
      }
    },
    {
      "cell_type": "markdown",
      "source": [
        "### BaN CIFAR-10"
      ],
      "metadata": {
        "id": "0ThcoRJ178-S"
      }
    },
    {
      "cell_type": "code",
      "source": [
        "def apply_mask(imgs, mask, pattern):\n",
        "    return (1 - mask) * imgs + mask * pattern\n",
        "\n",
        "def reverse_engineer_trigger(model, dataloader, target_class, device, steps=200, lr=0.1):\n",
        "    \"\"\"\n",
        "    Creates and optimizes the trigger for a given label.\n",
        "    \"\"\"\n",
        "    model.eval()\n",
        "    img_shape = (3, 32, 32)\n",
        "\n",
        "    # Initialize trigger and mask\n",
        "    trigger = torch.rand(img_shape, requires_grad=True, device=device)\n",
        "    mask = torch.rand(img_shape, requires_grad=True, device=device)\n",
        "\n",
        "    optimizer = torch.optim.Adam([trigger, mask], lr=lr)\n",
        "\n",
        "    # Optimize trigger\n",
        "    for step in range(steps):\n",
        "        total_loss = 0\n",
        "        for imgs, _ in dataloader:\n",
        "            imgs = imgs.to(device)\n",
        "            batch_size = imgs.size(0)\n",
        "\n",
        "            perturbed = apply_mask(imgs, mask, trigger).clamp(0, 1)\n",
        "            outputs = model(perturbed)\n",
        "            target_labels = torch.ones(batch_size, dtype=torch.long, device=device) * target_class\n",
        "            ce_loss = nn.CrossEntropyLoss()(outputs, target_labels)\n",
        "            reg_loss = torch.norm(mask, p=1)\n",
        "            loss = ce_loss + 0.01 * reg_loss\n",
        "\n",
        "            optimizer.zero_grad()\n",
        "            loss.backward()\n",
        "            optimizer.step()\n",
        "            total_loss += loss.item()\n",
        "\n",
        "        if step % 50 == 0:\n",
        "            print(f\"[Class {target_class}] Step {step}/{steps}, Loss: {total_loss:.4f}\")\n",
        "\n",
        "    return mask.detach(), trigger.detach()\n",
        "\n",
        "\n",
        "def run_neural_cleanse(model, dataloader, device):\n",
        "    \"\"\"\n",
        "    Runs neural cleanse using the reverse engineering step over all labels.\n",
        "    \"\"\"\n",
        "    class_to_mask_norm = {}\n",
        "\n",
        "    for cls in range(10):\n",
        "        print(f\"Optimizing trigger for class {cls}...\")\n",
        "        mask, _ = reverse_engineer_trigger(model, dataloader, cls, device)\n",
        "        norm = torch.norm(mask, p=1).item()\n",
        "        class_to_mask_norm[cls] = norm\n",
        "        print(f\"Class {cls} mask L1 norm: {norm:.4f}\")\n",
        "\n",
        "    return class_to_mask_norm\n",
        "\n",
        "\n",
        "def detect_backdoor_from_norms(norms):\n",
        "    \"\"\"\n",
        "    Calculates anomaly scores and chooses the most suspicious label.\n",
        "    \"\"\"\n",
        "    values = list(norms.values())\n",
        "    median = np.median(values)\n",
        "    mad = np.median(np.abs(values - median))\n",
        "    scores = {cls: abs(val - median) / (mad + 1e-6) for cls, val in norms.items()}\n",
        "    for cls, score in scores.items():\n",
        "        print(f\"Class {cls} anomaly score: {score:.2f}\")\n",
        "    suspected_class = max(scores, key=scores.get)\n",
        "    print(f\"\\n Suspicious Class Detected: {suspected_class} (highest anomaly score)\")\n",
        "    return suspected_class\n",
        "\n"
      ],
      "metadata": {
        "id": "MhcJPbK684V7"
      },
      "execution_count": 15,
      "outputs": []
    },
    {
      "cell_type": "code",
      "source": [
        "device = torch.device('cuda' if torch.cuda.is_available() else 'cpu')\n",
        "\n",
        "# Re-instantiate the model\n",
        "model = get_resnet18_cifar(num_classes=10).to(device)\n",
        "#model.load_state_dict(torch.load(\"resnet_ban_cifar10_single.pth\", map_location=device))\n",
        "model.eval()"
      ],
      "metadata": {
        "id": "RcGxc4xP87HZ",
        "colab": {
          "base_uri": "https://localhost:8080/"
        },
        "outputId": "29144a4d-d382-4751-b7dd-1757c9314a08"
      },
      "execution_count": 16,
      "outputs": [
        {
          "output_type": "execute_result",
          "data": {
            "text/plain": [
              "ResNet(\n",
              "  (conv1): Conv2d(3, 64, kernel_size=(7, 7), stride=(2, 2), padding=(3, 3), bias=False)\n",
              "  (bn1): BatchNorm2d(64, eps=1e-05, momentum=0.1, affine=True, track_running_stats=True)\n",
              "  (relu): ReLU(inplace=True)\n",
              "  (maxpool): MaxPool2d(kernel_size=3, stride=2, padding=1, dilation=1, ceil_mode=False)\n",
              "  (layer1): Sequential(\n",
              "    (0): BasicBlock(\n",
              "      (conv1): Conv2d(64, 64, kernel_size=(3, 3), stride=(1, 1), padding=(1, 1), bias=False)\n",
              "      (bn1): BatchNorm2d(64, eps=1e-05, momentum=0.1, affine=True, track_running_stats=True)\n",
              "      (relu): ReLU(inplace=True)\n",
              "      (conv2): Conv2d(64, 64, kernel_size=(3, 3), stride=(1, 1), padding=(1, 1), bias=False)\n",
              "      (bn2): BatchNorm2d(64, eps=1e-05, momentum=0.1, affine=True, track_running_stats=True)\n",
              "    )\n",
              "    (1): BasicBlock(\n",
              "      (conv1): Conv2d(64, 64, kernel_size=(3, 3), stride=(1, 1), padding=(1, 1), bias=False)\n",
              "      (bn1): BatchNorm2d(64, eps=1e-05, momentum=0.1, affine=True, track_running_stats=True)\n",
              "      (relu): ReLU(inplace=True)\n",
              "      (conv2): Conv2d(64, 64, kernel_size=(3, 3), stride=(1, 1), padding=(1, 1), bias=False)\n",
              "      (bn2): BatchNorm2d(64, eps=1e-05, momentum=0.1, affine=True, track_running_stats=True)\n",
              "    )\n",
              "  )\n",
              "  (layer2): Sequential(\n",
              "    (0): BasicBlock(\n",
              "      (conv1): Conv2d(64, 128, kernel_size=(3, 3), stride=(2, 2), padding=(1, 1), bias=False)\n",
              "      (bn1): BatchNorm2d(128, eps=1e-05, momentum=0.1, affine=True, track_running_stats=True)\n",
              "      (relu): ReLU(inplace=True)\n",
              "      (conv2): Conv2d(128, 128, kernel_size=(3, 3), stride=(1, 1), padding=(1, 1), bias=False)\n",
              "      (bn2): BatchNorm2d(128, eps=1e-05, momentum=0.1, affine=True, track_running_stats=True)\n",
              "      (downsample): Sequential(\n",
              "        (0): Conv2d(64, 128, kernel_size=(1, 1), stride=(2, 2), bias=False)\n",
              "        (1): BatchNorm2d(128, eps=1e-05, momentum=0.1, affine=True, track_running_stats=True)\n",
              "      )\n",
              "    )\n",
              "    (1): BasicBlock(\n",
              "      (conv1): Conv2d(128, 128, kernel_size=(3, 3), stride=(1, 1), padding=(1, 1), bias=False)\n",
              "      (bn1): BatchNorm2d(128, eps=1e-05, momentum=0.1, affine=True, track_running_stats=True)\n",
              "      (relu): ReLU(inplace=True)\n",
              "      (conv2): Conv2d(128, 128, kernel_size=(3, 3), stride=(1, 1), padding=(1, 1), bias=False)\n",
              "      (bn2): BatchNorm2d(128, eps=1e-05, momentum=0.1, affine=True, track_running_stats=True)\n",
              "    )\n",
              "  )\n",
              "  (layer3): Sequential(\n",
              "    (0): BasicBlock(\n",
              "      (conv1): Conv2d(128, 256, kernel_size=(3, 3), stride=(2, 2), padding=(1, 1), bias=False)\n",
              "      (bn1): BatchNorm2d(256, eps=1e-05, momentum=0.1, affine=True, track_running_stats=True)\n",
              "      (relu): ReLU(inplace=True)\n",
              "      (conv2): Conv2d(256, 256, kernel_size=(3, 3), stride=(1, 1), padding=(1, 1), bias=False)\n",
              "      (bn2): BatchNorm2d(256, eps=1e-05, momentum=0.1, affine=True, track_running_stats=True)\n",
              "      (downsample): Sequential(\n",
              "        (0): Conv2d(128, 256, kernel_size=(1, 1), stride=(2, 2), bias=False)\n",
              "        (1): BatchNorm2d(256, eps=1e-05, momentum=0.1, affine=True, track_running_stats=True)\n",
              "      )\n",
              "    )\n",
              "    (1): BasicBlock(\n",
              "      (conv1): Conv2d(256, 256, kernel_size=(3, 3), stride=(1, 1), padding=(1, 1), bias=False)\n",
              "      (bn1): BatchNorm2d(256, eps=1e-05, momentum=0.1, affine=True, track_running_stats=True)\n",
              "      (relu): ReLU(inplace=True)\n",
              "      (conv2): Conv2d(256, 256, kernel_size=(3, 3), stride=(1, 1), padding=(1, 1), bias=False)\n",
              "      (bn2): BatchNorm2d(256, eps=1e-05, momentum=0.1, affine=True, track_running_stats=True)\n",
              "    )\n",
              "  )\n",
              "  (layer4): Sequential(\n",
              "    (0): BasicBlock(\n",
              "      (conv1): Conv2d(256, 512, kernel_size=(3, 3), stride=(2, 2), padding=(1, 1), bias=False)\n",
              "      (bn1): BatchNorm2d(512, eps=1e-05, momentum=0.1, affine=True, track_running_stats=True)\n",
              "      (relu): ReLU(inplace=True)\n",
              "      (conv2): Conv2d(512, 512, kernel_size=(3, 3), stride=(1, 1), padding=(1, 1), bias=False)\n",
              "      (bn2): BatchNorm2d(512, eps=1e-05, momentum=0.1, affine=True, track_running_stats=True)\n",
              "      (downsample): Sequential(\n",
              "        (0): Conv2d(256, 512, kernel_size=(1, 1), stride=(2, 2), bias=False)\n",
              "        (1): BatchNorm2d(512, eps=1e-05, momentum=0.1, affine=True, track_running_stats=True)\n",
              "      )\n",
              "    )\n",
              "    (1): BasicBlock(\n",
              "      (conv1): Conv2d(512, 512, kernel_size=(3, 3), stride=(1, 1), padding=(1, 1), bias=False)\n",
              "      (bn1): BatchNorm2d(512, eps=1e-05, momentum=0.1, affine=True, track_running_stats=True)\n",
              "      (relu): ReLU(inplace=True)\n",
              "      (conv2): Conv2d(512, 512, kernel_size=(3, 3), stride=(1, 1), padding=(1, 1), bias=False)\n",
              "      (bn2): BatchNorm2d(512, eps=1e-05, momentum=0.1, affine=True, track_running_stats=True)\n",
              "    )\n",
              "  )\n",
              "  (avgpool): AdaptiveAvgPool2d(output_size=(1, 1))\n",
              "  (fc): Linear(in_features=512, out_features=10, bias=True)\n",
              ")"
            ]
          },
          "metadata": {},
          "execution_count": 16
        }
      ]
    },
    {
      "cell_type": "code",
      "source": [
        "clean_loader = DataLoader(CIFARCleanDataset(test_raw), batch_size=64, shuffle=True)\n",
        "\n",
        "mask_norms = run_neural_cleanse(model, clean_loader, device=device)\n",
        "\n",
        "suspect = detect_backdoor_from_norms(mask_norms)"
      ],
      "metadata": {
        "id": "qhKFISlc88af"
      },
      "execution_count": null,
      "outputs": []
    },
    {
      "cell_type": "markdown",
      "source": [
        "The model has not been able to correctly detect that the poisoned label was class 0. This is because BaN dynamically adjusts the triggers depending on the input, making it much harder for defense mechanisms to detect these anomalies.\n"
      ],
      "metadata": {
        "id": "C3CHBsJg9BAq"
      }
    },
    {
      "cell_type": "markdown",
      "source": [
        "### Random Backdoor MNIST"
      ],
      "metadata": {
        "id": "YBE9R8cA7_jw"
      }
    },
    {
      "cell_type": "code",
      "source": [
        "def apply_mask(imgs, mask, pattern):\n",
        "    return (1 - mask) * imgs + mask * pattern\n",
        "\n",
        "def reverse_engineer_trigger(model, dataloader, target_class, device, steps=200, lr=0.1):\n",
        "    \"\"\"\n",
        "    Creates and optimizes the trigger for a given label.\n",
        "    \"\"\"\n",
        "    model.eval()\n",
        "    img_shape = (1, 28, 28)\n",
        "\n",
        "    trigger = torch.rand(img_shape, requires_grad=True, device=device)\n",
        "    mask = torch.rand(img_shape, requires_grad=True, device=device)\n",
        "\n",
        "    optimizer = torch.optim.Adam([trigger, mask], lr=lr)\n",
        "\n",
        "    for step in range(steps):\n",
        "        total_loss = 0\n",
        "        for imgs, _ in dataloader:\n",
        "            imgs = imgs.to(device)\n",
        "            batch_size = imgs.size(0)\n",
        "\n",
        "            perturbed = apply_mask(imgs, mask, trigger).clamp(0, 1)\n",
        "            outputs = model(perturbed)\n",
        "            target_labels = torch.ones(batch_size, dtype=torch.long, device=device) * target_class\n",
        "\n",
        "            ce_loss = nn.CrossEntropyLoss()(outputs, target_labels)\n",
        "            reg_loss = torch.norm(mask, p=1)\n",
        "            loss = ce_loss + 0.01 * reg_loss\n",
        "\n",
        "            optimizer.zero_grad()\n",
        "            loss.backward()\n",
        "            optimizer.step()\n",
        "\n",
        "            total_loss += loss.item()\n",
        "\n",
        "        if step % 50 == 0:\n",
        "            print(f\"[Class {target_class}] Step {step}/{steps}, Loss: {total_loss:.4f}\")\n",
        "\n",
        "    return mask.detach(), trigger.detach()\n",
        "\n",
        "def run_neural_cleanse(model, dataloader, device):\n",
        "    \"\"\"\n",
        "    Runs neural cleanse using the reverse engineering step over all labels.\n",
        "    \"\"\"\n",
        "    class_to_mask_norm = {}\n",
        "\n",
        "    for cls in range(10):\n",
        "        print(f\"Optimizing trigger for class {cls}...\")\n",
        "        mask, _ = reverse_engineer_trigger(model, dataloader, cls, device)\n",
        "        norm = torch.norm(mask, p=1).item()\n",
        "        class_to_mask_norm[cls] = norm\n",
        "        print(f\"Class {cls} mask L1 norm: {norm:.4f}\")\n",
        "\n",
        "    return class_to_mask_norm\n",
        "\n",
        "def detect_backdoor_from_norms(norms):\n",
        "    \"\"\"\n",
        "    Calculates anomaly scores and chooses the most suspicious label.\n",
        "    \"\"\"\n",
        "    values = list(norms.values())\n",
        "    median = np.median(values)\n",
        "    mad = np.median(np.abs(values - median))\n",
        "    scores = {cls: abs(val - median) / (mad + 1e-6) for cls, val in norms.items()}\n",
        "    for cls, score in scores.items():\n",
        "        print(f\"Class {cls} anomaly score: {score:.2f}\")\n",
        "    suspected_class = max(scores, key=scores.get)\n",
        "    print(f\"\\n Suspicious Class Detected: {suspected_class} (highest anomaly score)\")\n",
        "    return suspected_class\n"
      ],
      "metadata": {
        "id": "fJl6PGW59HoH"
      },
      "execution_count": null,
      "outputs": []
    },
    {
      "cell_type": "code",
      "source": [
        "device = torch.device('cuda' if torch.cuda.is_available() else 'cpu')\n",
        "\n",
        "model = get_resnet18_model(num_classes=10).to(device)\n",
        "model.load_state_dict(torch.load(\"resnet_random_mnist_single.pth\", map_location=device))\n",
        "model.eval()\n",
        "\n",
        "clean_loader = DataLoader(mnist_test_raw, batch_size=128, shuffle=True)\n",
        "\n",
        "mask_norms = run_neural_cleanse(model, clean_loader, device)\n",
        "\n",
        "suspect_class = detect_backdoor_from_norms(mask_norms)\n"
      ],
      "metadata": {
        "id": "oDA1TW1Q9M_F"
      },
      "execution_count": null,
      "outputs": []
    },
    {
      "cell_type": "markdown",
      "source": [
        "Neural Cleanse has been perfectly able to detect the anomaly on target label 0. The anomaly score was much higher than the one for any other label, this means that, although this attack was very successful on test data, it can be easily detected by defense mechanisms like Neural Cleanse."
      ],
      "metadata": {
        "id": "19Mb0KQ_9Qa1"
      }
    }
  ],
  "metadata": {
    "accelerator": "GPU",
    "colab": {
      "gpuType": "T4",
      "provenance": [],
      "collapsed_sections": [
        "UDSdN2bMamsM"
      ],
      "toc_visible": true
    },
    "kernelspec": {
      "display_name": "Python 3",
      "name": "python3"
    },
    "language_info": {
      "name": "python"
    }
  },
  "nbformat": 4,
  "nbformat_minor": 0
}